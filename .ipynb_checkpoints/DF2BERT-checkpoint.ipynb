{
 "cells": [
  {
   "cell_type": "code",
   "execution_count": 1,
   "metadata": {
    "scrolled": true
   },
   "outputs": [
    {
     "name": "stderr",
     "output_type": "stream",
     "text": [
      "C:\\Users\\MrBonBon\\Miniconda3\\lib\\site-packages\\tensorflow\\python\\framework\\dtypes.py:516: FutureWarning: Passing (type, 1) or '1type' as a synonym of type is deprecated; in a future version of numpy, it will be understood as (type, (1,)) / '(1,)type'.\n",
      "  _np_qint8 = np.dtype([(\"qint8\", np.int8, 1)])\n",
      "C:\\Users\\MrBonBon\\Miniconda3\\lib\\site-packages\\tensorflow\\python\\framework\\dtypes.py:517: FutureWarning: Passing (type, 1) or '1type' as a synonym of type is deprecated; in a future version of numpy, it will be understood as (type, (1,)) / '(1,)type'.\n",
      "  _np_quint8 = np.dtype([(\"quint8\", np.uint8, 1)])\n",
      "C:\\Users\\MrBonBon\\Miniconda3\\lib\\site-packages\\tensorflow\\python\\framework\\dtypes.py:518: FutureWarning: Passing (type, 1) or '1type' as a synonym of type is deprecated; in a future version of numpy, it will be understood as (type, (1,)) / '(1,)type'.\n",
      "  _np_qint16 = np.dtype([(\"qint16\", np.int16, 1)])\n",
      "C:\\Users\\MrBonBon\\Miniconda3\\lib\\site-packages\\tensorflow\\python\\framework\\dtypes.py:519: FutureWarning: Passing (type, 1) or '1type' as a synonym of type is deprecated; in a future version of numpy, it will be understood as (type, (1,)) / '(1,)type'.\n",
      "  _np_quint16 = np.dtype([(\"quint16\", np.uint16, 1)])\n",
      "C:\\Users\\MrBonBon\\Miniconda3\\lib\\site-packages\\tensorflow\\python\\framework\\dtypes.py:520: FutureWarning: Passing (type, 1) or '1type' as a synonym of type is deprecated; in a future version of numpy, it will be understood as (type, (1,)) / '(1,)type'.\n",
      "  _np_qint32 = np.dtype([(\"qint32\", np.int32, 1)])\n",
      "C:\\Users\\MrBonBon\\Miniconda3\\lib\\site-packages\\tensorflow\\python\\framework\\dtypes.py:525: FutureWarning: Passing (type, 1) or '1type' as a synonym of type is deprecated; in a future version of numpy, it will be understood as (type, (1,)) / '(1,)type'.\n",
      "  np_resource = np.dtype([(\"resource\", np.ubyte, 1)])\n",
      "C:\\Users\\MrBonBon\\Miniconda3\\lib\\site-packages\\tensorboard\\compat\\tensorflow_stub\\dtypes.py:541: FutureWarning: Passing (type, 1) or '1type' as a synonym of type is deprecated; in a future version of numpy, it will be understood as (type, (1,)) / '(1,)type'.\n",
      "  _np_qint8 = np.dtype([(\"qint8\", np.int8, 1)])\n",
      "C:\\Users\\MrBonBon\\Miniconda3\\lib\\site-packages\\tensorboard\\compat\\tensorflow_stub\\dtypes.py:542: FutureWarning: Passing (type, 1) or '1type' as a synonym of type is deprecated; in a future version of numpy, it will be understood as (type, (1,)) / '(1,)type'.\n",
      "  _np_quint8 = np.dtype([(\"quint8\", np.uint8, 1)])\n",
      "C:\\Users\\MrBonBon\\Miniconda3\\lib\\site-packages\\tensorboard\\compat\\tensorflow_stub\\dtypes.py:543: FutureWarning: Passing (type, 1) or '1type' as a synonym of type is deprecated; in a future version of numpy, it will be understood as (type, (1,)) / '(1,)type'.\n",
      "  _np_qint16 = np.dtype([(\"qint16\", np.int16, 1)])\n",
      "C:\\Users\\MrBonBon\\Miniconda3\\lib\\site-packages\\tensorboard\\compat\\tensorflow_stub\\dtypes.py:544: FutureWarning: Passing (type, 1) or '1type' as a synonym of type is deprecated; in a future version of numpy, it will be understood as (type, (1,)) / '(1,)type'.\n",
      "  _np_quint16 = np.dtype([(\"quint16\", np.uint16, 1)])\n",
      "C:\\Users\\MrBonBon\\Miniconda3\\lib\\site-packages\\tensorboard\\compat\\tensorflow_stub\\dtypes.py:545: FutureWarning: Passing (type, 1) or '1type' as a synonym of type is deprecated; in a future version of numpy, it will be understood as (type, (1,)) / '(1,)type'.\n",
      "  _np_qint32 = np.dtype([(\"qint32\", np.int32, 1)])\n",
      "C:\\Users\\MrBonBon\\Miniconda3\\lib\\site-packages\\tensorboard\\compat\\tensorflow_stub\\dtypes.py:550: FutureWarning: Passing (type, 1) or '1type' as a synonym of type is deprecated; in a future version of numpy, it will be understood as (type, (1,)) / '(1,)type'.\n",
      "  np_resource = np.dtype([(\"resource\", np.ubyte, 1)])\n",
      "Using TensorFlow backend.\n"
     ]
    },
    {
     "data": {
      "text/plain": [
       "'GeForce GTX 1070'"
      ]
     },
     "execution_count": 1,
     "metadata": {},
     "output_type": "execute_result"
    }
   ],
   "source": [
    "import tensorflow as tf\n",
    "import tensorflow_hub as hub\n",
    "import pandas as pd\n",
    "import numpy as np\n",
    "import torch\n",
    "import transformers\n",
    "import inspect\n",
    "import time\n",
    "import logging\n",
    "import tmunlp as nlp\n",
    "\n",
    "from tqdm import trange, tqdm, tqdm_notebook, tqdm_pandas, tqdm_gui\n",
    "from datetime import datetime\n",
    "from tqdm import tqdm\n",
    "from transformers import BertConfig, BertModel, BertTokenizer, BertForSequenceClassification, AdamW, BertPreTrainedModel\n",
    "from transformers import get_constant_schedule_with_warmup\n",
    "from torch.utils.data import TensorDataset, DataLoader, RandomSampler, SequentialSampler\n",
    "from keras.preprocessing.sequence import pad_sequences\n",
    "from sklearn.metrics import classification_report, accuracy_score, f1_score\n",
    "from torch import nn\n",
    "\n",
    "device = torch.device(\"cuda\" if torch.cuda.is_available() else \"cpu\")\n",
    "#torch.cuda.get_device_name(0)\n"
   ]
  },
  {
   "cell_type": "markdown",
   "metadata": {},
   "source": [
    "# 1. Load data & pre-processing"
   ]
  },
  {
   "cell_type": "code",
   "execution_count": 2,
   "metadata": {},
   "outputs": [
    {
     "name": "stdout",
     "output_type": "stream",
     "text": [
      "Train data:\n",
      "                                            sentence  sentiment  polarity\n",
      "0  this is a very bland and inert production of o...          2         0\n",
      "1  i've seen this film in avant-premiere at imagi...          7         1\n",
      "2  revolt of the zombies (2 outta 5 stars) no, th...          4         0\n",
      "3  may contain minor spoilers.dressed to kill, ha...          7         1\n",
      "4  (spoilers)i shoulda figured. the dvd didn't ev...          2         0\n",
      "\n",
      "Test data:\n",
      "                                            sentence  sentiment  polarity\n",
      "0  i loved this movie so much. i'm a big fan of a...         10         1\n",
      "1  the stark, cold landscape of big sky country, ...          9         1\n",
      "2  this cheapo exploitation flick is some genuine...          2         0\n",
      "3  this movie has been promoting in everywhere in...          1         0\n",
      "4  this is a great off-the-wall romantic comedy a...          8         1\n"
     ]
    }
   ],
   "source": [
    "def preprocessing(df):\n",
    "    \"\"\"\n",
    "    Preprocessing step\n",
    "    As above dataframe heads, there is a lot of <br /> character \n",
    "    \"\"\"\n",
    "    df.sentence = df.sentence.str.replace('<br />','')\n",
    "    df.sentence = df.sentence.str.lower()\n",
    "    return df\n",
    "\n",
    "train = pd.read_csv('./dataset/imdb/train.csv')\n",
    "test = pd.read_csv('./dataset/imdb/test.csv')\n",
    "\n",
    "train = preprocessing(train)\n",
    "test = preprocessing(test)\n",
    "\n",
    "print('Train data:\\n{}\\n\\nTest data:\\n{}'.format(train.head(5), test.head(5)))"
   ]
  },
  {
   "cell_type": "markdown",
   "metadata": {},
   "source": [
    "# 2. Build model"
   ]
  },
  {
   "cell_type": "code",
   "execution_count": 3,
   "metadata": {},
   "outputs": [
    {
     "data": {
      "text/plain": [
       "{\n",
       "  \"attention_probs_dropout_prob\": 0.1,\n",
       "  \"finetuning_task\": null,\n",
       "  \"hidden_act\": \"gelu\",\n",
       "  \"hidden_dropout_prob\": 0.1,\n",
       "  \"hidden_size\": 768,\n",
       "  \"initializer_range\": 0.02,\n",
       "  \"intermediate_size\": 3072,\n",
       "  \"is_decoder\": false,\n",
       "  \"layer_norm_eps\": 1e-12,\n",
       "  \"max_position_embeddings\": 512,\n",
       "  \"num_attention_heads\": 12,\n",
       "  \"num_hidden_layers\": 12,\n",
       "  \"num_labels\": 2,\n",
       "  \"output_attentions\": false,\n",
       "  \"output_hidden_states\": true,\n",
       "  \"output_past\": true,\n",
       "  \"pruned_heads\": {},\n",
       "  \"torchscript\": false,\n",
       "  \"type_vocab_size\": 2,\n",
       "  \"use_bfloat16\": false,\n",
       "  \"vocab_size\": 30522\n",
       "}"
      ]
     },
     "execution_count": 3,
     "metadata": {},
     "output_type": "execute_result"
    }
   ],
   "source": [
    "class BertModelBonz():\n",
    "    def __init__(self, load_model=None, load_config=None, model='bert-base-uncased', max_len=512, batch_size=6):\n",
    "        self.pre_trained_model = model\n",
    "        self.config = load_config\n",
    "        self.max_len = self.config.max_position_embeddings\n",
    "        self.batch_size = batch_size\n",
    "        \n",
    "        self.tokenizer = BertTokenizer.from_pretrained(self.pre_trained_model)\n",
    "        self.tokenizer.max_len = max_len\n",
    "        \n",
    "        self.model = BertForSequenceClassification(config=self.config)\n",
    "        #self.model = BertForSequenceClassification.from_pretrained(self.pre_trained_model, config=self.config)\n",
    "        self.optimizer = AdamW(params = self.model.parameters(), lr=1e-5)\n",
    "    \n",
    "    def create_ids(self, sentences):\n",
    "        logging.getLogger(\"transformers.tokenization_utils\").setLevel(logging.ERROR) #Disable tokenizer logs, it's really annoy\n",
    "        input_ids = []\n",
    "        for sen in tqdm_notebook(sentences, desc=\"Create Ids\"):\n",
    "            tmp = self.tokenizer.encode(sen)\n",
    "            input_ids.append(tmp)\n",
    "        input_ids = pad_sequences(input_ids, \n",
    "                                  maxlen=self.max_len, \n",
    "                                  dtype='int64', \n",
    "                                  truncating='post', \n",
    "                                  padding='post')\n",
    "        return input_ids\n",
    "    \n",
    "    def prepare_data(self, input_ids, input_labels=None):\n",
    "        input_ids = torch.tensor(self.create_ids(input_ids))\n",
    "        if input_labels is None:\n",
    "            return DataLoader(TensorDataset(input_ids), \n",
    "                              batch_size=self.batch_size)\n",
    "        else:\n",
    "            input_labels = torch.tensor(input_labels)\n",
    "            return DataLoader(TensorDataset(input_ids, input_labels), \n",
    "                              batch_size=self.batch_size)\n",
    "        \n",
    "    def flat_accuracy(self, preds, labels):\n",
    "        pred_flat = np.argmax(preds, axis=1).flatten()\n",
    "        labels_flat = labels.flatten()\n",
    "        return np.sum(pred_flat == labels_flat) / len(labels_flat)\n",
    "    \n",
    "    def train(self, dataloader, epochs=4):\n",
    "        self.train_loss_set =[]\n",
    "        for i in trange(epochs, desc=\"Epoch\"):\n",
    "            # Training model\n",
    "            self.model.to(device)\n",
    "            self.model.train()\n",
    "            tr_loss = 0\n",
    "            nb_tr_examples, nb_tr_steps = 0, 0\n",
    "            for input_ids, input_labels in tqdm_notebook(dataloader):\n",
    "                self.optimizer.zero_grad()\n",
    "                loss = self.model(input_ids=input_ids.cuda(), labels=input_labels.cuda())[0]\n",
    "                self.train_loss_set.append(loss)    \n",
    "                loss.backward()\n",
    "                self.optimizer.step()\n",
    "                \n",
    "                tr_loss += loss.item()\n",
    "                nb_tr_examples += input_ids.size(0)\n",
    "                nb_tr_steps += 1\n",
    "            print(\"Train loss: {}\".format(tr_loss/nb_tr_steps))\n",
    "\n",
    "            # Evaluation\n",
    "            self.model.eval()\n",
    "            eval_loss, eval_accuracy = 0, 0\n",
    "            nb_eval_steps, nb_eval_examples = 0, 0\n",
    "            for input_ids, input_labels in dataloader:\n",
    "                with torch.no_grad():\n",
    "                    logits = self.model(input_ids.cuda())[0]\n",
    "                logits = logits.detach().cpu().numpy()\n",
    "                label_ids = input_labels.to('cpu').numpy()\n",
    "                tmp_eval_accuracy = self.flat_accuracy(logits, label_ids)\n",
    "                eval_accuracy += tmp_eval_accuracy\n",
    "                nb_eval_steps += 1\n",
    "            print(\"Validation Accuracy: {}\".format(eval_accuracy/nb_eval_steps))\n",
    "            \n",
    "            '''\n",
    "            #Save model for each epoch:\n",
    "            filename = 'bert_512_epoch'+str(i)+'.sd'\n",
    "            filepath = './model/bert/'+filename\n",
    "            torch.save(self.model.state_dict(), filepath)\n",
    "            '''\n",
    "    def generate_cls_vectors(self, dataloader):\n",
    "        self.model.to('cuda')\n",
    "        self.model.eval()\n",
    "        cls_vectors = []\n",
    "        for input_ids, input_labels in tqdm_notebook(dataloader):\n",
    "            with torch.no_grad():\n",
    "                outputs = self.model(input_ids.cuda())\n",
    "                last_hidden_layer = outputs[1][12]\n",
    "                cls_vector = last_hidden_layer[:,0,:]\n",
    "            cls_vector = cls_vector.detach().cpu().numpy()\n",
    "            cls_vectors.extend(cls_vector)\n",
    "        return cls_vectors\n",
    "                \n",
    "    \n",
    "    def predict(self, test_data, test_labels):\n",
    "        test_ids = self.create_ids(test_data)\n",
    "        test_inputs = torch.tensor(test_ids)\n",
    "        test_dataloader = DataLoader(test_inputs, batch_size=self.batch_size)\n",
    "        \n",
    "        # Preditcion\n",
    "        self.model.to(device)\n",
    "        self.model.eval()\n",
    "        self.predictions = []\n",
    "        for input_ids in tqdm_notebook(test_dataloader, desc=\"Predicting\"):\n",
    "            with torch.no_grad():\n",
    "                logits = self.model(input_ids.to(device))[0] #This is for generate predict only\n",
    "            logits = logits.detach().cpu().numpy()\n",
    "            self.predictions.append(logits)\n",
    "        return self.predictions\n",
    "        self.predictions = [j for i in self.predictions for j in i]\n",
    "        self.predictions = np.argmax(self.predictions, axis=1)\n",
    "        print(classification_report(self.predictions, test_labels, digits=4))\n",
    "\n",
    "        \n",
    "        \n",
    "#Create model\n",
    "config = BertConfig(output_hidden_states=True, max_position_embeddings=512)\n",
    "bert_model = BertModelBonz(load_config=config, batch_size=6)\n",
    "bert_model.model.config"
   ]
  },
  {
   "cell_type": "markdown",
   "metadata": {},
   "source": [
    "## 2.1. Create train & test dataloader"
   ]
  },
  {
   "cell_type": "code",
   "execution_count": 4,
   "metadata": {},
   "outputs": [
    {
     "data": {
      "application/vnd.jupyter.widget-view+json": {
       "model_id": "afd264e66fef4a53b62cbb95254a0719",
       "version_major": 2,
       "version_minor": 0
      },
      "text/plain": [
       "HBox(children=(IntProgress(value=0, description='Create Ids', max=25000, style=ProgressStyle(description_width…"
      ]
     },
     "metadata": {},
     "output_type": "display_data"
    },
    {
     "name": "stdout",
     "output_type": "stream",
     "text": [
      "\n"
     ]
    },
    {
     "data": {
      "application/vnd.jupyter.widget-view+json": {
       "model_id": "5d82e96e39fb45908afab1a4759cc36b",
       "version_major": 2,
       "version_minor": 0
      },
      "text/plain": [
       "HBox(children=(IntProgress(value=0, description='Create Ids', max=25000, style=ProgressStyle(description_width…"
      ]
     },
     "metadata": {},
     "output_type": "display_data"
    },
    {
     "name": "stdout",
     "output_type": "stream",
     "text": [
      "\n"
     ]
    }
   ],
   "source": [
    "NUM_DATA = 25000\n",
    "\n",
    "train_dataloader = bert_model.prepare_data(input_ids=train.sentence[:NUM_DATA], input_labels=train.polarity[:NUM_DATA])\n",
    "test_dataloader = bert_model.prepare_data(input_ids=test.sentence[:NUM_DATA], input_labels=test.polarity[:NUM_DATA])"
   ]
  },
  {
   "cell_type": "markdown",
   "metadata": {},
   "source": [
    "## 2.2. Train model"
   ]
  },
  {
   "cell_type": "code",
   "execution_count": 6,
   "metadata": {
    "scrolled": true
   },
   "outputs": [
    {
     "name": "stderr",
     "output_type": "stream",
     "text": [
      "\r",
      "Epoch:   0%|                                                                                     | 0/4 [00:00<?, ?it/s]"
     ]
    },
    {
     "data": {
      "application/vnd.jupyter.widget-view+json": {
       "model_id": "92944b266eeb40e7bc85563890b826fa",
       "version_major": 2,
       "version_minor": 0
      },
      "text/plain": [
       "HBox(children=(IntProgress(value=0, max=4167), HTML(value='')))"
      ]
     },
     "metadata": {},
     "output_type": "display_data"
    },
    {
     "name": "stdout",
     "output_type": "stream",
     "text": [
      "\n",
      "Train loss: 0.704374572213445\n",
      "Validation Accuracy: 0.49998000159987244\n"
     ]
    },
    {
     "name": "stderr",
     "output_type": "stream",
     "text": [
      "\r",
      "Epoch:  25%|██████████████████▎                                                      | 1/4 [30:56<1:32:49, 1856.49s/it]"
     ]
    },
    {
     "data": {
      "application/vnd.jupyter.widget-view+json": {
       "model_id": "d762e6d0e6a6408588877fb90ea38b27",
       "version_major": 2,
       "version_minor": 0
      },
      "text/plain": [
       "HBox(children=(IntProgress(value=0, max=4167), HTML(value='')))"
      ]
     },
     "metadata": {},
     "output_type": "display_data"
    },
    {
     "name": "stdout",
     "output_type": "stream",
     "text": [
      "\n",
      "Train loss: 0.7009197178506611\n",
      "Validation Accuracy: 0.49998000159987244\n"
     ]
    },
    {
     "name": "stderr",
     "output_type": "stream",
     "text": [
      "\r",
      "Epoch:  50%|███████████████████████████████████▌                                   | 2/4 [1:01:51<1:01:52, 1856.15s/it]"
     ]
    },
    {
     "data": {
      "application/vnd.jupyter.widget-view+json": {
       "model_id": "565d42bb9bd348089417d90344e93e9b",
       "version_major": 2,
       "version_minor": 0
      },
      "text/plain": [
       "HBox(children=(IntProgress(value=0, max=4167), HTML(value='')))"
      ]
     },
     "metadata": {},
     "output_type": "display_data"
    },
    {
     "name": "stdout",
     "output_type": "stream",
     "text": [
      "\n",
      "Train loss: 0.7004017656530898\n",
      "Validation Accuracy: 0.49998000159987244\n"
     ]
    },
    {
     "name": "stderr",
     "output_type": "stream",
     "text": [
      "\r",
      "Epoch:  75%|██████████████████████████████████████████████████████▊                  | 3/4 [1:32:40<30:53, 1853.82s/it]"
     ]
    },
    {
     "data": {
      "application/vnd.jupyter.widget-view+json": {
       "model_id": "f2d6990a996e4f0c9581d11995374d48",
       "version_major": 2,
       "version_minor": 0
      },
      "text/plain": [
       "HBox(children=(IntProgress(value=0, max=4167), HTML(value='')))"
      ]
     },
     "metadata": {},
     "output_type": "display_data"
    },
    {
     "name": "stdout",
     "output_type": "stream",
     "text": [
      "\n",
      "Train loss: 0.6998716865851492\n",
      "Validation Accuracy: 0.49998000159987244\n"
     ]
    },
    {
     "name": "stderr",
     "output_type": "stream",
     "text": [
      "Epoch: 100%|█████████████████████████████████████████████████████████████████████████| 4/4 [2:03:29<00:00, 1852.49s/it]\n"
     ]
    }
   ],
   "source": [
    "#Train model\n",
    "\n",
    "bert_model.train(train_dataloader)\n",
    "#torch.save(bert_model.model, 'bert_eb1024_1e5_e4.pth')\n",
    "\n",
    "\n"
   ]
  },
  {
   "cell_type": "markdown",
   "metadata": {},
   "source": [
    "## 2.3. Predict test data"
   ]
  },
  {
   "cell_type": "code",
   "execution_count": 8,
   "metadata": {
    "scrolled": true
   },
   "outputs": [
    {
     "name": "stdout",
     "output_type": "stream",
     "text": [
      "Model  bert_512_epoch0.sd :\n"
     ]
    },
    {
     "data": {
      "application/vnd.jupyter.widget-view+json": {
       "model_id": "73e6b4b403a04ac4af1440d73a9a2d73",
       "version_major": 2,
       "version_minor": 0
      },
      "text/plain": [
       "HBox(children=(IntProgress(value=0, description='Create Ids', max=25000, style=ProgressStyle(description_width…"
      ]
     },
     "metadata": {},
     "output_type": "display_data"
    },
    {
     "name": "stdout",
     "output_type": "stream",
     "text": [
      "\n"
     ]
    },
    {
     "data": {
      "application/vnd.jupyter.widget-view+json": {
       "model_id": "f9859335ab3e447bad17a459a895c5e7",
       "version_major": 2,
       "version_minor": 0
      },
      "text/plain": [
       "HBox(children=(IntProgress(value=0, description='Predicting', max=4167, style=ProgressStyle(description_width=…"
      ]
     },
     "metadata": {},
     "output_type": "display_data"
    },
    {
     "name": "stdout",
     "output_type": "stream",
     "text": [
      "\n",
      "              precision    recall  f1-score   support\n",
      "\n",
      "           0     0.9084    0.9448    0.9262     12019\n",
      "           1     0.9469    0.9118    0.9290     12981\n",
      "\n",
      "   micro avg     0.9276    0.9276    0.9276     25000\n",
      "   macro avg     0.9276    0.9283    0.9276     25000\n",
      "weighted avg     0.9284    0.9276    0.9277     25000\n",
      "\n",
      "Model  bert_512_epoch1.sd :\n"
     ]
    },
    {
     "data": {
      "application/vnd.jupyter.widget-view+json": {
       "model_id": "90eba31506644c8090f2fed704692d61",
       "version_major": 2,
       "version_minor": 0
      },
      "text/plain": [
       "HBox(children=(IntProgress(value=0, description='Create Ids', max=25000, style=ProgressStyle(description_width…"
      ]
     },
     "metadata": {},
     "output_type": "display_data"
    },
    {
     "name": "stdout",
     "output_type": "stream",
     "text": [
      "\n"
     ]
    },
    {
     "data": {
      "application/vnd.jupyter.widget-view+json": {
       "model_id": "9a4d31e2277640bf9478e571f2bfac18",
       "version_major": 2,
       "version_minor": 0
      },
      "text/plain": [
       "HBox(children=(IntProgress(value=0, description='Predicting', max=4167, style=ProgressStyle(description_width=…"
      ]
     },
     "metadata": {},
     "output_type": "display_data"
    },
    {
     "name": "stdout",
     "output_type": "stream",
     "text": [
      "\n",
      "              precision    recall  f1-score   support\n",
      "\n",
      "           0     0.9376    0.9228    0.9301     12701\n",
      "           1     0.9215    0.9366    0.9290     12299\n",
      "\n",
      "   micro avg     0.9296    0.9296    0.9296     25000\n",
      "   macro avg     0.9296    0.9297    0.9296     25000\n",
      "weighted avg     0.9297    0.9296    0.9296     25000\n",
      "\n",
      "Model  bert_512_epoch2.sd :\n"
     ]
    },
    {
     "data": {
      "application/vnd.jupyter.widget-view+json": {
       "model_id": "234e18eef92046078296b37430e50f31",
       "version_major": 2,
       "version_minor": 0
      },
      "text/plain": [
       "HBox(children=(IntProgress(value=0, description='Create Ids', max=25000, style=ProgressStyle(description_width…"
      ]
     },
     "metadata": {},
     "output_type": "display_data"
    },
    {
     "name": "stdout",
     "output_type": "stream",
     "text": [
      "\n"
     ]
    },
    {
     "data": {
      "application/vnd.jupyter.widget-view+json": {
       "model_id": "9b14122e3984426f9857d88df5d75b3a",
       "version_major": 2,
       "version_minor": 0
      },
      "text/plain": [
       "HBox(children=(IntProgress(value=0, description='Predicting', max=4167, style=ProgressStyle(description_width=…"
      ]
     },
     "metadata": {},
     "output_type": "display_data"
    },
    {
     "name": "stdout",
     "output_type": "stream",
     "text": [
      "\n",
      "              precision    recall  f1-score   support\n",
      "\n",
      "           0     0.9002    0.9581    0.9282     11744\n",
      "           1     0.9606    0.9059    0.9324     13256\n",
      "\n",
      "   micro avg     0.9304    0.9304    0.9304     25000\n",
      "   macro avg     0.9304    0.9320    0.9303     25000\n",
      "weighted avg     0.9322    0.9304    0.9305     25000\n",
      "\n",
      "Model  bert_512_epoch3.sd :\n"
     ]
    },
    {
     "data": {
      "application/vnd.jupyter.widget-view+json": {
       "model_id": "b55a48cf516e487186ebd3e3c834a8b3",
       "version_major": 2,
       "version_minor": 0
      },
      "text/plain": [
       "HBox(children=(IntProgress(value=0, description='Create Ids', max=25000, style=ProgressStyle(description_width…"
      ]
     },
     "metadata": {},
     "output_type": "display_data"
    },
    {
     "name": "stdout",
     "output_type": "stream",
     "text": [
      "\n"
     ]
    },
    {
     "data": {
      "application/vnd.jupyter.widget-view+json": {
       "model_id": "81d00dfe05384049a313db06061f4cf9",
       "version_major": 2,
       "version_minor": 0
      },
      "text/plain": [
       "HBox(children=(IntProgress(value=0, description='Predicting', max=4167, style=ProgressStyle(description_width=…"
      ]
     },
     "metadata": {},
     "output_type": "display_data"
    },
    {
     "name": "stdout",
     "output_type": "stream",
     "text": [
      "\n",
      "              precision    recall  f1-score   support\n",
      "\n",
      "           0     0.9211    0.9444    0.9326     12192\n",
      "           1     0.9458    0.9230    0.9343     12808\n",
      "\n",
      "   micro avg     0.9334    0.9334    0.9334     25000\n",
      "   macro avg     0.9334    0.9337    0.9334     25000\n",
      "weighted avg     0.9337    0.9334    0.9335     25000\n",
      "\n"
     ]
    }
   ],
   "source": [
    "for i in range(4):\n",
    "    filename = 'bert_512_epoch'+str(i)+'.sd'\n",
    "    filepath = './model/bert/'+filename\n",
    "    bert_model.model.load_state_dict(torch.load(filepath))\n",
    "    bert_model.model.eval()\n",
    "    print('Model ',filename,':')\n",
    "    bert_model.predict(test_data=test.sentence, test_labels=test.polarity)"
   ]
  },
  {
   "cell_type": "markdown",
   "metadata": {},
   "source": [
    "## 2.4. Generate CLS vectors"
   ]
  },
  {
   "cell_type": "code",
   "execution_count": 50,
   "metadata": {},
   "outputs": [
    {
     "data": {
      "application/vnd.jupyter.widget-view+json": {
       "model_id": "e53de1a77d5042de8b9f58d86fdbfead",
       "version_major": 2,
       "version_minor": 0
      },
      "text/plain": [
       "HBox(children=(IntProgress(value=0, max=4167), HTML(value='')))"
      ]
     },
     "metadata": {},
     "output_type": "display_data"
    },
    {
     "name": "stdout",
     "output_type": "stream",
     "text": [
      "\n"
     ]
    },
    {
     "data": {
      "application/vnd.jupyter.widget-view+json": {
       "model_id": "31f8038b7246456481e47be09c574d85",
       "version_major": 2,
       "version_minor": 0
      },
      "text/plain": [
       "HBox(children=(IntProgress(value=0, max=4167), HTML(value='')))"
      ]
     },
     "metadata": {},
     "output_type": "display_data"
    },
    {
     "name": "stdout",
     "output_type": "stream",
     "text": [
      "\n"
     ]
    }
   ],
   "source": [
    "# Load state dict from trained model\n",
    "filepath = './model/bert/bert_512_epoch2.sd'\n",
    "bert_model.model.load_state_dict(torch.load(filepath))\n",
    "\n",
    "cls_vectors = bert_model.generate_cls_vectors(train_dataloader)\n",
    "cls_vectors_test = bert_model.generate_cls_vectors(test_dataloader)"
   ]
  },
  {
   "cell_type": "markdown",
   "metadata": {},
   "source": [
    "# 3. Feature Extraction with TMUNLP"
   ]
  },
  {
   "cell_type": "markdown",
   "metadata": {},
   "source": [
    "## 3.1. Build negative & positive vectors"
   ]
  },
  {
   "cell_type": "code",
   "execution_count": 24,
   "metadata": {
    "scrolled": true
   },
   "outputs": [],
   "source": [
    "result = nlp.get_label_term_weighting('tmunlp_file.txt', ['0','1'])\n",
    "VECTOR_LEN = 50\n",
    "\n",
    "#Create negative word list\n",
    "negative_list =  nlp.get_keyword('0', result, VECTOR_LEN)\n",
    "temp_max = negative_list[list(negative_list.keys())[0]]\n",
    "for i in negative_list.keys():\n",
    "    negative_list[i] = negative_list[i] #/ temp_max\n",
    "\n",
    "\n",
    "#Create postive word list\n",
    "positive_list =  nlp.get_keyword('1', result, VECTOR_LEN)\n",
    "temp_max = positive_list[list(positive_list.keys())[0]]\n",
    "for i in positive_list.keys():\n",
    "    positive_list[i] = positive_list[i] #/ temp_max\n",
    "\n",
    "\n",
    "\n",
    "def embedding_1hot(df, words):\n",
    "    arr = []\n",
    "    for i in range(df.shape[0]):\n",
    "        temp = [words[word] if word in df.sentence[i] else 0 for word in words.keys()]\n",
    "        arr.append(temp)\n",
    "    return arr\n",
    "\n",
    "train['negative_embedding'] = embedding_1hot(train, negative_list)\n",
    "train['positive_embedding'] = embedding_1hot(train, positive_list)\n",
    "\n",
    "test['negative_embedding'] = embedding_1hot(test, negative_list)\n",
    "test['positive_embedding'] = embedding_1hot(test, positive_list)\n"
   ]
  },
  {
   "cell_type": "markdown",
   "metadata": {},
   "source": [
    "## 3.2. Build bert_llr model"
   ]
  },
  {
   "cell_type": "code",
   "execution_count": 29,
   "metadata": {},
   "outputs": [
    {
     "data": {
      "text/plain": [
       "BertLLR(\n",
       "  (bert): Linear(in_features=768, out_features=768, bias=True)\n",
       "  (bert_activation): Tanh()\n",
       "  (llr): Linear(in_features=100, out_features=100, bias=True)\n",
       "  (llr_activation): Tanh()\n",
       "  (dropout): Dropout(p=0.1, inplace=False)\n",
       "  (classifier): Linear(in_features=868, out_features=2, bias=True)\n",
       ")"
      ]
     },
     "execution_count": 29,
     "metadata": {},
     "output_type": "execute_result"
    }
   ],
   "source": [
    "class BertLLR(nn.Module):\n",
    "    def __init__(self, VECTOR_LEN):\n",
    "        super(BertLLR, self).__init__()\n",
    "        self.bert = nn.Linear(768,768)\n",
    "        self.bert_activation = nn.Tanh()\n",
    "        \n",
    "        self.llr = nn.Linear(2*VECTOR_LEN, 2*VECTOR_LEN)\n",
    "        self.llr_activation = nn.Tanh()\n",
    "        \n",
    "        self.dropout = nn.Dropout(0.1)\n",
    "        \n",
    "        self.classifier = nn.Linear(768+2*VECTOR_LEN, 2)\n",
    "    \n",
    "    def forward(self, cls_vectors=None, neg_embed=None, pos_embed=None, labels=None):\n",
    "        tanh_cls_vectors = self.bert_activation(self.bert(cls_vectors))\n",
    "        \n",
    "        llr_vectors = torch.cat([neg_embed, pos_embed], dim=1)\n",
    "        tanh_llr_vectors = self.llr_activation(self.llr(llr_vectors))\n",
    "        \n",
    "        concat_vectors = torch.cat([tanh_cls_vectors, tanh_llr_vectors], dim=1)\n",
    "        concat_vectors = self.dropout(concat_vectors)\n",
    "        \n",
    "        logits = self.classifier(concat_vectors)\n",
    "        \n",
    "        if labels is not None:\n",
    "            loss_fct = nn.CrossEntropyLoss()\n",
    "            loss = loss_fct(logits.view(-1, 2), labels.view(-1))\n",
    "            outputs = (logits, loss)\n",
    "        else:\n",
    "            outputs = (logits,)\n",
    "        \n",
    "        return outputs\n",
    "    \n",
    "bert_llr_model = BertLLR(VECTOR_LEN)\n",
    "bert_llr_optimizer = torch.optim.Adam(params = bert_llr_model.parameters(), \n",
    "                                      lr = 1e-4\n",
    "                                     )\n",
    "\n",
    "\n",
    "bert_llr_model   "
   ]
  },
  {
   "cell_type": "markdown",
   "metadata": {},
   "source": [
    "## 3.3. Train bert_llr model"
   ]
  },
  {
   "cell_type": "code",
   "execution_count": 31,
   "metadata": {
    "scrolled": true
   },
   "outputs": [
    {
     "name": "stderr",
     "output_type": "stream",
     "text": [
      "Training: 100%|███████████████████████████████████████████████████████████████████| 1563/1563 [00:10<00:00, 150.93it/s]\n",
      "Predicting: 100%|█████████████████████████████████████████████████████████████████| 1563/1563 [00:01<00:00, 911.28it/s]\n",
      "Predicting: 100%|█████████████████████████████████████████████████████████████████| 1563/1563 [00:01<00:00, 883.03it/s]\n"
     ]
    },
    {
     "name": "stdout",
     "output_type": "stream",
     "text": [
      "Train loss:  0.3095645647965519\n",
      "Train accuracy:  0.86768\n",
      "              precision    recall  f1-score   support\n",
      "\n",
      "           0     0.8982    0.8089    0.8513     13880\n",
      "           1     0.7878    0.8856    0.8339     11120\n",
      "\n",
      "   micro avg     0.8430    0.8430    0.8430     25000\n",
      "   macro avg     0.8430    0.8473    0.8426     25000\n",
      "weighted avg     0.8491    0.8430    0.8435     25000\n",
      "\n"
     ]
    },
    {
     "name": "stderr",
     "output_type": "stream",
     "text": [
      "Training: 100%|███████████████████████████████████████████████████████████████████| 1563/1563 [00:09<00:00, 170.13it/s]\n",
      "Predicting: 100%|█████████████████████████████████████████████████████████████████| 1563/1563 [00:01<00:00, 914.02it/s]\n",
      "Predicting: 100%|█████████████████████████████████████████████████████████████████| 1563/1563 [00:01<00:00, 965.24it/s]\n"
     ]
    },
    {
     "name": "stdout",
     "output_type": "stream",
     "text": [
      "Train loss:  0.30776681377053716\n",
      "Train accuracy:  0.8684\n",
      "              precision    recall  f1-score   support\n",
      "\n",
      "           0     0.9023    0.8063    0.8516     13988\n",
      "           1     0.7833    0.8891    0.8329     11012\n",
      "\n",
      "   micro avg     0.8428    0.8428    0.8428     25000\n",
      "   macro avg     0.8428    0.8477    0.8422     25000\n",
      "weighted avg     0.8499    0.8428    0.8434     25000\n",
      "\n"
     ]
    },
    {
     "name": "stderr",
     "output_type": "stream",
     "text": [
      "Training: 100%|███████████████████████████████████████████████████████████████████| 1563/1563 [00:08<00:00, 177.67it/s]\n",
      "Predicting: 100%|█████████████████████████████████████████████████████████████████| 1563/1563 [00:01<00:00, 897.71it/s]\n",
      "Predicting: 100%|█████████████████████████████████████████████████████████████████| 1563/1563 [00:01<00:00, 965.61it/s]\n"
     ]
    },
    {
     "name": "stdout",
     "output_type": "stream",
     "text": [
      "Train loss:  0.302912172618884\n",
      "Train accuracy:  0.86552\n",
      "              precision    recall  f1-score   support\n",
      "\n",
      "           0     0.9042    0.8018    0.8499     14096\n",
      "           1     0.7765    0.8901    0.8294     10904\n",
      "\n",
      "   micro avg     0.8403    0.8403    0.8403     25000\n",
      "   macro avg     0.8403    0.8460    0.8397     25000\n",
      "weighted avg     0.8485    0.8403    0.8410     25000\n",
      "\n"
     ]
    },
    {
     "name": "stderr",
     "output_type": "stream",
     "text": [
      "Training: 100%|███████████████████████████████████████████████████████████████████| 1563/1563 [00:10<00:00, 152.06it/s]\n",
      "Predicting: 100%|█████████████████████████████████████████████████████████████████| 1563/1563 [00:01<00:00, 903.01it/s]\n",
      "Predicting: 100%|█████████████████████████████████████████████████████████████████| 1563/1563 [00:01<00:00, 962.84it/s]\n"
     ]
    },
    {
     "name": "stdout",
     "output_type": "stream",
     "text": [
      "Train loss:  0.29937451148807276\n",
      "Train accuracy:  0.86432\n",
      "              precision    recall  f1-score   support\n",
      "\n",
      "           0     0.9079    0.7961    0.8483     14256\n",
      "           1     0.7674    0.8929    0.8254     10744\n",
      "\n",
      "   micro avg     0.8377    0.8377    0.8377     25000\n",
      "   macro avg     0.8377    0.8445    0.8369     25000\n",
      "weighted avg     0.8475    0.8377    0.8385     25000\n",
      "\n"
     ]
    },
    {
     "name": "stderr",
     "output_type": "stream",
     "text": [
      "Training: 100%|███████████████████████████████████████████████████████████████████| 1563/1563 [00:08<00:00, 175.37it/s]\n",
      "Predicting: 100%|█████████████████████████████████████████████████████████████████| 1563/1563 [00:01<00:00, 912.10it/s]\n",
      "Predicting: 100%|█████████████████████████████████████████████████████████████████| 1563/1563 [00:01<00:00, 976.73it/s]\n"
     ]
    },
    {
     "name": "stdout",
     "output_type": "stream",
     "text": [
      "Train loss:  0.29662561862087755\n",
      "Train accuracy:  0.86612\n",
      "              precision    recall  f1-score   support\n",
      "\n",
      "           0     0.9108    0.7968    0.8500     14289\n",
      "           1     0.7677    0.8959    0.8268     10711\n",
      "\n",
      "   micro avg     0.8392    0.8392    0.8392     25000\n",
      "   macro avg     0.8392    0.8463    0.8384     25000\n",
      "weighted avg     0.8495    0.8392    0.8401     25000\n",
      "\n"
     ]
    },
    {
     "name": "stderr",
     "output_type": "stream",
     "text": [
      "Training: 100%|███████████████████████████████████████████████████████████████████| 1563/1563 [00:09<00:00, 171.69it/s]\n",
      "Predicting: 100%|█████████████████████████████████████████████████████████████████| 1563/1563 [00:01<00:00, 930.84it/s]\n",
      "Predicting: 100%|█████████████████████████████████████████████████████████████████| 1563/1563 [00:01<00:00, 942.51it/s]\n"
     ]
    },
    {
     "name": "stdout",
     "output_type": "stream",
     "text": [
      "Train loss:  0.29312723814983516\n",
      "Train accuracy:  0.8724\n",
      "              precision    recall  f1-score   support\n",
      "\n",
      "           0     0.8999    0.8086    0.8518     13911\n",
      "           1     0.7870    0.8872    0.8341     11089\n",
      "\n",
      "   micro avg     0.8435    0.8435    0.8435     25000\n",
      "   macro avg     0.8435    0.8479    0.8430     25000\n",
      "weighted avg     0.8499    0.8435    0.8440     25000\n",
      "\n"
     ]
    },
    {
     "name": "stderr",
     "output_type": "stream",
     "text": [
      "Training: 100%|███████████████████████████████████████████████████████████████████| 1563/1563 [00:09<00:00, 167.82it/s]\n",
      "Predicting: 100%|█████████████████████████████████████████████████████████████████| 1563/1563 [00:01<00:00, 911.24it/s]\n",
      "Predicting: 100%|█████████████████████████████████████████████████████████████████| 1563/1563 [00:01<00:00, 940.87it/s]\n"
     ]
    },
    {
     "name": "stdout",
     "output_type": "stream",
     "text": [
      "Train loss:  0.292349987323095\n",
      "Train accuracy:  0.871\n",
      "              precision    recall  f1-score   support\n",
      "\n",
      "           0     0.9061    0.8018    0.8508     14125\n",
      "           1     0.7761    0.8920    0.8300     10875\n",
      "\n",
      "   micro avg     0.8411    0.8411    0.8411     25000\n",
      "   macro avg     0.8411    0.8469    0.8404     25000\n",
      "weighted avg     0.8495    0.8411    0.8418     25000\n",
      "\n"
     ]
    },
    {
     "name": "stderr",
     "output_type": "stream",
     "text": [
      "Training: 100%|███████████████████████████████████████████████████████████████████| 1563/1563 [00:09<00:00, 168.21it/s]\n",
      "Predicting: 100%|█████████████████████████████████████████████████████████████████| 1563/1563 [00:01<00:00, 908.40it/s]\n",
      "Predicting: 100%|█████████████████████████████████████████████████████████████████| 1563/1563 [00:01<00:00, 883.79it/s]\n"
     ]
    },
    {
     "name": "stdout",
     "output_type": "stream",
     "text": [
      "Train loss:  0.28838467504054555\n",
      "Train accuracy:  0.87836\n",
      "              precision    recall  f1-score   support\n",
      "\n",
      "           0     0.8958    0.8177    0.8550     13693\n",
      "           1     0.8003    0.8848    0.8404     11307\n",
      "\n",
      "   micro avg     0.8480    0.8480    0.8480     25000\n",
      "   macro avg     0.8480    0.8512    0.8477     25000\n",
      "weighted avg     0.8526    0.8480    0.8484     25000\n",
      "\n"
     ]
    },
    {
     "name": "stderr",
     "output_type": "stream",
     "text": [
      "Training: 100%|███████████████████████████████████████████████████████████████████| 1563/1563 [00:08<00:00, 191.93it/s]\n",
      "Predicting: 100%|█████████████████████████████████████████████████████████████████| 1563/1563 [00:01<00:00, 879.74it/s]\n",
      "Predicting: 100%|█████████████████████████████████████████████████████████████████| 1563/1563 [00:01<00:00, 951.31it/s]\n"
     ]
    },
    {
     "name": "stdout",
     "output_type": "stream",
     "text": [
      "Train loss:  0.28601858995840557\n",
      "Train accuracy:  0.87428\n",
      "              precision    recall  f1-score   support\n",
      "\n",
      "           0     0.9050    0.8030    0.8509     14088\n",
      "           1     0.7779    0.8911    0.8307     10912\n",
      "\n",
      "   micro avg     0.8414    0.8414    0.8414     25000\n",
      "   macro avg     0.8414    0.8470    0.8408     25000\n",
      "weighted avg     0.8495    0.8414    0.8421     25000\n",
      "\n"
     ]
    },
    {
     "name": "stderr",
     "output_type": "stream",
     "text": [
      "Training: 100%|███████████████████████████████████████████████████████████████████| 1563/1563 [00:08<00:00, 174.00it/s]\n",
      "Predicting: 100%|█████████████████████████████████████████████████████████████████| 1563/1563 [00:01<00:00, 904.18it/s]\n",
      "Predicting: 100%|█████████████████████████████████████████████████████████████████| 1563/1563 [00:01<00:00, 916.18it/s]\n"
     ]
    },
    {
     "name": "stdout",
     "output_type": "stream",
     "text": [
      "Train loss:  0.284379572040918\n",
      "Train accuracy:  0.87664\n",
      "              precision    recall  f1-score   support\n",
      "\n",
      "           0     0.9018    0.8116    0.8543     13889\n",
      "           1     0.7906    0.8895    0.8372     11111\n",
      "\n",
      "   micro avg     0.8462    0.8462    0.8462     25000\n",
      "   macro avg     0.8462    0.8505    0.8457     25000\n",
      "weighted avg     0.8524    0.8462    0.8467     25000\n",
      "\n"
     ]
    },
    {
     "name": "stderr",
     "output_type": "stream",
     "text": [
      "Training: 100%|███████████████████████████████████████████████████████████████████| 1563/1563 [00:08<00:00, 176.40it/s]\n",
      "Predicting: 100%|█████████████████████████████████████████████████████████████████| 1563/1563 [00:01<00:00, 912.71it/s]\n",
      "Predicting: 100%|█████████████████████████████████████████████████████████████████| 1563/1563 [00:01<00:00, 918.30it/s]\n"
     ]
    },
    {
     "name": "stdout",
     "output_type": "stream",
     "text": [
      "Train loss:  0.28078463778700574\n",
      "Train accuracy:  0.87488\n",
      "              precision    recall  f1-score   support\n",
      "\n",
      "           0     0.9100    0.8034    0.8534     14159\n",
      "           1     0.7773    0.8962    0.8325     10841\n",
      "\n",
      "   micro avg     0.8436    0.8436    0.8436     25000\n",
      "   macro avg     0.8436    0.8498    0.8429     25000\n",
      "weighted avg     0.8524    0.8436    0.8443     25000\n",
      "\n"
     ]
    },
    {
     "name": "stderr",
     "output_type": "stream",
     "text": [
      "Training: 100%|███████████████████████████████████████████████████████████████████| 1563/1563 [00:08<00:00, 193.48it/s]\n",
      "Predicting: 100%|█████████████████████████████████████████████████████████████████| 1563/1563 [00:01<00:00, 903.81it/s]\n",
      "Predicting: 100%|█████████████████████████████████████████████████████████████████| 1563/1563 [00:01<00:00, 866.14it/s]\n"
     ]
    },
    {
     "name": "stdout",
     "output_type": "stream",
     "text": [
      "Train loss:  0.2808860255046602\n",
      "Train accuracy:  0.87372\n",
      "              precision    recall  f1-score   support\n",
      "\n",
      "           0     0.9097    0.8009    0.8518     14198\n",
      "           1     0.7738    0.8955    0.8302     10802\n",
      "\n",
      "   micro avg     0.8418    0.8418    0.8418     25000\n",
      "   macro avg     0.8418    0.8482    0.8410     25000\n",
      "weighted avg     0.8510    0.8418    0.8425     25000\n",
      "\n"
     ]
    },
    {
     "name": "stderr",
     "output_type": "stream",
     "text": [
      "Training: 100%|███████████████████████████████████████████████████████████████████| 1563/1563 [00:09<00:00, 159.52it/s]\n",
      "Predicting: 100%|█████████████████████████████████████████████████████████████████| 1563/1563 [00:01<00:00, 861.86it/s]\n",
      "Predicting: 100%|█████████████████████████████████████████████████████████████████| 1563/1563 [00:01<00:00, 967.18it/s]\n"
     ]
    },
    {
     "name": "stdout",
     "output_type": "stream",
     "text": [
      "Train loss:  0.2790962468429933\n",
      "Train accuracy:  0.87612\n",
      "              precision    recall  f1-score   support\n",
      "\n",
      "           0     0.9056    0.8047    0.8522     14067\n",
      "           1     0.7802    0.8921    0.8324     10933\n",
      "\n",
      "   micro avg     0.8429    0.8429    0.8429     25000\n",
      "   macro avg     0.8429    0.8484    0.8423     25000\n",
      "weighted avg     0.8508    0.8429    0.8435     25000\n",
      "\n"
     ]
    },
    {
     "name": "stderr",
     "output_type": "stream",
     "text": [
      "Training: 100%|███████████████████████████████████████████████████████████████████| 1563/1563 [00:09<00:00, 162.61it/s]\n",
      "Predicting: 100%|█████████████████████████████████████████████████████████████████| 1563/1563 [00:01<00:00, 921.25it/s]\n",
      "Predicting: 100%|█████████████████████████████████████████████████████████████████| 1563/1563 [00:01<00:00, 900.17it/s]\n"
     ]
    },
    {
     "name": "stdout",
     "output_type": "stream",
     "text": [
      "Train loss:  0.2757226913423776\n",
      "Train accuracy:  0.8786\n",
      "              precision    recall  f1-score   support\n",
      "\n",
      "           0     0.9071    0.8054    0.8533     14078\n",
      "           1     0.7809    0.8937    0.8335     10922\n",
      "\n",
      "   micro avg     0.8440    0.8440    0.8440     25000\n",
      "   macro avg     0.8440    0.8496    0.8434     25000\n",
      "weighted avg     0.8520    0.8440    0.8446     25000\n",
      "\n"
     ]
    },
    {
     "name": "stderr",
     "output_type": "stream",
     "text": [
      "Training: 100%|███████████████████████████████████████████████████████████████████| 1563/1563 [00:09<00:00, 151.14it/s]\n",
      "Predicting: 100%|█████████████████████████████████████████████████████████████████| 1563/1563 [00:01<00:00, 882.48it/s]\n",
      "Predicting: 100%|█████████████████████████████████████████████████████████████████| 1563/1563 [00:01<00:00, 922.29it/s]\n"
     ]
    },
    {
     "name": "stdout",
     "output_type": "stream",
     "text": [
      "Train loss:  0.27458019550086515\n",
      "Train accuracy:  0.88208\n",
      "              precision    recall  f1-score   support\n",
      "\n",
      "           0     0.9033    0.8106    0.8544     13929\n",
      "           1     0.7890    0.8908    0.8368     11071\n",
      "\n",
      "   micro avg     0.8461    0.8461    0.8461     25000\n",
      "   macro avg     0.8461    0.8507    0.8456     25000\n",
      "weighted avg     0.8527    0.8461    0.8466     25000\n",
      "\n"
     ]
    },
    {
     "name": "stderr",
     "output_type": "stream",
     "text": [
      "Training: 100%|███████████████████████████████████████████████████████████████████| 1563/1563 [00:09<00:00, 166.01it/s]\n",
      "Predicting: 100%|█████████████████████████████████████████████████████████████████| 1563/1563 [00:01<00:00, 893.55it/s]\n",
      "Predicting: 100%|█████████████████████████████████████████████████████████████████| 1563/1563 [00:01<00:00, 912.37it/s]\n"
     ]
    },
    {
     "name": "stdout",
     "output_type": "stream",
     "text": [
      "Train loss:  0.2741750148497403\n",
      "Train accuracy:  0.88032\n",
      "              precision    recall  f1-score   support\n",
      "\n",
      "           0     0.9077    0.8053    0.8534     14089\n",
      "           1     0.7806    0.8942    0.8335     10911\n",
      "\n",
      "   micro avg     0.8441    0.8441    0.8441     25000\n",
      "   macro avg     0.8441    0.8498    0.8435     25000\n",
      "weighted avg     0.8522    0.8441    0.8448     25000\n",
      "\n"
     ]
    },
    {
     "name": "stderr",
     "output_type": "stream",
     "text": [
      "Training: 100%|███████████████████████████████████████████████████████████████████| 1563/1563 [00:09<00:00, 162.59it/s]\n",
      "Predicting: 100%|█████████████████████████████████████████████████████████████████| 1563/1563 [00:01<00:00, 908.70it/s]\n",
      "Predicting: 100%|█████████████████████████████████████████████████████████████████| 1563/1563 [00:01<00:00, 942.18it/s]\n"
     ]
    },
    {
     "name": "stdout",
     "output_type": "stream",
     "text": [
      "Train loss:  0.2712979384257636\n",
      "Train accuracy:  0.88376\n",
      "              precision    recall  f1-score   support\n",
      "\n",
      "           0     0.8998    0.8154    0.8555     13794\n",
      "           1     0.7962    0.8882    0.8397     11206\n",
      "\n",
      "   micro avg     0.8480    0.8480    0.8480     25000\n",
      "   macro avg     0.8480    0.8518    0.8476     25000\n",
      "weighted avg     0.8534    0.8480    0.8484     25000\n",
      "\n"
     ]
    },
    {
     "name": "stderr",
     "output_type": "stream",
     "text": [
      "Training: 100%|███████████████████████████████████████████████████████████████████| 1563/1563 [00:08<00:00, 176.48it/s]\n",
      "Predicting: 100%|█████████████████████████████████████████████████████████████████| 1563/1563 [00:01<00:00, 878.96it/s]\n",
      "Predicting: 100%|█████████████████████████████████████████████████████████████████| 1563/1563 [00:01<00:00, 934.65it/s]\n"
     ]
    },
    {
     "name": "stdout",
     "output_type": "stream",
     "text": [
      "Train loss:  0.2685291315580856\n",
      "Train accuracy:  0.88356\n",
      "              precision    recall  f1-score   support\n",
      "\n",
      "           0     0.9015    0.8117    0.8542     13884\n",
      "           1     0.7908    0.8893    0.8371     11116\n",
      "\n",
      "   micro avg     0.8462    0.8462    0.8462     25000\n",
      "   macro avg     0.8462    0.8505    0.8457     25000\n",
      "weighted avg     0.8523    0.8462    0.8466     25000\n",
      "\n"
     ]
    },
    {
     "name": "stderr",
     "output_type": "stream",
     "text": [
      "Training: 100%|███████████████████████████████████████████████████████████████████| 1563/1563 [00:08<00:00, 178.39it/s]\n",
      "Predicting: 100%|█████████████████████████████████████████████████████████████████| 1563/1563 [00:01<00:00, 899.84it/s]\n",
      "Predicting: 100%|█████████████████████████████████████████████████████████████████| 1563/1563 [00:01<00:00, 909.06it/s]\n"
     ]
    },
    {
     "name": "stdout",
     "output_type": "stream",
     "text": [
      "Train loss:  0.26760662947224256\n",
      "Train accuracy:  0.8878\n",
      "              precision    recall  f1-score   support\n",
      "\n",
      "           0     0.8976    0.8204    0.8572     13677\n",
      "           1     0.8034    0.8870    0.8431     11323\n",
      "\n",
      "   micro avg     0.8505    0.8505    0.8505     25000\n",
      "   macro avg     0.8505    0.8537    0.8502     25000\n",
      "weighted avg     0.8550    0.8505    0.8509     25000\n",
      "\n"
     ]
    },
    {
     "name": "stderr",
     "output_type": "stream",
     "text": [
      "Training: 100%|███████████████████████████████████████████████████████████████████| 1563/1563 [00:08<00:00, 183.01it/s]\n",
      "Predicting: 100%|█████████████████████████████████████████████████████████████████| 1563/1563 [00:01<00:00, 868.94it/s]\n",
      "Predicting: 100%|█████████████████████████████████████████████████████████████████| 1563/1563 [00:01<00:00, 881.68it/s]\n"
     ]
    },
    {
     "name": "stdout",
     "output_type": "stream",
     "text": [
      "Train loss:  0.26694426049197706\n",
      "Train accuracy:  0.88888\n",
      "              precision    recall  f1-score   support\n",
      "\n",
      "           0     0.8973    0.8190    0.8564     13694\n",
      "           1     0.8018    0.8864    0.8420     11306\n",
      "\n",
      "   micro avg     0.8495    0.8495    0.8495     25000\n",
      "   macro avg     0.8495    0.8527    0.8492     25000\n",
      "weighted avg     0.8541    0.8495    0.8499     25000\n",
      "\n"
     ]
    },
    {
     "name": "stderr",
     "output_type": "stream",
     "text": [
      "Training: 100%|███████████████████████████████████████████████████████████████████| 1563/1563 [00:09<00:00, 165.67it/s]\n",
      "Predicting: 100%|█████████████████████████████████████████████████████████████████| 1563/1563 [00:01<00:00, 898.14it/s]\n",
      "Predicting: 100%|█████████████████████████████████████████████████████████████████| 1563/1563 [00:01<00:00, 912.59it/s]\n"
     ]
    },
    {
     "name": "stdout",
     "output_type": "stream",
     "text": [
      "Train loss:  0.2647111698298674\n",
      "Train accuracy:  0.88704\n",
      "              precision    recall  f1-score   support\n",
      "\n",
      "           0     0.9011    0.8159    0.8564     13806\n",
      "           1     0.7966    0.8896    0.8406     11194\n",
      "\n",
      "   micro avg     0.8489    0.8489    0.8489     25000\n",
      "   macro avg     0.8489    0.8527    0.8485     25000\n",
      "weighted avg     0.8543    0.8489    0.8493     25000\n",
      "\n"
     ]
    },
    {
     "name": "stderr",
     "output_type": "stream",
     "text": [
      "Training: 100%|███████████████████████████████████████████████████████████████████| 1563/1563 [00:08<00:00, 181.70it/s]\n",
      "Predicting: 100%|█████████████████████████████████████████████████████████████████| 1563/1563 [00:01<00:00, 890.22it/s]\n",
      "Predicting: 100%|█████████████████████████████████████████████████████████████████| 1563/1563 [00:01<00:00, 916.90it/s]\n"
     ]
    },
    {
     "name": "stdout",
     "output_type": "stream",
     "text": [
      "Train loss:  0.2644921568671023\n",
      "Train accuracy:  0.88984\n",
      "              precision    recall  f1-score   support\n",
      "\n",
      "           0     0.8954    0.8218    0.8570     13619\n",
      "           1     0.8058    0.8851    0.8436     11381\n",
      "\n",
      "   micro avg     0.8506    0.8506    0.8506     25000\n",
      "   macro avg     0.8506    0.8534    0.8503     25000\n",
      "weighted avg     0.8546    0.8506    0.8509     25000\n",
      "\n"
     ]
    },
    {
     "name": "stderr",
     "output_type": "stream",
     "text": [
      "Training: 100%|███████████████████████████████████████████████████████████████████| 1563/1563 [00:09<00:00, 164.65it/s]\n",
      "Predicting: 100%|█████████████████████████████████████████████████████████████████| 1563/1563 [00:01<00:00, 921.72it/s]\n",
      "Predicting: 100%|█████████████████████████████████████████████████████████████████| 1563/1563 [00:01<00:00, 879.03it/s]\n"
     ]
    },
    {
     "name": "stdout",
     "output_type": "stream",
     "text": [
      "Train loss:  0.2620837091422394\n",
      "Train accuracy:  0.886\n",
      "              precision    recall  f1-score   support\n",
      "\n",
      "           0     0.9026    0.8121    0.8550     13893\n",
      "           1     0.7912    0.8904    0.8379     11107\n",
      "\n",
      "   micro avg     0.8469    0.8469    0.8469     25000\n",
      "   macro avg     0.8469    0.8513    0.8464     25000\n",
      "weighted avg     0.8531    0.8469    0.8474     25000\n",
      "\n"
     ]
    },
    {
     "name": "stderr",
     "output_type": "stream",
     "text": [
      "Training: 100%|███████████████████████████████████████████████████████████████████| 1563/1563 [00:08<00:00, 185.77it/s]\n",
      "Predicting: 100%|█████████████████████████████████████████████████████████████████| 1563/1563 [00:01<00:00, 904.53it/s]\n",
      "Predicting: 100%|█████████████████████████████████████████████████████████████████| 1563/1563 [00:01<00:00, 897.56it/s]\n"
     ]
    },
    {
     "name": "stdout",
     "output_type": "stream",
     "text": [
      "Train loss:  0.2611244420234355\n",
      "Train accuracy:  0.88536\n",
      "              precision    recall  f1-score   support\n",
      "\n",
      "           0     0.9045    0.8091    0.8542     13973\n",
      "           1     0.7866    0.8917    0.8359     11027\n",
      "\n",
      "   micro avg     0.8456    0.8456    0.8456     25000\n",
      "   macro avg     0.8456    0.8504    0.8450     25000\n",
      "weighted avg     0.8525    0.8456    0.8461     25000\n",
      "\n"
     ]
    },
    {
     "name": "stderr",
     "output_type": "stream",
     "text": [
      "Training: 100%|███████████████████████████████████████████████████████████████████| 1563/1563 [00:09<00:00, 168.78it/s]\n",
      "Predicting: 100%|█████████████████████████████████████████████████████████████████| 1563/1563 [00:01<00:00, 912.41it/s]\n",
      "Predicting: 100%|█████████████████████████████████████████████████████████████████| 1563/1563 [00:01<00:00, 944.16it/s]\n"
     ]
    },
    {
     "name": "stdout",
     "output_type": "stream",
     "text": [
      "Train loss:  0.25900872918805173\n",
      "Train accuracy:  0.8872\n",
      "              precision    recall  f1-score   support\n",
      "\n",
      "           0     0.9016    0.8103    0.8535     13909\n",
      "           1     0.7889    0.8891    0.8360     11091\n",
      "\n",
      "   micro avg     0.8452    0.8452    0.8452     25000\n",
      "   macro avg     0.8452    0.8497    0.8447     25000\n",
      "weighted avg     0.8516    0.8452    0.8457     25000\n",
      "\n"
     ]
    },
    {
     "name": "stderr",
     "output_type": "stream",
     "text": [
      "Training: 100%|███████████████████████████████████████████████████████████████████| 1563/1563 [00:09<00:00, 163.81it/s]\n",
      "Predicting: 100%|█████████████████████████████████████████████████████████████████| 1563/1563 [00:01<00:00, 923.37it/s]\n",
      "Predicting: 100%|█████████████████████████████████████████████████████████████████| 1563/1563 [00:01<00:00, 901.58it/s]\n"
     ]
    },
    {
     "name": "stdout",
     "output_type": "stream",
     "text": [
      "Train loss:  0.2579791102813401\n",
      "Train accuracy:  0.89028\n",
      "              precision    recall  f1-score   support\n",
      "\n",
      "           0     0.8996    0.8165    0.8560     13772\n",
      "           1     0.7978    0.8882    0.8406     11228\n",
      "\n",
      "   micro avg     0.8487    0.8487    0.8487     25000\n",
      "   macro avg     0.8487    0.8524    0.8483     25000\n",
      "weighted avg     0.8539    0.8487    0.8491     25000\n",
      "\n"
     ]
    },
    {
     "name": "stderr",
     "output_type": "stream",
     "text": [
      "Training: 100%|███████████████████████████████████████████████████████████████████| 1563/1563 [00:09<00:00, 156.77it/s]\n",
      "Predicting: 100%|█████████████████████████████████████████████████████████████████| 1563/1563 [00:01<00:00, 904.09it/s]\n",
      "Predicting: 100%|█████████████████████████████████████████████████████████████████| 1563/1563 [00:01<00:00, 876.96it/s]\n"
     ]
    },
    {
     "name": "stdout",
     "output_type": "stream",
     "text": [
      "Train loss:  0.2555486292447788\n",
      "Train accuracy:  0.88856\n",
      "              precision    recall  f1-score   support\n",
      "\n",
      "           0     0.9001    0.8111    0.8533     13871\n",
      "           1     0.7904    0.8878    0.8363     11129\n",
      "\n",
      "   micro avg     0.8452    0.8452    0.8452     25000\n",
      "   macro avg     0.8452    0.8494    0.8448     25000\n",
      "weighted avg     0.8513    0.8452    0.8457     25000\n",
      "\n"
     ]
    },
    {
     "name": "stderr",
     "output_type": "stream",
     "text": [
      "Training: 100%|███████████████████████████████████████████████████████████████████| 1563/1563 [00:10<00:00, 155.32it/s]\n",
      "Predicting: 100%|█████████████████████████████████████████████████████████████████| 1563/1563 [00:01<00:00, 891.52it/s]\n",
      "Predicting: 100%|█████████████████████████████████████████████████████████████████| 1563/1563 [00:01<00:00, 961.01it/s]\n"
     ]
    },
    {
     "name": "stdout",
     "output_type": "stream",
     "text": [
      "Train loss:  0.2549799592976035\n",
      "Train accuracy:  0.88592\n",
      "              precision    recall  f1-score   support\n",
      "\n",
      "           0     0.9070    0.8062    0.8537     14063\n",
      "           1     0.7820    0.8938    0.8342     10937\n",
      "\n",
      "   micro avg     0.8445    0.8445    0.8445     25000\n",
      "   macro avg     0.8445    0.8500    0.8439     25000\n",
      "weighted avg     0.8523    0.8445    0.8451     25000\n",
      "\n"
     ]
    },
    {
     "name": "stderr",
     "output_type": "stream",
     "text": [
      "Training: 100%|███████████████████████████████████████████████████████████████████| 1563/1563 [00:09<00:00, 162.54it/s]\n",
      "Predicting: 100%|█████████████████████████████████████████████████████████████████| 1563/1563 [00:01<00:00, 873.18it/s]\n",
      "Predicting: 100%|█████████████████████████████████████████████████████████████████| 1563/1563 [00:01<00:00, 896.22it/s]\n"
     ]
    },
    {
     "name": "stdout",
     "output_type": "stream",
     "text": [
      "Train loss:  0.25404442525489623\n",
      "Train accuracy:  0.8864\n",
      "              precision    recall  f1-score   support\n",
      "\n",
      "           0     0.9070    0.8054    0.8532     14076\n",
      "           1     0.7809    0.8935    0.8334     10924\n",
      "\n",
      "   micro avg     0.8439    0.8439    0.8439     25000\n",
      "   macro avg     0.8439    0.8495    0.8433     25000\n",
      "weighted avg     0.8519    0.8439    0.8445     25000\n",
      "\n"
     ]
    },
    {
     "name": "stderr",
     "output_type": "stream",
     "text": [
      "Training: 100%|███████████████████████████████████████████████████████████████████| 1563/1563 [00:09<00:00, 156.50it/s]\n",
      "Predicting: 100%|█████████████████████████████████████████████████████████████████| 1563/1563 [00:01<00:00, 901.59it/s]\n",
      "Predicting: 100%|█████████████████████████████████████████████████████████████████| 1563/1563 [00:01<00:00, 890.40it/s]\n"
     ]
    },
    {
     "name": "stdout",
     "output_type": "stream",
     "text": [
      "Train loss:  0.253306344737819\n",
      "Train accuracy:  0.89408\n",
      "              precision    recall  f1-score   support\n",
      "\n",
      "           0     0.8967    0.8151    0.8540     13752\n",
      "           1     0.7966    0.8852    0.8386     11248\n",
      "\n",
      "   micro avg     0.8466    0.8466    0.8466     25000\n",
      "   macro avg     0.8466    0.8502    0.8463     25000\n",
      "weighted avg     0.8517    0.8466    0.8470     25000\n",
      "\n"
     ]
    },
    {
     "name": "stderr",
     "output_type": "stream",
     "text": [
      "Training: 100%|███████████████████████████████████████████████████████████████████| 1563/1563 [00:10<00:00, 148.32it/s]\n",
      "Predicting: 100%|█████████████████████████████████████████████████████████████████| 1563/1563 [00:01<00:00, 886.13it/s]\n",
      "Predicting: 100%|█████████████████████████████████████████████████████████████████| 1563/1563 [00:01<00:00, 884.10it/s]\n"
     ]
    },
    {
     "name": "stdout",
     "output_type": "stream",
     "text": [
      "Train loss:  0.25186247937262096\n",
      "Train accuracy:  0.89756\n",
      "              precision    recall  f1-score   support\n",
      "\n",
      "           0     0.8938    0.8226    0.8568     13582\n",
      "           1     0.8073    0.8838    0.8438     11418\n",
      "\n",
      "   micro avg     0.8506    0.8506    0.8506     25000\n",
      "   macro avg     0.8506    0.8532    0.8503     25000\n",
      "weighted avg     0.8543    0.8506    0.8508     25000\n",
      "\n"
     ]
    },
    {
     "name": "stderr",
     "output_type": "stream",
     "text": [
      "Training: 100%|███████████████████████████████████████████████████████████████████| 1563/1563 [00:09<00:00, 164.89it/s]\n",
      "Predicting: 100%|█████████████████████████████████████████████████████████████████| 1563/1563 [00:01<00:00, 887.65it/s]\n",
      "Predicting: 100%|█████████████████████████████████████████████████████████████████| 1563/1563 [00:01<00:00, 962.56it/s]\n"
     ]
    },
    {
     "name": "stdout",
     "output_type": "stream",
     "text": [
      "Train loss:  0.2515071423096262\n",
      "Train accuracy:  0.89496\n",
      "              precision    recall  f1-score   support\n",
      "\n",
      "           0     0.8956    0.8186    0.8554     13675\n",
      "           1     0.8016    0.8848    0.8411     11325\n",
      "\n",
      "   micro avg     0.8486    0.8486    0.8486     25000\n",
      "   macro avg     0.8486    0.8517    0.8483     25000\n",
      "weighted avg     0.8530    0.8486    0.8489     25000\n",
      "\n"
     ]
    },
    {
     "name": "stderr",
     "output_type": "stream",
     "text": [
      "Training: 100%|███████████████████████████████████████████████████████████████████| 1563/1563 [00:10<00:00, 153.70it/s]\n",
      "Predicting: 100%|█████████████████████████████████████████████████████████████████| 1563/1563 [00:01<00:00, 899.89it/s]\n",
      "Predicting: 100%|█████████████████████████████████████████████████████████████████| 1563/1563 [00:01<00:00, 932.43it/s]\n"
     ]
    },
    {
     "name": "stdout",
     "output_type": "stream",
     "text": [
      "Train loss:  0.25093963626660143\n",
      "Train accuracy:  0.89608\n",
      "              precision    recall  f1-score   support\n",
      "\n",
      "           0     0.8958    0.8183    0.8553     13684\n",
      "           1     0.8011    0.8849    0.8409     11316\n",
      "\n",
      "   micro avg     0.8485    0.8485    0.8485     25000\n",
      "   macro avg     0.8485    0.8516    0.8481     25000\n",
      "weighted avg     0.8530    0.8485    0.8488     25000\n",
      "\n"
     ]
    },
    {
     "name": "stderr",
     "output_type": "stream",
     "text": [
      "Training: 100%|███████████████████████████████████████████████████████████████████| 1563/1563 [00:09<00:00, 164.81it/s]\n",
      "Predicting: 100%|█████████████████████████████████████████████████████████████████| 1563/1563 [00:01<00:00, 905.52it/s]\n",
      "Predicting: 100%|█████████████████████████████████████████████████████████████████| 1563/1563 [00:01<00:00, 891.82it/s]\n"
     ]
    },
    {
     "name": "stdout",
     "output_type": "stream",
     "text": [
      "Train loss:  0.24829492337348671\n",
      "Train accuracy:  0.89244\n",
      "              precision    recall  f1-score   support\n",
      "\n",
      "           0     0.9013    0.8113    0.8539     13886\n",
      "           1     0.7904    0.8890    0.8368     11114\n",
      "\n",
      "   micro avg     0.8458    0.8458    0.8458     25000\n",
      "   macro avg     0.8458    0.8501    0.8454     25000\n",
      "weighted avg     0.8520    0.8458    0.8463     25000\n",
      "\n"
     ]
    },
    {
     "name": "stderr",
     "output_type": "stream",
     "text": [
      "Training: 100%|███████████████████████████████████████████████████████████████████| 1563/1563 [00:09<00:00, 163.90it/s]\n",
      "Predicting: 100%|█████████████████████████████████████████████████████████████████| 1563/1563 [00:01<00:00, 927.33it/s]\n",
      "Predicting: 100%|█████████████████████████████████████████████████████████████████| 1563/1563 [00:01<00:00, 955.88it/s]\n"
     ]
    },
    {
     "name": "stdout",
     "output_type": "stream",
     "text": [
      "Train loss:  0.24791767814399834\n",
      "Train accuracy:  0.89824\n",
      "              precision    recall  f1-score   support\n",
      "\n",
      "           0     0.8930    0.8205    0.8552     13605\n",
      "           1     0.8046    0.8827    0.8418     11395\n",
      "\n",
      "   micro avg     0.8488    0.8488    0.8488     25000\n",
      "   macro avg     0.8488    0.8516    0.8485     25000\n",
      "weighted avg     0.8527    0.8488    0.8491     25000\n",
      "\n"
     ]
    },
    {
     "name": "stderr",
     "output_type": "stream",
     "text": [
      "Training: 100%|███████████████████████████████████████████████████████████████████| 1563/1563 [00:09<00:00, 160.20it/s]\n",
      "Predicting: 100%|█████████████████████████████████████████████████████████████████| 1563/1563 [00:01<00:00, 891.84it/s]\n",
      "Predicting: 100%|█████████████████████████████████████████████████████████████████| 1563/1563 [00:01<00:00, 897.89it/s]\n"
     ]
    },
    {
     "name": "stdout",
     "output_type": "stream",
     "text": [
      "Train loss:  0.2461273190008282\n",
      "Train accuracy:  0.8928\n",
      "              precision    recall  f1-score   support\n",
      "\n",
      "           0     0.9030    0.8072    0.8524     13983\n",
      "           1     0.7843    0.8899    0.8338     11017\n",
      "\n",
      "   micro avg     0.8436    0.8436    0.8436     25000\n",
      "   macro avg     0.8436    0.8485    0.8431     25000\n",
      "weighted avg     0.8507    0.8436    0.8442     25000\n",
      "\n"
     ]
    },
    {
     "name": "stderr",
     "output_type": "stream",
     "text": [
      "Training: 100%|███████████████████████████████████████████████████████████████████| 1563/1563 [00:10<00:00, 151.91it/s]\n",
      "Predicting: 100%|█████████████████████████████████████████████████████████████████| 1563/1563 [00:01<00:00, 948.30it/s]\n",
      "Predicting: 100%|█████████████████████████████████████████████████████████████████| 1563/1563 [00:01<00:00, 933.12it/s]\n"
     ]
    },
    {
     "name": "stdout",
     "output_type": "stream",
     "text": [
      "Train loss:  0.2467501539324654\n",
      "Train accuracy:  0.8956\n",
      "              precision    recall  f1-score   support\n",
      "\n",
      "           0     0.8974    0.8138    0.8536     13783\n",
      "           1     0.7947    0.8856    0.8377     11217\n",
      "\n",
      "   micro avg     0.8460    0.8460    0.8460     25000\n",
      "   macro avg     0.8460    0.8497    0.8456     25000\n",
      "weighted avg     0.8513    0.8460    0.8464     25000\n",
      "\n"
     ]
    },
    {
     "name": "stderr",
     "output_type": "stream",
     "text": [
      "Training: 100%|███████████████████████████████████████████████████████████████████| 1563/1563 [00:11<00:00, 140.75it/s]\n",
      "Predicting: 100%|█████████████████████████████████████████████████████████████████| 1563/1563 [00:01<00:00, 894.20it/s]\n",
      "Predicting: 100%|█████████████████████████████████████████████████████████████████| 1563/1563 [00:01<00:00, 923.32it/s]\n"
     ]
    },
    {
     "name": "stdout",
     "output_type": "stream",
     "text": [
      "Train loss:  0.24527758482417006\n",
      "Train accuracy:  0.90308\n",
      "              precision    recall  f1-score   support\n",
      "\n",
      "           0     0.8906    0.8263    0.8572     13472\n",
      "           1     0.8128    0.8813    0.8457     11528\n",
      "\n",
      "   micro avg     0.8517    0.8517    0.8517     25000\n",
      "   macro avg     0.8517    0.8538    0.8515     25000\n",
      "weighted avg     0.8547    0.8517    0.8519     25000\n",
      "\n"
     ]
    },
    {
     "name": "stderr",
     "output_type": "stream",
     "text": [
      "Training: 100%|███████████████████████████████████████████████████████████████████| 1563/1563 [00:10<00:00, 143.96it/s]\n",
      "Predicting: 100%|█████████████████████████████████████████████████████████████████| 1563/1563 [00:01<00:00, 895.79it/s]\n",
      "Predicting: 100%|█████████████████████████████████████████████████████████████████| 1563/1563 [00:01<00:00, 950.82it/s]\n"
     ]
    },
    {
     "name": "stdout",
     "output_type": "stream",
     "text": [
      "Train loss:  0.2439265107606095\n",
      "Train accuracy:  0.89892\n",
      "              precision    recall  f1-score   support\n",
      "\n",
      "           0     0.8951    0.8175    0.8545     13687\n",
      "           1     0.8002    0.8841    0.8400     11313\n",
      "\n",
      "   micro avg     0.8476    0.8476    0.8476     25000\n",
      "   macro avg     0.8476    0.8508    0.8473     25000\n",
      "weighted avg     0.8521    0.8476    0.8480     25000\n",
      "\n"
     ]
    },
    {
     "name": "stderr",
     "output_type": "stream",
     "text": [
      "Training: 100%|███████████████████████████████████████████████████████████████████| 1563/1563 [00:09<00:00, 163.84it/s]\n",
      "Predicting: 100%|█████████████████████████████████████████████████████████████████| 1563/1563 [00:01<00:00, 900.17it/s]\n",
      "Predicting: 100%|█████████████████████████████████████████████████████████████████| 1563/1563 [00:01<00:00, 894.68it/s]\n"
     ]
    },
    {
     "name": "stdout",
     "output_type": "stream",
     "text": [
      "Train loss:  0.24165578816927402\n",
      "Train accuracy:  0.90092\n",
      "              precision    recall  f1-score   support\n",
      "\n",
      "           0     0.8943    0.8186    0.8548     13657\n",
      "           1     0.8018    0.8835    0.8407     11343\n",
      "\n",
      "   micro avg     0.8480    0.8480    0.8480     25000\n",
      "   macro avg     0.8480    0.8510    0.8477     25000\n",
      "weighted avg     0.8523    0.8480    0.8484     25000\n",
      "\n"
     ]
    },
    {
     "name": "stderr",
     "output_type": "stream",
     "text": [
      "Training: 100%|███████████████████████████████████████████████████████████████████| 1563/1563 [00:10<00:00, 150.37it/s]\n",
      "Predicting: 100%|█████████████████████████████████████████████████████████████████| 1563/1563 [00:01<00:00, 904.63it/s]\n",
      "Predicting: 100%|█████████████████████████████████████████████████████████████████| 1563/1563 [00:01<00:00, 838.17it/s]\n"
     ]
    },
    {
     "name": "stdout",
     "output_type": "stream",
     "text": [
      "Train loss:  0.24207084712715998\n",
      "Train accuracy:  0.90172\n",
      "              precision    recall  f1-score   support\n",
      "\n",
      "           0     0.8916    0.8214    0.8551     13568\n",
      "           1     0.8062    0.8815    0.8421     11432\n",
      "\n",
      "   micro avg     0.8489    0.8489    0.8489     25000\n",
      "   macro avg     0.8489    0.8514    0.8486     25000\n",
      "weighted avg     0.8525    0.8489    0.8492     25000\n",
      "\n"
     ]
    },
    {
     "name": "stderr",
     "output_type": "stream",
     "text": [
      "Training: 100%|███████████████████████████████████████████████████████████████████| 1563/1563 [00:09<00:00, 169.21it/s]\n",
      "Predicting: 100%|█████████████████████████████████████████████████████████████████| 1563/1563 [00:01<00:00, 896.81it/s]\n",
      "Predicting: 100%|█████████████████████████████████████████████████████████████████| 1563/1563 [00:01<00:00, 961.69it/s]\n"
     ]
    },
    {
     "name": "stdout",
     "output_type": "stream",
     "text": [
      "Train loss:  0.24014154603312737\n",
      "Train accuracy:  0.90196\n",
      "              precision    recall  f1-score   support\n",
      "\n",
      "           0     0.8967    0.8185    0.8558     13695\n",
      "           1     0.8011    0.8858    0.8413     11305\n",
      "\n",
      "   micro avg     0.8489    0.8489    0.8489     25000\n",
      "   macro avg     0.8489    0.8521    0.8486     25000\n",
      "weighted avg     0.8535    0.8489    0.8493     25000\n",
      "\n"
     ]
    },
    {
     "name": "stderr",
     "output_type": "stream",
     "text": [
      "Training: 100%|███████████████████████████████████████████████████████████████████| 1563/1563 [00:10<00:00, 153.61it/s]\n",
      "Predicting: 100%|█████████████████████████████████████████████████████████████████| 1563/1563 [00:01<00:00, 883.30it/s]\n",
      "Predicting: 100%|█████████████████████████████████████████████████████████████████| 1563/1563 [00:01<00:00, 938.61it/s]\n"
     ]
    },
    {
     "name": "stdout",
     "output_type": "stream",
     "text": [
      "Train loss:  0.239576492920966\n",
      "Train accuracy:  0.90236\n",
      "              precision    recall  f1-score   support\n",
      "\n",
      "           0     0.8900    0.8235    0.8554     13510\n",
      "           1     0.8092    0.8803    0.8433     11490\n",
      "\n",
      "   micro avg     0.8496    0.8496    0.8496     25000\n",
      "   macro avg     0.8496    0.8519    0.8494     25000\n",
      "weighted avg     0.8529    0.8496    0.8498     25000\n",
      "\n"
     ]
    },
    {
     "name": "stderr",
     "output_type": "stream",
     "text": [
      "Training: 100%|███████████████████████████████████████████████████████████████████| 1563/1563 [00:10<00:00, 149.21it/s]\n",
      "Predicting: 100%|█████████████████████████████████████████████████████████████████| 1563/1563 [00:01<00:00, 878.12it/s]\n",
      "Predicting: 100%|█████████████████████████████████████████████████████████████████| 1563/1563 [00:01<00:00, 937.55it/s]\n"
     ]
    },
    {
     "name": "stdout",
     "output_type": "stream",
     "text": [
      "Train loss:  0.23988566418689028\n",
      "Train accuracy:  0.90128\n",
      "              precision    recall  f1-score   support\n",
      "\n",
      "           0     0.8970    0.8181    0.8557     13705\n",
      "           1     0.8006    0.8860    0.8411     11295\n",
      "\n",
      "   micro avg     0.8488    0.8488    0.8488     25000\n",
      "   macro avg     0.8488    0.8520    0.8484     25000\n",
      "weighted avg     0.8534    0.8488    0.8491     25000\n",
      "\n"
     ]
    },
    {
     "name": "stderr",
     "output_type": "stream",
     "text": [
      "Training: 100%|███████████████████████████████████████████████████████████████████| 1563/1563 [00:10<00:00, 154.39it/s]\n",
      "Predicting: 100%|█████████████████████████████████████████████████████████████████| 1563/1563 [00:01<00:00, 869.29it/s]\n",
      "Predicting: 100%|█████████████████████████████████████████████████████████████████| 1563/1563 [00:01<00:00, 909.69it/s]\n"
     ]
    },
    {
     "name": "stdout",
     "output_type": "stream",
     "text": [
      "Train loss:  0.23766800833917243\n",
      "Train accuracy:  0.90284\n",
      "              precision    recall  f1-score   support\n",
      "\n",
      "           0     0.8942    0.8199    0.8555     13633\n",
      "           1     0.8036    0.8837    0.8417     11367\n",
      "\n",
      "   micro avg     0.8489    0.8489    0.8489     25000\n",
      "   macro avg     0.8489    0.8518    0.8486     25000\n",
      "weighted avg     0.8530    0.8489    0.8492     25000\n",
      "\n"
     ]
    },
    {
     "name": "stderr",
     "output_type": "stream",
     "text": [
      "Training: 100%|███████████████████████████████████████████████████████████████████| 1563/1563 [00:08<00:00, 177.94it/s]\n",
      "Predicting: 100%|█████████████████████████████████████████████████████████████████| 1563/1563 [00:01<00:00, 944.21it/s]\n",
      "Predicting: 100%|█████████████████████████████████████████████████████████████████| 1563/1563 [00:01<00:00, 900.89it/s]\n"
     ]
    },
    {
     "name": "stdout",
     "output_type": "stream",
     "text": [
      "Train loss:  0.234920119155277\n",
      "Train accuracy:  0.9036\n",
      "              precision    recall  f1-score   support\n",
      "\n",
      "           0     0.8927    0.8224    0.8561     13568\n",
      "           1     0.8073    0.8827    0.8433     11432\n",
      "\n",
      "   micro avg     0.8500    0.8500    0.8500     25000\n",
      "   macro avg     0.8500    0.8526    0.8497     25000\n",
      "weighted avg     0.8536    0.8500    0.8503     25000\n",
      "\n"
     ]
    },
    {
     "name": "stderr",
     "output_type": "stream",
     "text": [
      "Training: 100%|███████████████████████████████████████████████████████████████████| 1563/1563 [00:09<00:00, 170.32it/s]\n",
      "Predicting: 100%|█████████████████████████████████████████████████████████████████| 1563/1563 [00:01<00:00, 902.51it/s]\n",
      "Predicting: 100%|█████████████████████████████████████████████████████████████████| 1563/1563 [00:01<00:00, 942.77it/s]\n"
     ]
    },
    {
     "name": "stdout",
     "output_type": "stream",
     "text": [
      "Train loss:  0.2346131742186487\n",
      "Train accuracy:  0.90308\n",
      "              precision    recall  f1-score   support\n",
      "\n",
      "           0     0.8934    0.8196    0.8549     13625\n",
      "           1     0.8034    0.8828    0.8412     11375\n",
      "\n",
      "   micro avg     0.8484    0.8484    0.8484     25000\n",
      "   macro avg     0.8484    0.8512    0.8481     25000\n",
      "weighted avg     0.8524    0.8484    0.8487     25000\n",
      "\n"
     ]
    },
    {
     "name": "stderr",
     "output_type": "stream",
     "text": [
      "Training: 100%|███████████████████████████████████████████████████████████████████| 1563/1563 [00:09<00:00, 160.21it/s]\n",
      "Predicting: 100%|█████████████████████████████████████████████████████████████████| 1563/1563 [00:01<00:00, 873.00it/s]\n",
      "Predicting: 100%|█████████████████████████████████████████████████████████████████| 1563/1563 [00:01<00:00, 924.00it/s]\n"
     ]
    },
    {
     "name": "stdout",
     "output_type": "stream",
     "text": [
      "Train loss:  0.23593600125541234\n",
      "Train accuracy:  0.90228\n",
      "              precision    recall  f1-score   support\n",
      "\n",
      "           0     0.8970    0.8164    0.8548     13733\n",
      "           1     0.7983    0.8857    0.8397     11267\n",
      "\n",
      "   micro avg     0.8476    0.8476    0.8476     25000\n",
      "   macro avg     0.8476    0.8511    0.8473     25000\n",
      "weighted avg     0.8525    0.8476    0.8480     25000\n",
      "\n"
     ]
    },
    {
     "name": "stderr",
     "output_type": "stream",
     "text": [
      "Training: 100%|███████████████████████████████████████████████████████████████████| 1563/1563 [00:09<00:00, 170.40it/s]\n",
      "Predicting: 100%|█████████████████████████████████████████████████████████████████| 1563/1563 [00:01<00:00, 899.74it/s]\n",
      "Predicting: 100%|█████████████████████████████████████████████████████████████████| 1563/1563 [00:01<00:00, 971.60it/s]\n"
     ]
    },
    {
     "name": "stdout",
     "output_type": "stream",
     "text": [
      "Train loss:  0.23371688884302202\n",
      "Train accuracy:  0.90628\n",
      "              precision    recall  f1-score   support\n",
      "\n",
      "           0     0.8942    0.8195    0.8552     13639\n",
      "           1     0.8030    0.8835    0.8414     11361\n",
      "\n",
      "   micro avg     0.8486    0.8486    0.8486     25000\n",
      "   macro avg     0.8486    0.8515    0.8483     25000\n",
      "weighted avg     0.8528    0.8486    0.8489     25000\n",
      "\n"
     ]
    },
    {
     "name": "stderr",
     "output_type": "stream",
     "text": [
      "Training: 100%|███████████████████████████████████████████████████████████████████| 1563/1563 [00:09<00:00, 162.15it/s]\n",
      "Predicting: 100%|█████████████████████████████████████████████████████████████████| 1563/1563 [00:01<00:00, 874.99it/s]\n",
      "Predicting: 100%|█████████████████████████████████████████████████████████████████| 1563/1563 [00:01<00:00, 900.05it/s]\n"
     ]
    },
    {
     "name": "stdout",
     "output_type": "stream",
     "text": [
      "Train loss:  0.23233166545801107\n",
      "Train accuracy:  0.9058\n",
      "              precision    recall  f1-score   support\n",
      "\n",
      "           0     0.8953    0.8181    0.8549     13680\n",
      "           1     0.8009    0.8844    0.8406     11320\n",
      "\n",
      "   micro avg     0.8481    0.8481    0.8481     25000\n",
      "   macro avg     0.8481    0.8512    0.8477     25000\n",
      "weighted avg     0.8525    0.8481    0.8484     25000\n",
      "\n"
     ]
    },
    {
     "name": "stderr",
     "output_type": "stream",
     "text": [
      "Training: 100%|███████████████████████████████████████████████████████████████████| 1563/1563 [00:08<00:00, 192.08it/s]\n",
      "Predicting: 100%|█████████████████████████████████████████████████████████████████| 1563/1563 [00:01<00:00, 883.43it/s]\n",
      "Predicting: 100%|█████████████████████████████████████████████████████████████████| 1563/1563 [00:01<00:00, 904.73it/s]\n"
     ]
    },
    {
     "name": "stdout",
     "output_type": "stream",
     "text": [
      "Train loss:  0.23273857317802926\n",
      "Train accuracy:  0.91232\n",
      "              precision    recall  f1-score   support\n",
      "\n",
      "           0     0.8782    0.8341    0.8555     13161\n",
      "           1     0.8253    0.8714    0.8477     11839\n",
      "\n",
      "   micro avg     0.8517    0.8517    0.8517     25000\n",
      "   macro avg     0.8517    0.8527    0.8516     25000\n",
      "weighted avg     0.8531    0.8517    0.8518     25000\n",
      "\n"
     ]
    },
    {
     "name": "stderr",
     "output_type": "stream",
     "text": [
      "Training: 100%|███████████████████████████████████████████████████████████████████| 1563/1563 [00:08<00:00, 179.68it/s]\n",
      "Predicting: 100%|█████████████████████████████████████████████████████████████████| 1563/1563 [00:01<00:00, 819.51it/s]\n",
      "Predicting: 100%|█████████████████████████████████████████████████████████████████| 1563/1563 [00:01<00:00, 949.18it/s]\n"
     ]
    },
    {
     "name": "stdout",
     "output_type": "stream",
     "text": [
      "Train loss:  0.23037119400440237\n",
      "Train accuracy:  0.90304\n",
      "              precision    recall  f1-score   support\n",
      "\n",
      "           0     0.9000    0.8122    0.8538     13852\n",
      "           1     0.7918    0.8879    0.8371     11148\n",
      "\n",
      "   micro avg     0.8459    0.8459    0.8459     25000\n",
      "   macro avg     0.8459    0.8500    0.8455     25000\n",
      "weighted avg     0.8518    0.8459    0.8464     25000\n",
      "\n"
     ]
    },
    {
     "name": "stderr",
     "output_type": "stream",
     "text": [
      "Training: 100%|███████████████████████████████████████████████████████████████████| 1563/1563 [00:09<00:00, 169.88it/s]\n",
      "Predicting: 100%|█████████████████████████████████████████████████████████████████| 1563/1563 [00:01<00:00, 909.85it/s]\n",
      "Predicting: 100%|█████████████████████████████████████████████████████████████████| 1563/1563 [00:01<00:00, 978.56it/s]\n"
     ]
    },
    {
     "name": "stdout",
     "output_type": "stream",
     "text": [
      "Train loss:  0.2302655668801706\n",
      "Train accuracy:  0.91124\n",
      "              precision    recall  f1-score   support\n",
      "\n",
      "           0     0.8878    0.8283    0.8570     13398\n",
      "           1     0.8159    0.8791    0.8463     11602\n",
      "\n",
      "   micro avg     0.8518    0.8518    0.8518     25000\n",
      "   macro avg     0.8518    0.8537    0.8516     25000\n",
      "weighted avg     0.8544    0.8518    0.8520     25000\n",
      "\n"
     ]
    },
    {
     "name": "stderr",
     "output_type": "stream",
     "text": [
      "Training: 100%|███████████████████████████████████████████████████████████████████| 1563/1563 [00:08<00:00, 174.60it/s]\n",
      "Predicting: 100%|█████████████████████████████████████████████████████████████████| 1563/1563 [00:01<00:00, 866.57it/s]\n",
      "Predicting: 100%|█████████████████████████████████████████████████████████████████| 1563/1563 [00:01<00:00, 856.51it/s]\n"
     ]
    },
    {
     "name": "stdout",
     "output_type": "stream",
     "text": [
      "Train loss:  0.23047294765853837\n",
      "Train accuracy:  0.91012\n",
      "              precision    recall  f1-score   support\n",
      "\n",
      "           0     0.8917    0.8239    0.8565     13528\n",
      "           1     0.8094    0.8820    0.8442     11472\n",
      "\n",
      "   micro avg     0.8506    0.8506    0.8506     25000\n",
      "   macro avg     0.8506    0.8529    0.8503     25000\n",
      "weighted avg     0.8539    0.8506    0.8508     25000\n",
      "\n"
     ]
    },
    {
     "name": "stderr",
     "output_type": "stream",
     "text": [
      "Training: 100%|███████████████████████████████████████████████████████████████████| 1563/1563 [00:09<00:00, 159.42it/s]\n",
      "Predicting: 100%|█████████████████████████████████████████████████████████████████| 1563/1563 [00:01<00:00, 891.64it/s]\n",
      "Predicting: 100%|█████████████████████████████████████████████████████████████████| 1563/1563 [00:01<00:00, 953.46it/s]\n"
     ]
    },
    {
     "name": "stdout",
     "output_type": "stream",
     "text": [
      "Train loss:  0.22817745188671812\n",
      "Train accuracy:  0.91292\n",
      "              precision    recall  f1-score   support\n",
      "\n",
      "           0     0.8835    0.8295    0.8557     13314\n",
      "           1     0.8184    0.8754    0.8459     11686\n",
      "\n",
      "   micro avg     0.8510    0.8510    0.8510     25000\n",
      "   macro avg     0.8510    0.8525    0.8508     25000\n",
      "weighted avg     0.8531    0.8510    0.8511     25000\n",
      "\n"
     ]
    },
    {
     "name": "stderr",
     "output_type": "stream",
     "text": [
      "Training: 100%|███████████████████████████████████████████████████████████████████| 1563/1563 [00:09<00:00, 166.72it/s]\n",
      "Predicting: 100%|█████████████████████████████████████████████████████████████████| 1563/1563 [00:01<00:00, 838.13it/s]\n",
      "Predicting: 100%|█████████████████████████████████████████████████████████████████| 1563/1563 [00:01<00:00, 864.63it/s]\n"
     ]
    },
    {
     "name": "stdout",
     "output_type": "stream",
     "text": [
      "Train loss:  0.22732836320538669\n",
      "Train accuracy:  0.90872\n",
      "              precision    recall  f1-score   support\n",
      "\n",
      "           0     0.8914    0.8209    0.8547     13573\n",
      "           1     0.8055    0.8812    0.8416     11427\n",
      "\n",
      "   micro avg     0.8484    0.8484    0.8484     25000\n",
      "   macro avg     0.8484    0.8510    0.8482     25000\n",
      "weighted avg     0.8521    0.8484    0.8487     25000\n",
      "\n"
     ]
    },
    {
     "name": "stderr",
     "output_type": "stream",
     "text": [
      "Training: 100%|███████████████████████████████████████████████████████████████████| 1563/1563 [00:09<00:00, 165.58it/s]\n",
      "Predicting: 100%|█████████████████████████████████████████████████████████████████| 1563/1563 [00:01<00:00, 864.14it/s]\n",
      "Predicting: 100%|█████████████████████████████████████████████████████████████████| 1563/1563 [00:01<00:00, 998.50it/s]\n"
     ]
    },
    {
     "name": "stdout",
     "output_type": "stream",
     "text": [
      "Train loss:  0.2258980313062153\n",
      "Train accuracy:  0.90956\n",
      "              precision    recall  f1-score   support\n",
      "\n",
      "           0     0.8926    0.8199    0.8547     13608\n",
      "           1     0.8039    0.8821    0.8412     11392\n",
      "\n",
      "   micro avg     0.8482    0.8482    0.8482     25000\n",
      "   macro avg     0.8482    0.8510    0.8479     25000\n",
      "weighted avg     0.8522    0.8482    0.8485     25000\n",
      "\n"
     ]
    },
    {
     "name": "stderr",
     "output_type": "stream",
     "text": [
      "Training: 100%|███████████████████████████████████████████████████████████████████| 1563/1563 [00:08<00:00, 182.58it/s]\n",
      "Predicting: 100%|█████████████████████████████████████████████████████████████████| 1563/1563 [00:01<00:00, 876.79it/s]\n",
      "Predicting: 100%|█████████████████████████████████████████████████████████████████| 1563/1563 [00:01<00:00, 989.69it/s]\n"
     ]
    },
    {
     "name": "stdout",
     "output_type": "stream",
     "text": [
      "Train loss:  0.2254344006798928\n",
      "Train accuracy:  0.91192\n",
      "              precision    recall  f1-score   support\n",
      "\n",
      "           0     0.8925    0.8235    0.8566     13547\n",
      "           1     0.8087    0.8827    0.8441     11453\n",
      "\n",
      "   micro avg     0.8506    0.8506    0.8506     25000\n",
      "   macro avg     0.8506    0.8531    0.8503     25000\n",
      "weighted avg     0.8541    0.8506    0.8509     25000\n",
      "\n"
     ]
    },
    {
     "name": "stderr",
     "output_type": "stream",
     "text": [
      "Training: 100%|███████████████████████████████████████████████████████████████████| 1563/1563 [00:09<00:00, 163.24it/s]\n",
      "Predicting: 100%|█████████████████████████████████████████████████████████████████| 1563/1563 [00:01<00:00, 902.90it/s]\n",
      "Predicting: 100%|█████████████████████████████████████████████████████████████████| 1563/1563 [00:01<00:00, 903.39it/s]\n"
     ]
    },
    {
     "name": "stdout",
     "output_type": "stream",
     "text": [
      "Train loss:  0.22612972882166935\n",
      "Train accuracy:  0.91136\n",
      "              precision    recall  f1-score   support\n",
      "\n",
      "           0     0.8934    0.8201    0.8552     13616\n",
      "           1     0.8041    0.8829    0.8417     11384\n",
      "\n",
      "   micro avg     0.8487    0.8487    0.8487     25000\n",
      "   macro avg     0.8487    0.8515    0.8484     25000\n",
      "weighted avg     0.8527    0.8487    0.8490     25000\n",
      "\n"
     ]
    },
    {
     "name": "stderr",
     "output_type": "stream",
     "text": [
      "Training: 100%|███████████████████████████████████████████████████████████████████| 1563/1563 [00:09<00:00, 157.72it/s]\n",
      "Predicting: 100%|█████████████████████████████████████████████████████████████████| 1563/1563 [00:01<00:00, 900.22it/s]\n",
      "Predicting: 100%|█████████████████████████████████████████████████████████████████| 1563/1563 [00:01<00:00, 857.56it/s]\n"
     ]
    },
    {
     "name": "stdout",
     "output_type": "stream",
     "text": [
      "Train loss:  0.2246118427128534\n",
      "Train accuracy:  0.91148\n",
      "              precision    recall  f1-score   support\n",
      "\n",
      "           0     0.8978    0.8152    0.8545     13766\n",
      "           1     0.7965    0.8862    0.8390     11234\n",
      "\n",
      "   micro avg     0.8471    0.8471    0.8471     25000\n",
      "   macro avg     0.8471    0.8507    0.8467     25000\n",
      "weighted avg     0.8522    0.8471    0.8475     25000\n",
      "\n"
     ]
    },
    {
     "name": "stderr",
     "output_type": "stream",
     "text": [
      "Training: 100%|███████████████████████████████████████████████████████████████████| 1563/1563 [00:10<00:00, 151.87it/s]\n",
      "Predicting: 100%|█████████████████████████████████████████████████████████████████| 1563/1563 [00:01<00:00, 901.90it/s]\n",
      "Predicting: 100%|█████████████████████████████████████████████████████████████████| 1563/1563 [00:01<00:00, 900.38it/s]\n"
     ]
    },
    {
     "name": "stdout",
     "output_type": "stream",
     "text": [
      "Train loss:  0.22242052086717756\n",
      "Train accuracy:  0.91412\n",
      "              precision    recall  f1-score   support\n",
      "\n",
      "           0     0.8896    0.8263    0.8568     13458\n",
      "           1     0.8130    0.8804    0.8454     11542\n",
      "\n",
      "   micro avg     0.8513    0.8513    0.8513     25000\n",
      "   macro avg     0.8513    0.8534    0.8511     25000\n",
      "weighted avg     0.8542    0.8513    0.8515     25000\n",
      "\n"
     ]
    },
    {
     "name": "stderr",
     "output_type": "stream",
     "text": [
      "Training: 100%|███████████████████████████████████████████████████████████████████| 1563/1563 [00:10<00:00, 153.17it/s]\n",
      "Predicting: 100%|█████████████████████████████████████████████████████████████████| 1563/1563 [00:01<00:00, 890.42it/s]\n",
      "Predicting: 100%|█████████████████████████████████████████████████████████████████| 1563/1563 [00:01<00:00, 900.55it/s]\n"
     ]
    },
    {
     "name": "stdout",
     "output_type": "stream",
     "text": [
      "Train loss:  0.22158549976149622\n",
      "Train accuracy:  0.91388\n",
      "              precision    recall  f1-score   support\n",
      "\n",
      "           0     0.8885    0.8233    0.8547     13489\n",
      "           1     0.8094    0.8789    0.8427     11511\n",
      "\n",
      "   micro avg     0.8489    0.8489    0.8489     25000\n",
      "   macro avg     0.8489    0.8511    0.8487     25000\n",
      "weighted avg     0.8520    0.8489    0.8492     25000\n",
      "\n"
     ]
    },
    {
     "name": "stderr",
     "output_type": "stream",
     "text": [
      "Training: 100%|███████████████████████████████████████████████████████████████████| 1563/1563 [00:10<00:00, 145.04it/s]\n",
      "Predicting: 100%|█████████████████████████████████████████████████████████████████| 1563/1563 [00:01<00:00, 922.28it/s]\n",
      "Predicting: 100%|█████████████████████████████████████████████████████████████████| 1563/1563 [00:01<00:00, 905.05it/s]\n"
     ]
    },
    {
     "name": "stdout",
     "output_type": "stream",
     "text": [
      "Train loss:  0.22092662685177147\n",
      "Train accuracy:  0.90952\n",
      "              precision    recall  f1-score   support\n",
      "\n",
      "           0     0.8901    0.8200    0.8536     13569\n",
      "           1     0.8046    0.8798    0.8405     11431\n",
      "\n",
      "   micro avg     0.8473    0.8473    0.8473     25000\n",
      "   macro avg     0.8473    0.8499    0.8470     25000\n",
      "weighted avg     0.8510    0.8473    0.8476     25000\n",
      "\n"
     ]
    },
    {
     "name": "stderr",
     "output_type": "stream",
     "text": [
      "Training: 100%|███████████████████████████████████████████████████████████████████| 1563/1563 [00:10<00:00, 146.63it/s]\n",
      "Predicting: 100%|█████████████████████████████████████████████████████████████████| 1563/1563 [00:01<00:00, 899.81it/s]\n",
      "Predicting: 100%|█████████████████████████████████████████████████████████████████| 1563/1563 [00:01<00:00, 866.01it/s]\n"
     ]
    },
    {
     "name": "stdout",
     "output_type": "stream",
     "text": [
      "Train loss:  0.21880295797491295\n",
      "Train accuracy:  0.91492\n",
      "              precision    recall  f1-score   support\n",
      "\n",
      "           0     0.8869    0.8257    0.8552     13426\n",
      "           1     0.8128    0.8778    0.8441     11574\n",
      "\n",
      "   micro avg     0.8498    0.8498    0.8498     25000\n",
      "   macro avg     0.8498    0.8518    0.8496     25000\n",
      "weighted avg     0.8526    0.8498    0.8500     25000\n",
      "\n"
     ]
    },
    {
     "name": "stderr",
     "output_type": "stream",
     "text": [
      "Training: 100%|███████████████████████████████████████████████████████████████████| 1563/1563 [00:11<00:00, 141.30it/s]\n",
      "Predicting: 100%|█████████████████████████████████████████████████████████████████| 1563/1563 [00:01<00:00, 887.51it/s]\n",
      "Predicting: 100%|█████████████████████████████████████████████████████████████████| 1563/1563 [00:01<00:00, 979.56it/s]\n"
     ]
    },
    {
     "name": "stdout",
     "output_type": "stream",
     "text": [
      "Train loss:  0.221321737318659\n",
      "Train accuracy:  0.91048\n",
      "              precision    recall  f1-score   support\n",
      "\n",
      "           0     0.8939    0.8176    0.8541     13667\n",
      "           1     0.8006    0.8830    0.8398     11333\n",
      "\n",
      "   micro avg     0.8472    0.8472    0.8472     25000\n",
      "   macro avg     0.8472    0.8503    0.8469     25000\n",
      "weighted avg     0.8516    0.8472    0.8476     25000\n",
      "\n"
     ]
    },
    {
     "name": "stderr",
     "output_type": "stream",
     "text": [
      "Training: 100%|███████████████████████████████████████████████████████████████████| 1563/1563 [00:10<00:00, 156.11it/s]\n",
      "Predicting: 100%|█████████████████████████████████████████████████████████████████| 1563/1563 [00:01<00:00, 898.93it/s]\n",
      "Predicting: 100%|█████████████████████████████████████████████████████████████████| 1563/1563 [00:01<00:00, 880.24it/s]\n"
     ]
    },
    {
     "name": "stdout",
     "output_type": "stream",
     "text": [
      "Train loss:  0.2196381442720739\n",
      "Train accuracy:  0.91328\n",
      "              precision    recall  f1-score   support\n",
      "\n",
      "           0     0.8936    0.8172    0.8537     13669\n",
      "           1     0.8001    0.8826    0.8393     11331\n",
      "\n",
      "   micro avg     0.8468    0.8468    0.8468     25000\n",
      "   macro avg     0.8468    0.8499    0.8465     25000\n",
      "weighted avg     0.8512    0.8468    0.8472     25000\n",
      "\n"
     ]
    },
    {
     "name": "stderr",
     "output_type": "stream",
     "text": [
      "Training: 100%|███████████████████████████████████████████████████████████████████| 1563/1563 [00:10<00:00, 153.61it/s]\n",
      "Predicting: 100%|█████████████████████████████████████████████████████████████████| 1563/1563 [00:01<00:00, 884.06it/s]\n",
      "Predicting: 100%|█████████████████████████████████████████████████████████████████| 1563/1563 [00:01<00:00, 906.39it/s]\n"
     ]
    },
    {
     "name": "stdout",
     "output_type": "stream",
     "text": [
      "Train loss:  0.21757452100305624\n",
      "Train accuracy:  0.91372\n",
      "              precision    recall  f1-score   support\n",
      "\n",
      "           0     0.8914    0.8219    0.8553     13557\n",
      "           1     0.8069    0.8814    0.8425     11443\n",
      "\n",
      "   micro avg     0.8492    0.8492    0.8492     25000\n",
      "   macro avg     0.8492    0.8517    0.8489     25000\n",
      "weighted avg     0.8527    0.8492    0.8494     25000\n",
      "\n"
     ]
    },
    {
     "name": "stderr",
     "output_type": "stream",
     "text": [
      "Training: 100%|███████████████████████████████████████████████████████████████████| 1563/1563 [00:10<00:00, 155.48it/s]\n",
      "Predicting: 100%|█████████████████████████████████████████████████████████████████| 1563/1563 [00:01<00:00, 920.48it/s]\n",
      "Predicting: 100%|█████████████████████████████████████████████████████████████████| 1563/1563 [00:01<00:00, 893.21it/s]\n"
     ]
    },
    {
     "name": "stdout",
     "output_type": "stream",
     "text": [
      "Train loss:  0.2173968509807277\n",
      "Train accuracy:  0.91656\n",
      "              precision    recall  f1-score   support\n",
      "\n",
      "           0     0.8870    0.8254    0.8551     13434\n",
      "           1     0.8123    0.8779    0.8438     11566\n",
      "\n",
      "   micro avg     0.8497    0.8497    0.8497     25000\n",
      "   macro avg     0.8497    0.8516    0.8495     25000\n",
      "weighted avg     0.8525    0.8497    0.8499     25000\n",
      "\n"
     ]
    },
    {
     "name": "stderr",
     "output_type": "stream",
     "text": [
      "Training: 100%|███████████████████████████████████████████████████████████████████| 1563/1563 [00:10<00:00, 149.68it/s]\n",
      "Predicting: 100%|█████████████████████████████████████████████████████████████████| 1563/1563 [00:01<00:00, 856.09it/s]\n",
      "Predicting: 100%|█████████████████████████████████████████████████████████████████| 1563/1563 [00:01<00:00, 901.83it/s]\n"
     ]
    },
    {
     "name": "stdout",
     "output_type": "stream",
     "text": [
      "Train loss:  0.21463357003659525\n",
      "Train accuracy:  0.9136\n",
      "              precision    recall  f1-score   support\n",
      "\n",
      "           0     0.8972    0.8152    0.8542     13758\n",
      "           1     0.7966    0.8857    0.8388     11242\n",
      "\n",
      "   micro avg     0.8469    0.8469    0.8469     25000\n",
      "   macro avg     0.8469    0.8504    0.8465     25000\n",
      "weighted avg     0.8519    0.8469    0.8473     25000\n",
      "\n"
     ]
    },
    {
     "name": "stderr",
     "output_type": "stream",
     "text": [
      "Training: 100%|███████████████████████████████████████████████████████████████████| 1563/1563 [00:10<00:00, 145.53it/s]\n",
      "Predicting: 100%|█████████████████████████████████████████████████████████████████| 1563/1563 [00:01<00:00, 862.58it/s]\n",
      "Predicting: 100%|█████████████████████████████████████████████████████████████████| 1563/1563 [00:01<00:00, 905.21it/s]\n"
     ]
    },
    {
     "name": "stdout",
     "output_type": "stream",
     "text": [
      "Train loss:  0.21588542450860534\n",
      "Train accuracy:  0.91376\n",
      "              precision    recall  f1-score   support\n",
      "\n",
      "           0     0.8948    0.8156    0.8534     13714\n",
      "           1     0.7977    0.8835    0.8384     11286\n",
      "\n",
      "   micro avg     0.8462    0.8462    0.8462     25000\n",
      "   macro avg     0.8462    0.8495    0.8459     25000\n",
      "weighted avg     0.8510    0.8462    0.8466     25000\n",
      "\n"
     ]
    },
    {
     "name": "stderr",
     "output_type": "stream",
     "text": [
      "Training: 100%|███████████████████████████████████████████████████████████████████| 1563/1563 [00:09<00:00, 157.56it/s]\n",
      "Predicting: 100%|█████████████████████████████████████████████████████████████████| 1563/1563 [00:01<00:00, 897.20it/s]\n",
      "Predicting: 100%|█████████████████████████████████████████████████████████████████| 1563/1563 [00:01<00:00, 888.52it/s]\n"
     ]
    },
    {
     "name": "stdout",
     "output_type": "stream",
     "text": [
      "Train loss:  0.21502162085909227\n",
      "Train accuracy:  0.91392\n",
      "              precision    recall  f1-score   support\n",
      "\n",
      "           0     0.8942    0.8154    0.8530     13707\n",
      "           1     0.7976    0.8828    0.8381     11293\n",
      "\n",
      "   micro avg     0.8459    0.8459    0.8459     25000\n",
      "   macro avg     0.8459    0.8491    0.8455     25000\n",
      "weighted avg     0.8505    0.8459    0.8462     25000\n",
      "\n"
     ]
    },
    {
     "name": "stderr",
     "output_type": "stream",
     "text": [
      "Training: 100%|███████████████████████████████████████████████████████████████████| 1563/1563 [00:10<00:00, 155.71it/s]\n",
      "Predicting: 100%|█████████████████████████████████████████████████████████████████| 1563/1563 [00:01<00:00, 912.93it/s]\n",
      "Predicting: 100%|█████████████████████████████████████████████████████████████████| 1563/1563 [00:01<00:00, 870.04it/s]\n"
     ]
    },
    {
     "name": "stdout",
     "output_type": "stream",
     "text": [
      "Train loss:  0.2168165700961803\n",
      "Train accuracy:  0.915\n",
      "              precision    recall  f1-score   support\n",
      "\n",
      "           0     0.8937    0.8174    0.8539     13666\n",
      "           1     0.8004    0.8827    0.8396     11334\n",
      "\n",
      "   micro avg     0.8470    0.8470    0.8470     25000\n",
      "   macro avg     0.8470    0.8501    0.8467     25000\n",
      "weighted avg     0.8514    0.8470    0.8474     25000\n",
      "\n"
     ]
    },
    {
     "name": "stderr",
     "output_type": "stream",
     "text": [
      "Training: 100%|███████████████████████████████████████████████████████████████████| 1563/1563 [00:10<00:00, 147.82it/s]\n",
      "Predicting: 100%|█████████████████████████████████████████████████████████████████| 1563/1563 [00:01<00:00, 886.59it/s]\n",
      "Predicting: 100%|█████████████████████████████████████████████████████████████████| 1563/1563 [00:01<00:00, 908.94it/s]\n"
     ]
    },
    {
     "name": "stdout",
     "output_type": "stream",
     "text": [
      "Train loss:  0.21422170476317023\n",
      "Train accuracy:  0.9172\n",
      "              precision    recall  f1-score   support\n",
      "\n",
      "           0     0.8905    0.8224    0.8551     13535\n",
      "           1     0.8077    0.8806    0.8426     11465\n",
      "\n",
      "   micro avg     0.8491    0.8491    0.8491     25000\n",
      "   macro avg     0.8491    0.8515    0.8488     25000\n",
      "weighted avg     0.8525    0.8491    0.8493     25000\n",
      "\n"
     ]
    },
    {
     "name": "stderr",
     "output_type": "stream",
     "text": [
      "Training: 100%|███████████████████████████████████████████████████████████████████| 1563/1563 [00:11<00:00, 141.42it/s]\n",
      "Predicting: 100%|█████████████████████████████████████████████████████████████████| 1563/1563 [00:01<00:00, 899.59it/s]\n",
      "Predicting: 100%|█████████████████████████████████████████████████████████████████| 1563/1563 [00:01<00:00, 895.01it/s]\n"
     ]
    },
    {
     "name": "stdout",
     "output_type": "stream",
     "text": [
      "Train loss:  0.2104489505898758\n",
      "Train accuracy:  0.92256\n",
      "              precision    recall  f1-score   support\n",
      "\n",
      "           0     0.8814    0.8322    0.8561     13240\n",
      "           1     0.8222    0.8740    0.8473     11760\n",
      "\n",
      "   micro avg     0.8518    0.8518    0.8518     25000\n",
      "   macro avg     0.8518    0.8531    0.8517     25000\n",
      "weighted avg     0.8536    0.8518    0.8520     25000\n",
      "\n"
     ]
    },
    {
     "name": "stderr",
     "output_type": "stream",
     "text": [
      "Training: 100%|███████████████████████████████████████████████████████████████████| 1563/1563 [00:11<00:00, 133.80it/s]\n",
      "Predicting: 100%|█████████████████████████████████████████████████████████████████| 1563/1563 [00:01<00:00, 873.33it/s]\n",
      "Predicting: 100%|█████████████████████████████████████████████████████████████████| 1563/1563 [00:01<00:00, 902.52it/s]\n"
     ]
    },
    {
     "name": "stdout",
     "output_type": "stream",
     "text": [
      "Train loss:  0.21093333290171257\n",
      "Train accuracy:  0.91924\n",
      "              precision    recall  f1-score   support\n",
      "\n",
      "           0     0.8875    0.8259    0.8556     13433\n",
      "           1     0.8129    0.8784    0.8444     11567\n",
      "\n",
      "   micro avg     0.8502    0.8502    0.8502     25000\n",
      "   macro avg     0.8502    0.8522    0.8500     25000\n",
      "weighted avg     0.8530    0.8502    0.8504     25000\n",
      "\n"
     ]
    },
    {
     "name": "stderr",
     "output_type": "stream",
     "text": [
      "Training: 100%|███████████████████████████████████████████████████████████████████| 1563/1563 [00:09<00:00, 158.50it/s]\n",
      "Predicting: 100%|█████████████████████████████████████████████████████████████████| 1563/1563 [00:01<00:00, 842.32it/s]\n",
      "Predicting: 100%|█████████████████████████████████████████████████████████████████| 1563/1563 [00:01<00:00, 920.09it/s]\n"
     ]
    },
    {
     "name": "stdout",
     "output_type": "stream",
     "text": [
      "Train loss:  0.21136527571181266\n",
      "Train accuracy:  0.91288\n",
      "              precision    recall  f1-score   support\n",
      "\n",
      "           0     0.8951    0.8119    0.8515     13781\n",
      "           1     0.7926    0.8831    0.8354     11219\n",
      "\n",
      "   micro avg     0.8439    0.8439    0.8439     25000\n",
      "   macro avg     0.8439    0.8475    0.8435     25000\n",
      "weighted avg     0.8491    0.8439    0.8443     25000\n",
      "\n"
     ]
    },
    {
     "name": "stderr",
     "output_type": "stream",
     "text": [
      "Training: 100%|███████████████████████████████████████████████████████████████████| 1563/1563 [00:09<00:00, 165.68it/s]\n",
      "Predicting: 100%|█████████████████████████████████████████████████████████████████| 1563/1563 [00:01<00:00, 901.37it/s]\n",
      "Predicting: 100%|█████████████████████████████████████████████████████████████████| 1563/1563 [00:01<00:00, 882.08it/s]\n"
     ]
    },
    {
     "name": "stdout",
     "output_type": "stream",
     "text": [
      "Train loss:  0.20947725898082714\n",
      "Train accuracy:  0.9172\n",
      "              precision    recall  f1-score   support\n",
      "\n",
      "           0     0.8973    0.8155    0.8545     13753\n",
      "           1     0.7970    0.8858    0.8391     11247\n",
      "\n",
      "   micro avg     0.8472    0.8472    0.8472     25000\n",
      "   macro avg     0.8472    0.8507    0.8468     25000\n",
      "weighted avg     0.8522    0.8472    0.8475     25000\n",
      "\n"
     ]
    },
    {
     "name": "stderr",
     "output_type": "stream",
     "text": [
      "Training: 100%|███████████████████████████████████████████████████████████████████| 1563/1563 [00:10<00:00, 146.17it/s]\n",
      "Predicting: 100%|█████████████████████████████████████████████████████████████████| 1563/1563 [00:01<00:00, 854.58it/s]\n",
      "Predicting: 100%|█████████████████████████████████████████████████████████████████| 1563/1563 [00:01<00:00, 898.14it/s]\n"
     ]
    },
    {
     "name": "stdout",
     "output_type": "stream",
     "text": [
      "Train loss:  0.20935133923028648\n",
      "Train accuracy:  0.9198\n",
      "              precision    recall  f1-score   support\n",
      "\n",
      "           0     0.8893    0.8213    0.8540     13534\n",
      "           1     0.8066    0.8793    0.8414     11466\n",
      "\n",
      "   micro avg     0.8479    0.8479    0.8479     25000\n",
      "   macro avg     0.8479    0.8503    0.8477     25000\n",
      "weighted avg     0.8513    0.8479    0.8482     25000\n",
      "\n"
     ]
    },
    {
     "name": "stderr",
     "output_type": "stream",
     "text": [
      "Training: 100%|███████████████████████████████████████████████████████████████████| 1563/1563 [00:11<00:00, 132.74it/s]\n",
      "Predicting: 100%|█████████████████████████████████████████████████████████████████| 1563/1563 [00:01<00:00, 898.09it/s]\n",
      "Predicting: 100%|█████████████████████████████████████████████████████████████████| 1563/1563 [00:01<00:00, 884.98it/s]\n"
     ]
    },
    {
     "name": "stdout",
     "output_type": "stream",
     "text": [
      "Train loss:  0.20891838819169875\n",
      "Train accuracy:  0.9182\n",
      "              precision    recall  f1-score   support\n",
      "\n",
      "           0     0.8931    0.8174    0.8536     13658\n",
      "           1     0.8005    0.8822    0.8394     11342\n",
      "\n",
      "   micro avg     0.8468    0.8468    0.8468     25000\n",
      "   macro avg     0.8468    0.8498    0.8465     25000\n",
      "weighted avg     0.8511    0.8468    0.8471     25000\n",
      "\n"
     ]
    },
    {
     "name": "stderr",
     "output_type": "stream",
     "text": [
      "Training: 100%|███████████████████████████████████████████████████████████████████| 1563/1563 [00:07<00:00, 258.99it/s]\n",
      "Predicting: 100%|█████████████████████████████████████████████████████████████████| 1563/1563 [00:01<00:00, 868.08it/s]\n",
      "Predicting: 100%|█████████████████████████████████████████████████████████████████| 1563/1563 [00:01<00:00, 970.26it/s]\n"
     ]
    },
    {
     "name": "stdout",
     "output_type": "stream",
     "text": [
      "Train loss:  0.2075112884839185\n",
      "Train accuracy:  0.91696\n",
      "              precision    recall  f1-score   support\n",
      "\n",
      "           0     0.9006    0.8126    0.8543     13853\n",
      "           1     0.7923    0.8885    0.8377     11147\n",
      "\n",
      "   micro avg     0.8464    0.8464    0.8464     25000\n",
      "   macro avg     0.8464    0.8505    0.8460     25000\n",
      "weighted avg     0.8523    0.8464    0.8469     25000\n",
      "\n"
     ]
    },
    {
     "name": "stderr",
     "output_type": "stream",
     "text": [
      "Training: 100%|███████████████████████████████████████████████████████████████████| 1563/1563 [00:10<00:00, 155.04it/s]\n",
      "Predicting: 100%|█████████████████████████████████████████████████████████████████| 1563/1563 [00:01<00:00, 912.69it/s]\n",
      "Predicting: 100%|█████████████████████████████████████████████████████████████████| 1563/1563 [00:01<00:00, 945.28it/s]\n"
     ]
    },
    {
     "name": "stdout",
     "output_type": "stream",
     "text": [
      "Train loss:  0.2060674474510869\n",
      "Train accuracy:  0.91712\n",
      "              precision    recall  f1-score   support\n",
      "\n",
      "           0     0.8966    0.8164    0.8546     13729\n",
      "           1     0.7983    0.8854    0.8396     11271\n",
      "\n",
      "   micro avg     0.8475    0.8475    0.8475     25000\n",
      "   macro avg     0.8475    0.8509    0.8471     25000\n",
      "weighted avg     0.8523    0.8475    0.8478     25000\n",
      "\n"
     ]
    },
    {
     "name": "stderr",
     "output_type": "stream",
     "text": [
      "Training:  77%|███████████████████████████████████████████████████▊               | 1210/1563 [00:07<00:02, 127.44it/s]\n"
     ]
    },
    {
     "ename": "KeyboardInterrupt",
     "evalue": "",
     "output_type": "error",
     "traceback": [
      "\u001b[1;31m---------------------------------------------------------------------------\u001b[0m",
      "\u001b[1;31mKeyboardInterrupt\u001b[0m                         Traceback (most recent call last)",
      "\u001b[1;32m<ipython-input-31-2f5b76358370>\u001b[0m in \u001b[0;36m<module>\u001b[1;34m\u001b[0m\n\u001b[0;32m     30\u001b[0m                                       \u001b[0mneg_embed\u001b[0m \u001b[1;33m=\u001b[0m \u001b[0mneg_embed\u001b[0m\u001b[1;33m.\u001b[0m\u001b[0mcuda\u001b[0m\u001b[1;33m(\u001b[0m\u001b[1;33m)\u001b[0m\u001b[1;33m,\u001b[0m\u001b[1;33m\u001b[0m\u001b[1;33m\u001b[0m\u001b[0m\n\u001b[0;32m     31\u001b[0m                                       \u001b[0mpos_embed\u001b[0m \u001b[1;33m=\u001b[0m \u001b[0mpos_embed\u001b[0m\u001b[1;33m.\u001b[0m\u001b[0mcuda\u001b[0m\u001b[1;33m(\u001b[0m\u001b[1;33m)\u001b[0m\u001b[1;33m,\u001b[0m\u001b[1;33m\u001b[0m\u001b[1;33m\u001b[0m\u001b[0m\n\u001b[1;32m---> 32\u001b[1;33m                                       labels = labels.cuda())\n\u001b[0m\u001b[0;32m     33\u001b[0m         \u001b[0mloss\u001b[0m\u001b[1;33m.\u001b[0m\u001b[0mbackward\u001b[0m\u001b[1;33m(\u001b[0m\u001b[1;33m)\u001b[0m\u001b[1;33m\u001b[0m\u001b[1;33m\u001b[0m\u001b[0m\n\u001b[0;32m     34\u001b[0m         \u001b[0mbert_llr_optimizer\u001b[0m\u001b[1;33m.\u001b[0m\u001b[0mstep\u001b[0m\u001b[1;33m(\u001b[0m\u001b[1;33m)\u001b[0m\u001b[1;33m\u001b[0m\u001b[1;33m\u001b[0m\u001b[0m\n",
      "\u001b[1;32mC:\\ProgramData\\Anaconda3\\lib\\site-packages\\torch\\nn\\modules\\module.py\u001b[0m in \u001b[0;36m__call__\u001b[1;34m(self, *input, **kwargs)\u001b[0m\n\u001b[0;32m    539\u001b[0m             \u001b[0mresult\u001b[0m \u001b[1;33m=\u001b[0m \u001b[0mself\u001b[0m\u001b[1;33m.\u001b[0m\u001b[0m_slow_forward\u001b[0m\u001b[1;33m(\u001b[0m\u001b[1;33m*\u001b[0m\u001b[0minput\u001b[0m\u001b[1;33m,\u001b[0m \u001b[1;33m**\u001b[0m\u001b[0mkwargs\u001b[0m\u001b[1;33m)\u001b[0m\u001b[1;33m\u001b[0m\u001b[1;33m\u001b[0m\u001b[0m\n\u001b[0;32m    540\u001b[0m         \u001b[1;32melse\u001b[0m\u001b[1;33m:\u001b[0m\u001b[1;33m\u001b[0m\u001b[1;33m\u001b[0m\u001b[0m\n\u001b[1;32m--> 541\u001b[1;33m             \u001b[0mresult\u001b[0m \u001b[1;33m=\u001b[0m \u001b[0mself\u001b[0m\u001b[1;33m.\u001b[0m\u001b[0mforward\u001b[0m\u001b[1;33m(\u001b[0m\u001b[1;33m*\u001b[0m\u001b[0minput\u001b[0m\u001b[1;33m,\u001b[0m \u001b[1;33m**\u001b[0m\u001b[0mkwargs\u001b[0m\u001b[1;33m)\u001b[0m\u001b[1;33m\u001b[0m\u001b[1;33m\u001b[0m\u001b[0m\n\u001b[0m\u001b[0;32m    542\u001b[0m         \u001b[1;32mfor\u001b[0m \u001b[0mhook\u001b[0m \u001b[1;32min\u001b[0m \u001b[0mself\u001b[0m\u001b[1;33m.\u001b[0m\u001b[0m_forward_hooks\u001b[0m\u001b[1;33m.\u001b[0m\u001b[0mvalues\u001b[0m\u001b[1;33m(\u001b[0m\u001b[1;33m)\u001b[0m\u001b[1;33m:\u001b[0m\u001b[1;33m\u001b[0m\u001b[1;33m\u001b[0m\u001b[0m\n\u001b[0;32m    543\u001b[0m             \u001b[0mhook_result\u001b[0m \u001b[1;33m=\u001b[0m \u001b[0mhook\u001b[0m\u001b[1;33m(\u001b[0m\u001b[0mself\u001b[0m\u001b[1;33m,\u001b[0m \u001b[0minput\u001b[0m\u001b[1;33m,\u001b[0m \u001b[0mresult\u001b[0m\u001b[1;33m)\u001b[0m\u001b[1;33m\u001b[0m\u001b[1;33m\u001b[0m\u001b[0m\n",
      "\u001b[1;32m<ipython-input-29-375ec49bdb78>\u001b[0m in \u001b[0;36mforward\u001b[1;34m(self, cls_vectors, neg_embed, pos_embed, labels)\u001b[0m\n\u001b[0;32m     13\u001b[0m \u001b[1;33m\u001b[0m\u001b[0m\n\u001b[0;32m     14\u001b[0m     \u001b[1;32mdef\u001b[0m \u001b[0mforward\u001b[0m\u001b[1;33m(\u001b[0m\u001b[0mself\u001b[0m\u001b[1;33m,\u001b[0m \u001b[0mcls_vectors\u001b[0m\u001b[1;33m=\u001b[0m\u001b[1;32mNone\u001b[0m\u001b[1;33m,\u001b[0m \u001b[0mneg_embed\u001b[0m\u001b[1;33m=\u001b[0m\u001b[1;32mNone\u001b[0m\u001b[1;33m,\u001b[0m \u001b[0mpos_embed\u001b[0m\u001b[1;33m=\u001b[0m\u001b[1;32mNone\u001b[0m\u001b[1;33m,\u001b[0m \u001b[0mlabels\u001b[0m\u001b[1;33m=\u001b[0m\u001b[1;32mNone\u001b[0m\u001b[1;33m)\u001b[0m\u001b[1;33m:\u001b[0m\u001b[1;33m\u001b[0m\u001b[1;33m\u001b[0m\u001b[0m\n\u001b[1;32m---> 15\u001b[1;33m         \u001b[0mtanh_cls_vectors\u001b[0m \u001b[1;33m=\u001b[0m \u001b[0mself\u001b[0m\u001b[1;33m.\u001b[0m\u001b[0mbert_activation\u001b[0m\u001b[1;33m(\u001b[0m\u001b[0mself\u001b[0m\u001b[1;33m.\u001b[0m\u001b[0mbert\u001b[0m\u001b[1;33m(\u001b[0m\u001b[0mcls_vectors\u001b[0m\u001b[1;33m)\u001b[0m\u001b[1;33m)\u001b[0m\u001b[1;33m\u001b[0m\u001b[1;33m\u001b[0m\u001b[0m\n\u001b[0m\u001b[0;32m     16\u001b[0m \u001b[1;33m\u001b[0m\u001b[0m\n\u001b[0;32m     17\u001b[0m         \u001b[0mllr_vectors\u001b[0m \u001b[1;33m=\u001b[0m \u001b[0mtorch\u001b[0m\u001b[1;33m.\u001b[0m\u001b[0mcat\u001b[0m\u001b[1;33m(\u001b[0m\u001b[1;33m[\u001b[0m\u001b[0mneg_embed\u001b[0m\u001b[1;33m,\u001b[0m \u001b[0mpos_embed\u001b[0m\u001b[1;33m]\u001b[0m\u001b[1;33m,\u001b[0m \u001b[0mdim\u001b[0m\u001b[1;33m=\u001b[0m\u001b[1;36m1\u001b[0m\u001b[1;33m)\u001b[0m\u001b[1;33m\u001b[0m\u001b[1;33m\u001b[0m\u001b[0m\n",
      "\u001b[1;32mC:\\ProgramData\\Anaconda3\\lib\\site-packages\\torch\\nn\\modules\\module.py\u001b[0m in \u001b[0;36m__call__\u001b[1;34m(self, *input, **kwargs)\u001b[0m\n\u001b[0;32m    539\u001b[0m             \u001b[0mresult\u001b[0m \u001b[1;33m=\u001b[0m \u001b[0mself\u001b[0m\u001b[1;33m.\u001b[0m\u001b[0m_slow_forward\u001b[0m\u001b[1;33m(\u001b[0m\u001b[1;33m*\u001b[0m\u001b[0minput\u001b[0m\u001b[1;33m,\u001b[0m \u001b[1;33m**\u001b[0m\u001b[0mkwargs\u001b[0m\u001b[1;33m)\u001b[0m\u001b[1;33m\u001b[0m\u001b[1;33m\u001b[0m\u001b[0m\n\u001b[0;32m    540\u001b[0m         \u001b[1;32melse\u001b[0m\u001b[1;33m:\u001b[0m\u001b[1;33m\u001b[0m\u001b[1;33m\u001b[0m\u001b[0m\n\u001b[1;32m--> 541\u001b[1;33m             \u001b[0mresult\u001b[0m \u001b[1;33m=\u001b[0m \u001b[0mself\u001b[0m\u001b[1;33m.\u001b[0m\u001b[0mforward\u001b[0m\u001b[1;33m(\u001b[0m\u001b[1;33m*\u001b[0m\u001b[0minput\u001b[0m\u001b[1;33m,\u001b[0m \u001b[1;33m**\u001b[0m\u001b[0mkwargs\u001b[0m\u001b[1;33m)\u001b[0m\u001b[1;33m\u001b[0m\u001b[1;33m\u001b[0m\u001b[0m\n\u001b[0m\u001b[0;32m    542\u001b[0m         \u001b[1;32mfor\u001b[0m \u001b[0mhook\u001b[0m \u001b[1;32min\u001b[0m \u001b[0mself\u001b[0m\u001b[1;33m.\u001b[0m\u001b[0m_forward_hooks\u001b[0m\u001b[1;33m.\u001b[0m\u001b[0mvalues\u001b[0m\u001b[1;33m(\u001b[0m\u001b[1;33m)\u001b[0m\u001b[1;33m:\u001b[0m\u001b[1;33m\u001b[0m\u001b[1;33m\u001b[0m\u001b[0m\n\u001b[0;32m    543\u001b[0m             \u001b[0mhook_result\u001b[0m \u001b[1;33m=\u001b[0m \u001b[0mhook\u001b[0m\u001b[1;33m(\u001b[0m\u001b[0mself\u001b[0m\u001b[1;33m,\u001b[0m \u001b[0minput\u001b[0m\u001b[1;33m,\u001b[0m \u001b[0mresult\u001b[0m\u001b[1;33m)\u001b[0m\u001b[1;33m\u001b[0m\u001b[1;33m\u001b[0m\u001b[0m\n",
      "\u001b[1;32mC:\\ProgramData\\Anaconda3\\lib\\site-packages\\torch\\nn\\modules\\activation.py\u001b[0m in \u001b[0;36mforward\u001b[1;34m(self, input)\u001b[0m\n\u001b[0;32m    293\u001b[0m \u001b[1;33m\u001b[0m\u001b[0m\n\u001b[0;32m    294\u001b[0m     \u001b[1;32mdef\u001b[0m \u001b[0mforward\u001b[0m\u001b[1;33m(\u001b[0m\u001b[0mself\u001b[0m\u001b[1;33m,\u001b[0m \u001b[0minput\u001b[0m\u001b[1;33m)\u001b[0m\u001b[1;33m:\u001b[0m\u001b[1;33m\u001b[0m\u001b[1;33m\u001b[0m\u001b[0m\n\u001b[1;32m--> 295\u001b[1;33m         \u001b[1;32mreturn\u001b[0m \u001b[0mtorch\u001b[0m\u001b[1;33m.\u001b[0m\u001b[0mtanh\u001b[0m\u001b[1;33m(\u001b[0m\u001b[0minput\u001b[0m\u001b[1;33m)\u001b[0m\u001b[1;33m\u001b[0m\u001b[1;33m\u001b[0m\u001b[0m\n\u001b[0m\u001b[0;32m    296\u001b[0m \u001b[1;33m\u001b[0m\u001b[0m\n\u001b[0;32m    297\u001b[0m \u001b[1;33m\u001b[0m\u001b[0m\n",
      "\u001b[1;31mKeyboardInterrupt\u001b[0m: "
     ]
    }
   ],
   "source": [
    "dataloader = DataLoader(TensorDataset(torch.tensor(cls_vectors, dtype=torch.float),\n",
    "                                      torch.tensor(train.negative_embedding, dtype=torch.float),\n",
    "                                      torch.tensor(train.positive_embedding, dtype=torch.float),\n",
    "                                      torch.tensor(train.polarity)\n",
    "                                     ),\n",
    "                        batch_size=16\n",
    "                       )\n",
    "\n",
    "dataloader_test = DataLoader(TensorDataset(torch.tensor(cls_vectors_test, dtype=torch.float),\n",
    "                                          torch.tensor(test.negative_embedding, dtype=torch.float),\n",
    "                                          torch.tensor(test.positive_embedding, dtype=torch.float),\n",
    "                                          torch.tensor(test.polarity)\n",
    "                                         ),\n",
    "                            batch_size=16\n",
    "                           )\n",
    "\n",
    "\n",
    "bert_llr_model.to('cuda')\n",
    "train_loss = []\n",
    "train_accuracy = []\n",
    "test_f1 = []\n",
    "for _ in range(10):\n",
    "    # Training\n",
    "    bert_llr_model.train()\n",
    "    tr_loss = []\n",
    "    for cls_vector, neg_embed, pos_embed, labels in tqdm(dataloader, desc='Training'):\n",
    "        #print(labels)\n",
    "        bert_llr_optimizer.zero_grad()\n",
    "        logits, loss = bert_llr_model(cls_vectors = cls_vector.cuda(), \n",
    "                                      neg_embed = neg_embed.cuda(), \n",
    "                                      pos_embed = pos_embed.cuda(), \n",
    "                                      labels = labels.cuda())\n",
    "        loss.backward()\n",
    "        bert_llr_optimizer.step()\n",
    "        tr_loss.append(loss.item())\n",
    "    loss_score = sum(tr_loss)/len(tr_loss)\n",
    "    train_loss.append(loss_score)\n",
    "    \n",
    "    # Evaluation\n",
    "    bert_llr_model.eval()\n",
    "    predictions = []\n",
    "    for cls_vector, neg_embed, pos_embed, labels in tqdm(dataloader, desc='Predicting'):\n",
    "        with torch.no_grad():\n",
    "            logits = bert_llr_model(cls_vectors = cls_vector.cuda(),\n",
    "                                    neg_embed = neg_embed.cuda(),\n",
    "                                    pos_embed = pos_embed.cuda())[0] #This is for generate predict only\n",
    "        logits = logits.detach().cpu().numpy()\n",
    "        predictions.append(logits)\n",
    "    predictions = [j for i in predictions for j in i]\n",
    "    predictions = np.argmax(predictions, axis=1)\n",
    "    acc_score = accuracy_score(predictions, train.polarity)\n",
    "    train_accuracy.append(acc_score)\n",
    "    \n",
    "    # Predict data\n",
    "    predictions = []\n",
    "    for cls_vector, neg_embed, pos_embed, labels in tqdm(dataloader_test, desc='Predicting'):\n",
    "        with torch.no_grad():\n",
    "            logits = bert_llr_model(cls_vectors = cls_vector.cuda(),\n",
    "                                    neg_embed = neg_embed.cuda(),\n",
    "                                    pos_embed = pos_embed.cuda())[0] #This is for generate predict only\n",
    "        logits = logits.detach().cpu().numpy()\n",
    "        predictions.append(logits)\n",
    "    preds = [j for i in predictions for j in i]\n",
    "    preds = np.argmax(preds, axis=1)\n",
    "    test_f1.append(f1_score(preds, test.polarity, average='macro'))\n",
    "    \n",
    "    # Print result\n",
    "    print('Train loss: ', loss_score)\n",
    "    print('Train accuracy: ',acc_score)\n",
    "    print(classification_report(preds, test.polarity, digits=4))\n",
    "        "
   ]
  },
  {
   "cell_type": "code",
   "execution_count": 27,
   "metadata": {},
   "outputs": [
    {
     "name": "stdout",
     "output_type": "stream",
     "text": [
      "[0.6091443893624207, 0.5192290250490814, 0.47306699867783947, 0.4451642018228636, 0.4262837194435427, 0.41259511840015517, 0.40247247462957547, 0.3933825103026205, 0.38607654931239416, 0.3801700164369109]\n",
      "[0.75452, 0.78908, 0.80148, 0.81176, 0.82024, 0.82596, 0.8304, 0.83424, 0.83784, 0.84064]\n",
      "[0.7431020667888952, 0.7807754945986536, 0.7938288052732954, 0.8032311831550436, 0.8101958010506023, 0.8153445873109721, 0.82003608808, 0.8238238625140057, 0.8256383482518476, 0.8286212187232584]\n"
     ]
    }
   ],
   "source": [
    "print(train_loss)\n",
    "print(train_accuracy)\n",
    "print(test_f1)"
   ]
  },
  {
   "cell_type": "markdown",
   "metadata": {},
   "source": [
    "## 3.4. Predict test data"
   ]
  },
  {
   "cell_type": "code",
   "execution_count": 70,
   "metadata": {},
   "outputs": [
    {
     "data": {
      "application/vnd.jupyter.widget-view+json": {
       "model_id": "03fc733f685741cda1d408c12d45f593",
       "version_major": 2,
       "version_minor": 0
      },
      "text/plain": [
       "HBox(children=(IntProgress(value=0, description='Predicting', max=1563, style=ProgressStyle(description_width=…"
      ]
     },
     "metadata": {},
     "output_type": "display_data"
    },
    {
     "name": "stdout",
     "output_type": "stream",
     "text": [
      "\n",
      "              precision    recall  f1-score   support\n",
      "\n",
      "           0     0.9366    0.9342    0.9354     12533\n",
      "           1     0.9340    0.9365    0.9352     12467\n",
      "\n",
      "   micro avg     0.9353    0.9353    0.9353     25000\n",
      "   macro avg     0.9353    0.9353    0.9353     25000\n",
      "weighted avg     0.9353    0.9353    0.9353     25000\n",
      "\n"
     ]
    }
   ],
   "source": [
    "dataloader = DataLoader(TensorDataset(torch.tensor(cls_vectors_test, dtype=torch.float),\n",
    "                                      torch.tensor(test.negative_embedding, dtype=torch.float),\n",
    "                                      torch.tensor(test.positive_embedding, dtype=torch.float),\n",
    "                                      torch.tensor(test.polarity)\n",
    "                                     ),\n",
    "                        batch_size=16\n",
    "                       )\n",
    "\n",
    "bert_llr_model.to('cuda')\n",
    "bert_llr_model.eval()\n",
    "\n",
    "predictions = []\n",
    "for cls_vector, neg_embed, pos_embed, labels in tqdm_notebook(dataloader, desc='Predicting'):\n",
    "    with torch.no_grad():\n",
    "        logits = bert_llr_model(cls_vectors = cls_vector.cuda(),\n",
    "                                neg_embed = neg_embed.cuda(),\n",
    "                                pos_embed = pos_embed.cuda())[0] #This is for generate predict only\n",
    "    logits = logits.detach().cpu().numpy()\n",
    "    predictions.append(logits)\n",
    "\n",
    "\n",
    "preds = [j for i in predictions for j in i]\n",
    "preds = np.argmax(preds, axis=1)\n",
    "print(classification_report(preds, test.polarity, digits=4))\n",
    "\n"
   ]
  }
 ],
 "metadata": {
  "kernelspec": {
   "display_name": "Python 3",
   "language": "python",
   "name": "python3"
  },
  "language_info": {
   "codemirror_mode": {
    "name": "ipython",
    "version": 3
   },
   "file_extension": ".py",
   "mimetype": "text/x-python",
   "name": "python",
   "nbconvert_exporter": "python",
   "pygments_lexer": "ipython3",
   "version": "3.7.3"
  }
 },
 "nbformat": 4,
 "nbformat_minor": 2
}
