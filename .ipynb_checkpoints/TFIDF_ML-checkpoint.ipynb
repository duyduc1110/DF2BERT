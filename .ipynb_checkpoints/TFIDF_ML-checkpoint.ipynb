{
 "cells": [
  {
   "cell_type": "code",
   "execution_count": 1,
   "metadata": {
    "scrolled": true
   },
   "outputs": [
    {
     "name": "stderr",
     "output_type": "stream",
     "text": [
      "C:\\ProgramData\\Anaconda3\\lib\\site-packages\\tensorflow\\python\\framework\\dtypes.py:516: FutureWarning: Passing (type, 1) or '1type' as a synonym of type is deprecated; in a future version of numpy, it will be understood as (type, (1,)) / '(1,)type'.\n",
      "  _np_qint8 = np.dtype([(\"qint8\", np.int8, 1)])\n",
      "C:\\ProgramData\\Anaconda3\\lib\\site-packages\\tensorflow\\python\\framework\\dtypes.py:517: FutureWarning: Passing (type, 1) or '1type' as a synonym of type is deprecated; in a future version of numpy, it will be understood as (type, (1,)) / '(1,)type'.\n",
      "  _np_quint8 = np.dtype([(\"quint8\", np.uint8, 1)])\n",
      "C:\\ProgramData\\Anaconda3\\lib\\site-packages\\tensorflow\\python\\framework\\dtypes.py:518: FutureWarning: Passing (type, 1) or '1type' as a synonym of type is deprecated; in a future version of numpy, it will be understood as (type, (1,)) / '(1,)type'.\n",
      "  _np_qint16 = np.dtype([(\"qint16\", np.int16, 1)])\n",
      "C:\\ProgramData\\Anaconda3\\lib\\site-packages\\tensorflow\\python\\framework\\dtypes.py:519: FutureWarning: Passing (type, 1) or '1type' as a synonym of type is deprecated; in a future version of numpy, it will be understood as (type, (1,)) / '(1,)type'.\n",
      "  _np_quint16 = np.dtype([(\"quint16\", np.uint16, 1)])\n",
      "C:\\ProgramData\\Anaconda3\\lib\\site-packages\\tensorflow\\python\\framework\\dtypes.py:520: FutureWarning: Passing (type, 1) or '1type' as a synonym of type is deprecated; in a future version of numpy, it will be understood as (type, (1,)) / '(1,)type'.\n",
      "  _np_qint32 = np.dtype([(\"qint32\", np.int32, 1)])\n",
      "C:\\ProgramData\\Anaconda3\\lib\\site-packages\\tensorflow\\python\\framework\\dtypes.py:525: FutureWarning: Passing (type, 1) or '1type' as a synonym of type is deprecated; in a future version of numpy, it will be understood as (type, (1,)) / '(1,)type'.\n",
      "  np_resource = np.dtype([(\"resource\", np.ubyte, 1)])\n",
      "C:\\ProgramData\\Anaconda3\\lib\\site-packages\\tensorboard\\compat\\tensorflow_stub\\dtypes.py:541: FutureWarning: Passing (type, 1) or '1type' as a synonym of type is deprecated; in a future version of numpy, it will be understood as (type, (1,)) / '(1,)type'.\n",
      "  _np_qint8 = np.dtype([(\"qint8\", np.int8, 1)])\n",
      "C:\\ProgramData\\Anaconda3\\lib\\site-packages\\tensorboard\\compat\\tensorflow_stub\\dtypes.py:542: FutureWarning: Passing (type, 1) or '1type' as a synonym of type is deprecated; in a future version of numpy, it will be understood as (type, (1,)) / '(1,)type'.\n",
      "  _np_quint8 = np.dtype([(\"quint8\", np.uint8, 1)])\n",
      "C:\\ProgramData\\Anaconda3\\lib\\site-packages\\tensorboard\\compat\\tensorflow_stub\\dtypes.py:543: FutureWarning: Passing (type, 1) or '1type' as a synonym of type is deprecated; in a future version of numpy, it will be understood as (type, (1,)) / '(1,)type'.\n",
      "  _np_qint16 = np.dtype([(\"qint16\", np.int16, 1)])\n",
      "C:\\ProgramData\\Anaconda3\\lib\\site-packages\\tensorboard\\compat\\tensorflow_stub\\dtypes.py:544: FutureWarning: Passing (type, 1) or '1type' as a synonym of type is deprecated; in a future version of numpy, it will be understood as (type, (1,)) / '(1,)type'.\n",
      "  _np_quint16 = np.dtype([(\"quint16\", np.uint16, 1)])\n",
      "C:\\ProgramData\\Anaconda3\\lib\\site-packages\\tensorboard\\compat\\tensorflow_stub\\dtypes.py:545: FutureWarning: Passing (type, 1) or '1type' as a synonym of type is deprecated; in a future version of numpy, it will be understood as (type, (1,)) / '(1,)type'.\n",
      "  _np_qint32 = np.dtype([(\"qint32\", np.int32, 1)])\n",
      "C:\\ProgramData\\Anaconda3\\lib\\site-packages\\tensorboard\\compat\\tensorflow_stub\\dtypes.py:550: FutureWarning: Passing (type, 1) or '1type' as a synonym of type is deprecated; in a future version of numpy, it will be understood as (type, (1,)) / '(1,)type'.\n",
      "  np_resource = np.dtype([(\"resource\", np.ubyte, 1)])\n",
      "Using TensorFlow backend.\n"
     ]
    },
    {
     "data": {
      "text/plain": [
       "'GeForce RTX 2080 Ti'"
      ]
     },
     "execution_count": 1,
     "metadata": {},
     "output_type": "execute_result"
    }
   ],
   "source": [
    "import tensorflow as tf\n",
    "import tensorflow_hub as hub\n",
    "import pandas as pd\n",
    "import numpy as np\n",
    "import torch\n",
    "import transformers\n",
    "import inspect\n",
    "import time\n",
    "import logging\n",
    "\n",
    "from tqdm import trange, tqdm, tqdm_notebook, tqdm_pandas, tqdm_gui\n",
    "from datetime import datetime\n",
    "from tqdm import tqdm\n",
    "from transformers import BertConfig, BertModel, BertTokenizer, BertForSequenceClassification, AdamW\n",
    "from transformers import get_constant_schedule_with_warmup\n",
    "from torch.utils.data import TensorDataset, DataLoader, RandomSampler, SequentialSampler\n",
    "from keras.preprocessing.sequence import pad_sequences\n",
    "from sklearn.metrics import classification_report\n",
    "\n",
    "from sklearn.feature_extraction.text import TfidfVectorizer\n",
    "from sklearn.naive_bayes import MultinomialNB \n",
    "from sklearn.model_selection import cross_val_score\n",
    "\n",
    "\n",
    "device = torch.device(\"cuda\" if torch.cuda.is_available() else \"cpu\")\n",
    "n_gpu = torch.cuda.device_count()\n",
    "torch.cuda.get_device_name(0)\n"
   ]
  },
  {
   "cell_type": "markdown",
   "metadata": {},
   "source": [
    "# Load data & pre-processing"
   ]
  },
  {
   "cell_type": "code",
   "execution_count": 2,
   "metadata": {},
   "outputs": [
    {
     "name": "stdout",
     "output_type": "stream",
     "text": [
      "Train data:\n",
      "                                            sentence  sentiment  polarity\n",
      "0  this is a very bland and inert production of o...          2         0\n",
      "1  i've seen this film in avant-premiere at imagi...          7         1\n",
      "2  revolt of the zombies (2 outta 5 stars) no, th...          4         0\n",
      "3  may contain minor spoilers.dressed to kill, ha...          7         1\n",
      "4  (spoilers)i shoulda figured. the dvd didn't ev...          2         0\n",
      "\n",
      "Test data:\n",
      "                                            sentence  sentiment  polarity\n",
      "0  i loved this movie so much. i'm a big fan of a...         10         1\n",
      "1  the stark, cold landscape of big sky country, ...          9         1\n",
      "2  this cheapo exploitation flick is some genuine...          2         0\n",
      "3  this movie has been promoting in everywhere in...          1         0\n",
      "4  this is a great off-the-wall romantic comedy a...          8         1\n"
     ]
    }
   ],
   "source": [
    "def preprocessing(df):\n",
    "    \"\"\"\n",
    "    Preprocessing step\n",
    "    As above dataframe heads, there is a lot of <br /> character \n",
    "    \"\"\"\n",
    "    df.sentence = df.sentence.str.replace('<br />','')\n",
    "    df.sentence = df.sentence.str.lower()\n",
    "    return df\n",
    "\n",
    "train = pd.read_csv('./data/train.csv')\n",
    "test = pd.read_csv('./data/test.csv')\n",
    "\n",
    "train = preprocessing(train)\n",
    "test = preprocessing(test)\n",
    "\n",
    "print('Train data:\\n{}\\n\\nTest data:\\n{}'.format(train.head(5), test.head(5)))"
   ]
  },
  {
   "cell_type": "code",
   "execution_count": 5,
   "metadata": {},
   "outputs": [
    {
     "name": "stdout",
     "output_type": "stream",
     "text": [
      "WARNING:tensorflow:From C:\\ProgramData\\Anaconda3\\lib\\site-packages\\keras\\backend\\tensorflow_backend.py:4070: The name tf.nn.max_pool is deprecated. Please use tf.nn.max_pool2d instead.\n",
      "\n",
      "WARNING:tensorflow:From C:\\ProgramData\\Anaconda3\\lib\\site-packages\\tensorflow\\python\\ops\\nn_impl.py:180: add_dispatch_support.<locals>.wrapper (from tensorflow.python.ops.array_ops) is deprecated and will be removed in a future version.\n",
      "Instructions for updating:\n",
      "Use tf.where in 2.0, which has the same broadcast rule as np.where\n",
      "WARNING:tensorflow:From C:\\ProgramData\\Anaconda3\\lib\\site-packages\\keras\\backend\\tensorflow_backend.py:422: The name tf.global_variables is deprecated. Please use tf.compat.v1.global_variables instead.\n",
      "\n",
      "Model: \"model_3\"\n",
      "_________________________________________________________________\n",
      "Layer (type)                 Output Shape              Param #   \n",
      "=================================================================\n",
      "input_3 (InputLayer)         (None, 512, 768)          0         \n",
      "_________________________________________________________________\n",
      "CNN1 (Conv1D)                (None, 510, 64)           147520    \n",
      "_________________________________________________________________\n",
      "Pool1 (MaxPooling1D)         (None, 170, 64)           0         \n",
      "_________________________________________________________________\n",
      "Flatten1 (Flatten)           (None, 10880)             0         \n",
      "_________________________________________________________________\n",
      "Dense1 (Dense)               (None, 1024)              11142144  \n",
      "_________________________________________________________________\n",
      "output (Dense)               (None, 2)                 2050      \n",
      "=================================================================\n",
      "Total params: 11,291,714\n",
      "Trainable params: 11,291,714\n",
      "Non-trainable params: 0\n",
      "_________________________________________________________________\n"
     ]
    }
   ],
   "source": [
    "import keras\n",
    "from keras.models import Sequential, Model, load_model\n",
    "from keras.layers import Input, Embedding, Dense, Dropout, CuDNNGRU, CuDNNLSTM, Bidirectional\n",
    "from keras.layers import Conv1D, Flatten, Activation, BatchNormalization, MaxPooling1D\n",
    "from keras.preprocessing.sequence import pad_sequences\n",
    "from keras.preprocessing.text import Tokenizer, text_to_word_sequence\n",
    "from keras.utils import to_categorical, Sequence\n",
    "\n",
    "\n",
    "embedded_inputs = Input(shape=(512,768,), \n",
    "                        dtype='float32')\n",
    "conv1 = Conv1D(filters=64, \n",
    "               kernel_size=3, \n",
    "               activation='relu',\n",
    "               name='CNN1'\n",
    "              )(embedded_inputs)\n",
    "pooling1 = MaxPooling1D(3, name='Pool1')(conv1)\n",
    "Flat1 = Flatten(name='Flatten1')(pooling1)\n",
    "Dense1 = Dense(1024, activation='relu', name='Dense1')(Flat1)\n",
    "main_outputs = Dense(2, activation='sigmoid', name='output')(Dense1)\n",
    "\n",
    "\"\"\"\n",
    "model = Model(inputs = embedded_inputs, outputs=main_outputs)\n",
    "model.compile(loss='binary_crossentropy',\n",
    "             optimizer='adam',\n",
    "             metrics=['accuracy'])\n",
    "\"\"\"\n",
    "\n",
    "model = load_model('bert_cnn64-3.model')\n",
    "\n",
    "model.summary()\n"
   ]
  },
  {
   "cell_type": "code",
   "execution_count": 3,
   "metadata": {},
   "outputs": [],
   "source": [
    "class BertEmbedding():\n",
    "    def __init__(self, load_model=None, load_config=None, model='bert-base-uncased', max_len=512, batch_size=6):\n",
    "        self.pre_trained_model = model\n",
    "        self.max_len = max_len\n",
    "        self.batch_size = batch_size\n",
    "        self.model = BertModel.from_pretrained(self.pre_trained_model)\n",
    "        self.tokenizer = BertTokenizer.from_pretrained(self.pre_trained_model)\n",
    "        #self.optimizer = AdamW(params = self.model.parameters(), lr=1e-5)\n",
    "    \n",
    "    def create_ids(self, sentences):\n",
    "        logging.getLogger(\"transformers.tokenization_utils\").setLevel(logging.ERROR) #Disable tokenizer logs, it's really annoy\n",
    "        input_ids = []\n",
    "        for sen in tqdm_notebook(sentences, desc=\"Create Ids\"):\n",
    "            tmp = self.tokenizer.encode(sen)\n",
    "            input_ids.append(tmp)\n",
    "        input_ids = pad_sequences(input_ids, \n",
    "                                  maxlen=self.max_len, \n",
    "                                  dtype='int64', \n",
    "                                  truncating='post', \n",
    "                                  padding='post')\n",
    "        return input_ids\n",
    "    \n",
    "    def generate(self, inputs):\n",
    "        test_ids = self.create_ids(inputs)\n",
    "        test_dataloader = DataLoader(torch.tensor(test_ids), batch_size=self.batch_size)\n",
    "        \n",
    "        embedding = []\n",
    "        self.model.to(device)\n",
    "        self.model.eval()\n",
    "        for input_ids in tqdm_notebook(test_dataloader, desc=\"Generating\"):\n",
    "            with torch.no_grad():\n",
    "                last_state = self.model(input_ids.to(device))[0]\n",
    "            last_state = last_state.detach().cpu().numpy()\n",
    "            embedding.extend(last_state)\n",
    "        return embedding\n",
    "\n",
    "bert_embedding = BertEmbedding(batch_size=6)"
   ]
  },
  {
   "cell_type": "code",
   "execution_count": 8,
   "metadata": {},
   "outputs": [
    {
     "data": {
      "application/vnd.jupyter.widget-view+json": {
       "model_id": "294ca75ad9524ad5bd0870ae4aae9131",
       "version_major": 2,
       "version_minor": 0
      },
      "text/plain": [
       "HBox(children=(IntProgress(value=0, description='Create Ids', max=25000, style=ProgressStyle(description_width…"
      ]
     },
     "metadata": {},
     "output_type": "display_data"
    },
    {
     "name": "stdout",
     "output_type": "stream",
     "text": [
      "\n"
     ]
    },
    {
     "data": {
      "application/vnd.jupyter.widget-view+json": {
       "model_id": "c3b5a46d5e324929a0eb03fecbfa8b27",
       "version_major": 2,
       "version_minor": 0
      },
      "text/plain": [
       "HBox(children=(IntProgress(value=0, description='Generating', max=250, style=ProgressStyle(description_width='…"
      ]
     },
     "metadata": {},
     "output_type": "display_data"
    },
    {
     "name": "stdout",
     "output_type": "stream",
     "text": [
      "\n"
     ]
    }
   ],
   "source": [
    "embedding = bert_embedding.generate(train.sentence)"
   ]
  },
  {
   "cell_type": "code",
   "execution_count": 4,
   "metadata": {
    "scrolled": true
   },
   "outputs": [
    {
     "data": {
      "application/vnd.jupyter.widget-view+json": {
       "model_id": "c7d88a322a024752bb9ad7e3c2bf94ee",
       "version_major": 2,
       "version_minor": 0
      },
      "text/plain": [
       "HBox(children=(IntProgress(value=0, description='Create Ids', max=25000, style=ProgressStyle(description_width…"
      ]
     },
     "metadata": {},
     "output_type": "display_data"
    },
    {
     "name": "stdout",
     "output_type": "stream",
     "text": [
      "\n"
     ]
    },
    {
     "data": {
      "application/vnd.jupyter.widget-view+json": {
       "model_id": "16aabffefc374a19a0d76fdee3770b8e",
       "version_major": 2,
       "version_minor": 0
      },
      "text/plain": [
       "HBox(children=(IntProgress(value=0, description='Generating', max=4167, style=ProgressStyle(description_width=…"
      ]
     },
     "metadata": {},
     "output_type": "display_data"
    },
    {
     "name": "stdout",
     "output_type": "stream",
     "text": [
      "\n"
     ]
    }
   ],
   "source": [
    "test_embedding = bert_embedding.generate(test.sentence.values)"
   ]
  },
  {
   "cell_type": "code",
   "execution_count": 6,
   "metadata": {},
   "outputs": [],
   "source": [
    "class BonzSequence(Sequence):\n",
    "    def __init__(self, x_set, y_set, batch_size):\n",
    "        self.x, self.y = x_set, y_set\n",
    "        self.batch_size = batch_size\n",
    "\n",
    "    def __len__(self):\n",
    "        return int(np.ceil(len(self.x) / float(self.batch_size)))\n",
    "\n",
    "    def __getitem__(self, idx):\n",
    "        batch_x = self.x[idx * self.batch_size:(idx + 1) * self.batch_size]\n",
    "        batch_y = self.y[idx * self.batch_size:(idx + 1) * self.batch_size]\n",
    "\n",
    "        return np.array(batch_x), np.array(batch_y)\n",
    "    \n",
    "#training_generator = BonzSequence(embedding, to_categorical(train.polarity.values), batch_size=1000)\n",
    "test_generator = BonzSequence(test_embedding, to_categorical(test.polarity.values), batch_size=1000)"
   ]
  },
  {
   "cell_type": "code",
   "execution_count": 33,
   "metadata": {
    "scrolled": true
   },
   "outputs": [
    {
     "name": "stdout",
     "output_type": "stream",
     "text": [
      "Epoch 1/20\n",
      " - 20s - loss: 0.1386 - accuracy: 0.9503\n",
      "Epoch 2/20\n",
      " - 20s - loss: 0.1125 - accuracy: 0.9618\n",
      "Epoch 3/20\n",
      " - 20s - loss: 0.0822 - accuracy: 0.9769\n",
      "Epoch 4/20\n",
      " - 20s - loss: 0.0606 - accuracy: 0.9853\n",
      "Epoch 5/20\n",
      " - 20s - loss: 0.0494 - accuracy: 0.9887\n",
      "Epoch 6/20\n",
      " - 20s - loss: 0.0332 - accuracy: 0.9951\n",
      "Epoch 7/20\n",
      " - 19s - loss: 0.0207 - accuracy: 0.9978\n",
      "Epoch 8/20\n",
      " - 20s - loss: 0.0144 - accuracy: 0.9991\n",
      "Epoch 9/20\n",
      " - 20s - loss: 0.0105 - accuracy: 0.9994\n",
      "Epoch 10/20\n",
      " - 20s - loss: 0.0068 - accuracy: 0.9996\n",
      "Epoch 11/20\n",
      " - 20s - loss: 0.0050 - accuracy: 0.9998\n",
      "Epoch 12/20\n",
      " - 20s - loss: 0.0038 - accuracy: 0.9999\n",
      "Epoch 13/20\n",
      " - 20s - loss: 0.0030 - accuracy: 1.0000\n",
      "Epoch 14/20\n",
      " - 20s - loss: 0.0023 - accuracy: 1.0000\n",
      "Epoch 15/20\n",
      " - 20s - loss: 0.0019 - accuracy: 1.0000\n",
      "Epoch 16/20\n",
      " - 20s - loss: 0.0016 - accuracy: 1.0000\n",
      "Epoch 17/20\n",
      " - 20s - loss: 0.0013 - accuracy: 1.0000\n",
      "Epoch 18/20\n",
      " - 20s - loss: 0.0012 - accuracy: 1.0000\n",
      "Epoch 19/20\n",
      " - 19s - loss: 0.0010 - accuracy: 1.0000\n",
      "Epoch 20/20\n",
      " - 20s - loss: 9.0333e-04 - accuracy: 1.0000\n"
     ]
    },
    {
     "data": {
      "text/plain": [
       "<keras.callbacks.callbacks.History at 0x2562f400860>"
      ]
     },
     "execution_count": 33,
     "metadata": {},
     "output_type": "execute_result"
    }
   ],
   "source": [
    "model.fit_generator(\n",
    "    generator=training_generator, \n",
    "    epochs=20,\n",
    "    verbose=2\n",
    ")\n",
    "\n",
    "# model.save('bert_cnn64-3.model')"
   ]
  },
  {
   "cell_type": "code",
   "execution_count": 8,
   "metadata": {},
   "outputs": [
    {
     "name": "stdout",
     "output_type": "stream",
     "text": [
      "25/25 [==============================] - ETA: 21 - ETA: 19 - ETA: 18 - ETA: 17 - ETA: 16 - ETA: 15 - ETA: 14 - ETA: 13 - ETA: 13 - ETA: 12 - ETA: 11 - ETA: 10 - ETA: 9 - ETA:  - ETA:  - ETA:  - ETA:  - ETA:  - ETA:  - ETA:  - ETA:  - ETA:  - ETA:  - ETA:  - 20s 810ms/step\n"
     ]
    }
   ],
   "source": [
    "y = model.predict_generator(\n",
    "    generator=test_generator,\n",
    "    verbose=1\n",
    ")"
   ]
  },
  {
   "cell_type": "code",
   "execution_count": 15,
   "metadata": {},
   "outputs": [
    {
     "name": "stdout",
     "output_type": "stream",
     "text": [
      "              precision    recall  f1-score   support\n",
      "\n",
      "           0       0.86      0.86      0.86     12502\n",
      "           1       0.86      0.86      0.86     12498\n",
      "\n",
      "   micro avg       0.86      0.86      0.86     25000\n",
      "   macro avg       0.86      0.86      0.86     25000\n",
      "weighted avg       0.86      0.86      0.86     25000\n",
      "\n"
     ]
    }
   ],
   "source": [
    "pred = np.argmax(y, axis=1)\n",
    "print(classification_report(pred, test.polarity.values))"
   ]
  },
  {
   "cell_type": "code",
   "execution_count": 22,
   "metadata": {},
   "outputs": [
    {
     "name": "stdout",
     "output_type": "stream",
     "text": [
      "                         train: 33.0 MiB\n",
      "                          test: 32.9 MiB\n",
      "                           _14:  1.0 MiB\n",
      "                test_embedding: 200.0 KiB\n",
      "                            _7: 195.4 KiB\n",
      "                             y: 195.4 KiB\n",
      "                           _17: 195.4 KiB\n",
      "                          pred: 195.4 KiB\n",
      "                           _10: 195.4 KiB\n",
      "                           _16: 195.4 KiB\n"
     ]
    }
   ],
   "source": [
    "import sys\n",
    "def sizeof_fmt(num, suffix='B'):\n",
    "    ''' by Fred Cirera,  https://stackoverflow.com/a/1094933/1870254, modified'''\n",
    "    for unit in ['','Ki','Mi','Gi','Ti','Pi','Ei','Zi']:\n",
    "        if abs(num) < 1024.0:\n",
    "            return \"%3.1f %s%s\" % (num, unit, suffix)\n",
    "        num /= 1024.0\n",
    "    return \"%.1f %s%s\" % (num, 'Yi', suffix)\n",
    "\n",
    "for name, size in sorted(((name, sys.getsizeof(value)) for name, value in locals().items()),\n",
    "                         key= lambda x: -x[1])[:10]:\n",
    "    print(\"{:>30}: {:>8}\".format(name, sizeof_fmt(size)))"
   ]
  },
  {
   "cell_type": "markdown",
   "metadata": {},
   "source": [
    "# TF-IDF"
   ]
  },
  {
   "cell_type": "code",
   "execution_count": 10,
   "metadata": {},
   "outputs": [
    {
     "data": {
      "text/plain": [
       "{'NB': array([0.8503249 , 0.86712346, 0.86394985, 0.86839071, 0.87356083,\n",
       "        0.86196287, 0.86422793, 0.86069694, 0.86586606, 0.86996503]),\n",
       " 'KNN': array([0.77115767, 0.78928929, 0.7716737 , 0.76163096, 0.78165532,\n",
       "        0.76871059, 0.79583065, 0.77128274, 0.78892033, 0.77502598])}"
      ]
     },
     "execution_count": 10,
     "metadata": {},
     "output_type": "execute_result"
    }
   ],
   "source": [
    "vectorizer = TfidfVectorizer()\n",
    "tfidf = vectorizer.fit_transform(train.sentence)\n",
    "\n",
    "def NB_model():\n",
    "    model = MultinomialNB()\n",
    "    rs = cross_val_score(model, \n",
    "                         tfidf,\n",
    "                         train.polarity,\n",
    "                         cv=10,\n",
    "                         scoring='f1_macro'\n",
    "                        )\n",
    "    return rs\n",
    "    \n",
    "NB_rs = NB_model()\n",
    "\n",
    "from sklearn.neighbors import KNeighborsClassifier\n",
    "\n",
    "def KNN_model():\n",
    "    model = KNeighborsClassifier()\n",
    "    rs = cross_val_score(\n",
    "        model,\n",
    "        tfidf,\n",
    "        train.polarity,\n",
    "        cv=10,\n",
    "        scoring='f1_macro'\n",
    "    )\n",
    "    return rs\n",
    "\n",
    "KNN_rs = KNN_model()\n",
    "\n",
    "ML_rs = {\n",
    "    'NB': NB_rs,\n",
    "    'KNN': KNN_rs\n",
    "}\n",
    "\n",
    "ML_rs"
   ]
  }
 ],
 "metadata": {
  "kernelspec": {
   "display_name": "Python 3",
   "language": "python",
   "name": "python3"
  },
  "language_info": {
   "codemirror_mode": {
    "name": "ipython",
    "version": 3
   },
   "file_extension": ".py",
   "mimetype": "text/x-python",
   "name": "python",
   "nbconvert_exporter": "python",
   "pygments_lexer": "ipython3",
   "version": "3.7.1"
  }
 },
 "nbformat": 4,
 "nbformat_minor": 2
}
