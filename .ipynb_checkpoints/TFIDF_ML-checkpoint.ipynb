{
 "cells": [
  {
   "cell_type": "code",
   "execution_count": 1,
   "metadata": {
    "scrolled": true
   },
   "outputs": [
    {
     "name": "stderr",
     "output_type": "stream",
     "text": [
      "C:\\ProgramData\\Anaconda3\\lib\\site-packages\\tensorflow\\python\\framework\\dtypes.py:516: FutureWarning: Passing (type, 1) or '1type' as a synonym of type is deprecated; in a future version of numpy, it will be understood as (type, (1,)) / '(1,)type'.\n",
      "  _np_qint8 = np.dtype([(\"qint8\", np.int8, 1)])\n",
      "C:\\ProgramData\\Anaconda3\\lib\\site-packages\\tensorflow\\python\\framework\\dtypes.py:517: FutureWarning: Passing (type, 1) or '1type' as a synonym of type is deprecated; in a future version of numpy, it will be understood as (type, (1,)) / '(1,)type'.\n",
      "  _np_quint8 = np.dtype([(\"quint8\", np.uint8, 1)])\n",
      "C:\\ProgramData\\Anaconda3\\lib\\site-packages\\tensorflow\\python\\framework\\dtypes.py:518: FutureWarning: Passing (type, 1) or '1type' as a synonym of type is deprecated; in a future version of numpy, it will be understood as (type, (1,)) / '(1,)type'.\n",
      "  _np_qint16 = np.dtype([(\"qint16\", np.int16, 1)])\n",
      "C:\\ProgramData\\Anaconda3\\lib\\site-packages\\tensorflow\\python\\framework\\dtypes.py:519: FutureWarning: Passing (type, 1) or '1type' as a synonym of type is deprecated; in a future version of numpy, it will be understood as (type, (1,)) / '(1,)type'.\n",
      "  _np_quint16 = np.dtype([(\"quint16\", np.uint16, 1)])\n",
      "C:\\ProgramData\\Anaconda3\\lib\\site-packages\\tensorflow\\python\\framework\\dtypes.py:520: FutureWarning: Passing (type, 1) or '1type' as a synonym of type is deprecated; in a future version of numpy, it will be understood as (type, (1,)) / '(1,)type'.\n",
      "  _np_qint32 = np.dtype([(\"qint32\", np.int32, 1)])\n",
      "C:\\ProgramData\\Anaconda3\\lib\\site-packages\\tensorflow\\python\\framework\\dtypes.py:525: FutureWarning: Passing (type, 1) or '1type' as a synonym of type is deprecated; in a future version of numpy, it will be understood as (type, (1,)) / '(1,)type'.\n",
      "  np_resource = np.dtype([(\"resource\", np.ubyte, 1)])\n",
      "C:\\ProgramData\\Anaconda3\\lib\\site-packages\\tensorboard\\compat\\tensorflow_stub\\dtypes.py:541: FutureWarning: Passing (type, 1) or '1type' as a synonym of type is deprecated; in a future version of numpy, it will be understood as (type, (1,)) / '(1,)type'.\n",
      "  _np_qint8 = np.dtype([(\"qint8\", np.int8, 1)])\n",
      "C:\\ProgramData\\Anaconda3\\lib\\site-packages\\tensorboard\\compat\\tensorflow_stub\\dtypes.py:542: FutureWarning: Passing (type, 1) or '1type' as a synonym of type is deprecated; in a future version of numpy, it will be understood as (type, (1,)) / '(1,)type'.\n",
      "  _np_quint8 = np.dtype([(\"quint8\", np.uint8, 1)])\n",
      "C:\\ProgramData\\Anaconda3\\lib\\site-packages\\tensorboard\\compat\\tensorflow_stub\\dtypes.py:543: FutureWarning: Passing (type, 1) or '1type' as a synonym of type is deprecated; in a future version of numpy, it will be understood as (type, (1,)) / '(1,)type'.\n",
      "  _np_qint16 = np.dtype([(\"qint16\", np.int16, 1)])\n",
      "C:\\ProgramData\\Anaconda3\\lib\\site-packages\\tensorboard\\compat\\tensorflow_stub\\dtypes.py:544: FutureWarning: Passing (type, 1) or '1type' as a synonym of type is deprecated; in a future version of numpy, it will be understood as (type, (1,)) / '(1,)type'.\n",
      "  _np_quint16 = np.dtype([(\"quint16\", np.uint16, 1)])\n",
      "C:\\ProgramData\\Anaconda3\\lib\\site-packages\\tensorboard\\compat\\tensorflow_stub\\dtypes.py:545: FutureWarning: Passing (type, 1) or '1type' as a synonym of type is deprecated; in a future version of numpy, it will be understood as (type, (1,)) / '(1,)type'.\n",
      "  _np_qint32 = np.dtype([(\"qint32\", np.int32, 1)])\n",
      "C:\\ProgramData\\Anaconda3\\lib\\site-packages\\tensorboard\\compat\\tensorflow_stub\\dtypes.py:550: FutureWarning: Passing (type, 1) or '1type' as a synonym of type is deprecated; in a future version of numpy, it will be understood as (type, (1,)) / '(1,)type'.\n",
      "  np_resource = np.dtype([(\"resource\", np.ubyte, 1)])\n",
      "Using TensorFlow backend.\n"
     ]
    },
    {
     "data": {
      "text/plain": [
       "'GeForce RTX 2080 Ti'"
      ]
     },
     "execution_count": 1,
     "metadata": {},
     "output_type": "execute_result"
    }
   ],
   "source": [
    "import tensorflow as tf\n",
    "import tensorflow_hub as hub\n",
    "import pandas as pd\n",
    "import numpy as np\n",
    "import torch\n",
    "import transformers\n",
    "import inspect\n",
    "import time\n",
    "import logging\n",
    "\n",
    "from tqdm import trange, tqdm, tqdm_notebook, tqdm_pandas, tqdm_gui\n",
    "from datetime import datetime\n",
    "from tqdm import tqdm\n",
    "from transformers import BertConfig, BertModel, BertTokenizer, BertForSequenceClassification, AdamW\n",
    "from transformers import get_constant_schedule_with_warmup\n",
    "from torch.utils.data import TensorDataset, DataLoader, RandomSampler, SequentialSampler\n",
    "from keras.preprocessing.sequence import pad_sequences\n",
    "from sklearn.metrics import classification_report\n",
    "\n",
    "from sklearn.feature_extraction.text import TfidfVectorizer\n",
    "from sklearn.naive_bayes import MultinomialNB \n",
    "from sklearn.model_selection import cross_val_score\n",
    "\n",
    "from sys import getsizeof as gs\n",
    "\n",
    "device = torch.device(\"cuda\" if torch.cuda.is_available() else \"cpu\")\n",
    "n_gpu = torch.cuda.device_count()\n",
    "torch.cuda.get_device_name(0)"
   ]
  },
  {
   "cell_type": "markdown",
   "metadata": {},
   "source": [
    "# Load data & pre-processing"
   ]
  },
  {
   "cell_type": "code",
   "execution_count": 2,
   "metadata": {},
   "outputs": [
    {
     "name": "stdout",
     "output_type": "stream",
     "text": [
      "Train data:\n",
      "                                            sentence  sentiment  polarity\n",
      "0  this is a very bland and inert production of o...          2         0\n",
      "1  i've seen this film in avant-premiere at imagi...          7         1\n",
      "2  revolt of the zombies (2 outta 5 stars) no, th...          4         0\n",
      "3  may contain minor spoilers.dressed to kill, ha...          7         1\n",
      "4  (spoilers)i shoulda figured. the dvd didn't ev...          2         0\n",
      "\n",
      "Test data:\n",
      "                                            sentence  sentiment  polarity\n",
      "0  i loved this movie so much. i'm a big fan of a...         10         1\n",
      "1  the stark, cold landscape of big sky country, ...          9         1\n",
      "2  this cheapo exploitation flick is some genuine...          2         0\n",
      "3  this movie has been promoting in everywhere in...          1         0\n",
      "4  this is a great off-the-wall romantic comedy a...          8         1\n"
     ]
    }
   ],
   "source": [
    "def preprocessing(df):\n",
    "    \"\"\"\n",
    "    Preprocessing step\n",
    "    As above dataframe heads, there is a lot of <br /> character \n",
    "    \"\"\"\n",
    "    df.sentence = df.sentence.str.replace('<br />','')\n",
    "    df.sentence = df.sentence.str.lower()\n",
    "    return df\n",
    "\n",
    "train = pd.read_csv('./data/train.csv')\n",
    "test = pd.read_csv('./data/test.csv')\n",
    "\n",
    "train = preprocessing(train)\n",
    "test = preprocessing(test)\n",
    "\n",
    "print('Train data:\\n{}\\n\\nTest data:\\n{}'.format(train.head(5), test.head(5)))"
   ]
  },
  {
   "cell_type": "markdown",
   "metadata": {},
   "source": [
    "# Create Embedding Layer from BERT"
   ]
  },
  {
   "cell_type": "code",
   "execution_count": 3,
   "metadata": {
    "scrolled": true
   },
   "outputs": [
    {
     "data": {
      "application/vnd.jupyter.widget-view+json": {
       "model_id": "c1a8dfb0d80b45cb9046167b53e54885",
       "version_major": 2,
       "version_minor": 0
      },
      "text/plain": [
       "HBox(children=(IntProgress(value=0, description='Ids', max=25000, style=ProgressStyle(description_width='initi…"
      ]
     },
     "metadata": {},
     "output_type": "display_data"
    },
    {
     "name": "stdout",
     "output_type": "stream",
     "text": [
      "\n"
     ]
    },
    {
     "data": {
      "application/vnd.jupyter.widget-view+json": {
       "model_id": "83feec0be1334d60a58c59dbe8c9e4f6",
       "version_major": 2,
       "version_minor": 0
      },
      "text/plain": [
       "HBox(children=(IntProgress(value=0, description='Embedding', max=125, style=ProgressStyle(description_width='i…"
      ]
     },
     "metadata": {},
     "output_type": "display_data"
    },
    {
     "name": "stdout",
     "output_type": "stream",
     "text": [
      "\n"
     ]
    }
   ],
   "source": [
    "\n",
    "class BertEmbedding():\n",
    "    def __init__(self, load_model=None, load_config=None, model='bert-base-uncased', max_len=512, batch_size=6):\n",
    "        self.pre_trained_model = model\n",
    "        self.max_len = max_len\n",
    "        self.batch_size = batch_size\n",
    "        self.model = BertModel.from_pretrained(self.pre_trained_model)\n",
    "        self.model.to(device)\n",
    "        self.tokenizer = BertTokenizer.from_pretrained(self.pre_trained_model)\n",
    "    \n",
    "    def create_ids(self, sentences):\n",
    "        logging.getLogger(\"transformers.tokenization_utils\").setLevel(logging.ERROR) #Disable tokenizer logs, it's really annoy\n",
    "        input_ids = []\n",
    "        for sen in tqdm_notebook(sentences, desc='Ids'):\n",
    "            tmp = self.tokenizer.encode(sen)\n",
    "            input_ids.append(tmp)\n",
    "        input_ids = pad_sequences(input_ids, \n",
    "                                  maxlen=self.max_len, \n",
    "                                  dtype='int64', \n",
    "                                  truncating='post', \n",
    "                                  padding='post')\n",
    "        return torch.tensor(input_ids)\n",
    "    \n",
    "    def generate(self, inputs):\n",
    "        test_ids = self.create_ids(inputs)\n",
    "        test_dataloader = DataLoader(test_ids, batch_size=self.batch_size)\n",
    "        embedding = []       \n",
    "        for input_ids in tqdm_notebook(test_dataloader, desc='Embedding'):\n",
    "            with torch.no_grad():\n",
    "                last_state = self.model(input_ids.to(device))[0]\n",
    "            embedding.extend(last_state.detach().cpu().numpy())\n",
    "        return embedding\n",
    "\n",
    "bert_embedding = BertEmbedding(batch_size=200)\n",
    "\n",
    "#train_embedding = bert_embedding.generate(train.sentence.values)\n",
    "    \n",
    "test_embedding = bert_embedding.generate(test.sentence.values)\n",
    "\n",
    "torch.cuda.empty_cache()\n",
    "\n"
   ]
  },
  {
   "cell_type": "markdown",
   "metadata": {},
   "source": [
    "# Load dataset by sequence"
   ]
  },
  {
   "cell_type": "code",
   "execution_count": 4,
   "metadata": {},
   "outputs": [],
   "source": [
    "import keras\n",
    "from keras.models import Sequential, Model, load_model\n",
    "from keras.layers import Input, Embedding, Dense, Dropout, CuDNNGRU, CuDNNLSTM, Bidirectional, Concatenate\n",
    "from keras.layers import Conv1D, Flatten, Activation, BatchNormalization, MaxPooling1D, GlobalMaxPooling1D\n",
    "from keras.preprocessing.sequence import pad_sequences\n",
    "from keras.preprocessing.text import Tokenizer, text_to_word_sequence\n",
    "from keras.utils import to_categorical, Sequence\n",
    "from keras.optimizers import Adam\n",
    "\n",
    "class BonzSequence(Sequence):\n",
    "    def __init__(self, x_set, y_set, batch_size):\n",
    "        self.x, self.y = x_set, y_set\n",
    "        self.batch_size = batch_size\n",
    "\n",
    "    def __len__(self):\n",
    "        return int(np.ceil(len(self.x) / float(self.batch_size)))\n",
    "\n",
    "    def __getitem__(self, idx):\n",
    "        batch_x = self.x[idx * self.batch_size:(idx + 1) * self.batch_size]\n",
    "        batch_y = self.y[idx * self.batch_size:(idx + 1) * self.batch_size]\n",
    "\n",
    "        return np.array(batch_x), np.array(batch_y)\n",
    "    \n",
    "'''\n",
    "training_generator = BonzSequence(train_embedding, \n",
    "                                  to_categorical(train.polarity.values), \n",
    "                                  batch_size=5)\n",
    "'''\n",
    "\n",
    "test_generator = BonzSequence(test_embedding, to_categorical(test.polarity.values), batch_size=25)\n",
    "\n",
    "\n",
    "torch.cuda.empty_cache()"
   ]
  },
  {
   "cell_type": "markdown",
   "metadata": {},
   "source": [
    "# Create/Load model"
   ]
  },
  {
   "cell_type": "code",
   "execution_count": 7,
   "metadata": {
    "scrolled": true
   },
   "outputs": [
    {
     "name": "stdout",
     "output_type": "stream",
     "text": [
      "Model: \"model_2\"\n",
      "__________________________________________________________________________________________________\n",
      "Layer (type)                    Output Shape         Param #     Connected to                     \n",
      "==================================================================================================\n",
      "input_2 (InputLayer)            (None, 512, 768)     0                                            \n",
      "__________________________________________________________________________________________________\n",
      "conv1d_4 (Conv1D)               (None, 511, 768)     1180416     input_2[0][0]                    \n",
      "__________________________________________________________________________________________________\n",
      "conv1d_5 (Conv1D)               (None, 510, 768)     1770240     input_2[0][0]                    \n",
      "__________________________________________________________________________________________________\n",
      "conv1d_6 (Conv1D)               (None, 509, 768)     2360064     input_2[0][0]                    \n",
      "__________________________________________________________________________________________________\n",
      "max_pooling1d_5 (MaxPooling1D)  (None, 255, 768)     0           conv1d_4[0][0]                   \n",
      "__________________________________________________________________________________________________\n",
      "max_pooling1d_6 (MaxPooling1D)  (None, 170, 768)     0           conv1d_5[0][0]                   \n",
      "__________________________________________________________________________________________________\n",
      "max_pooling1d_7 (MaxPooling1D)  (None, 127, 768)     0           conv1d_6[0][0]                   \n",
      "__________________________________________________________________________________________________\n",
      "batch_normalization_4 (BatchNor (None, 255, 768)     3072        max_pooling1d_5[0][0]            \n",
      "__________________________________________________________________________________________________\n",
      "batch_normalization_5 (BatchNor (None, 170, 768)     3072        max_pooling1d_6[0][0]            \n",
      "__________________________________________________________________________________________________\n",
      "batch_normalization_6 (BatchNor (None, 127, 768)     3072        max_pooling1d_7[0][0]            \n",
      "__________________________________________________________________________________________________\n",
      "dropout_5 (Dropout)             (None, 255, 768)     0           batch_normalization_4[0][0]      \n",
      "__________________________________________________________________________________________________\n",
      "dropout_6 (Dropout)             (None, 170, 768)     0           batch_normalization_5[0][0]      \n",
      "__________________________________________________________________________________________________\n",
      "dropout_7 (Dropout)             (None, 127, 768)     0           batch_normalization_6[0][0]      \n",
      "__________________________________________________________________________________________________\n",
      "concatenate_2 (Concatenate)     (None, 552, 768)     0           dropout_5[0][0]                  \n",
      "                                                                 dropout_6[0][0]                  \n",
      "                                                                 dropout_7[0][0]                  \n",
      "__________________________________________________________________________________________________\n",
      "max_pooling1d_8 (MaxPooling1D)  (None, 4, 768)       0           concatenate_2[0][0]              \n",
      "__________________________________________________________________________________________________\n",
      "flatten_2 (Flatten)             (None, 3072)         0           max_pooling1d_8[0][0]            \n",
      "__________________________________________________________________________________________________\n",
      "Dense1 (Dense)                  (None, 768)          2360064     flatten_2[0][0]                  \n",
      "__________________________________________________________________________________________________\n",
      "dropout_8 (Dropout)             (None, 768)          0           Dense1[0][0]                     \n",
      "__________________________________________________________________________________________________\n",
      "output (Dense)                  (None, 2)            1538        dropout_8[0][0]                  \n",
      "==================================================================================================\n",
      "Total params: 7,681,538\n",
      "Trainable params: 7,676,930\n",
      "Non-trainable params: 4,608\n",
      "__________________________________________________________________________________________________\n"
     ]
    }
   ],
   "source": [
    "\"\"\"\n",
    "sess = tf.Session()\n",
    "K.set_session(sess)\n",
    "\n",
    "import resource\n",
    "class MemoryCallback(Callback):\n",
    "    def on_epoch_end(self, epoch, log={}):\n",
    "        print(resource.getrusage(resource.RUSAGE_SELF).ru_maxrss)\n",
    "\"\"\"\n",
    "\n",
    "\n",
    "def build_model():\n",
    "    embedded_inputs = Input(shape=(512,768,), \n",
    "                            dtype='float32')\n",
    "    convs = []\n",
    "    kernel_size = [2,3,4]\n",
    "    for k_size in kernel_size:\n",
    "        conv = Conv1D(filters=768, kernel_size=k_size)(embedded_inputs)\n",
    "        max_pool = MaxPooling1D(k_size)(conv)\n",
    "        batch_normal = BatchNormalization()(max_pool)\n",
    "        dropout = Dropout(0.1)(batch_normal)\n",
    "        convs.append(dropout)\n",
    "    merge = Concatenate(axis=1)(convs)\n",
    "    max_pool_extra = MaxPooling1D(128)(merge)\n",
    "    flat = Flatten()(max_pool_extra)\n",
    "    dense1 = Dense(768, activation='relu', name='Dense1')(flat)\n",
    "    dropout2 = Dropout(0.1)(dense1)\n",
    "    main_outputs = Dense(2, activation='sigmoid', name='output')(dropout2)\n",
    "\n",
    "    model = Model(inputs = embedded_inputs, outputs=main_outputs)\n",
    "    model.compile(loss='binary_crossentropy',\n",
    "                 optimizer=Adam(learning_rate=1e-5),\n",
    "                 metrics=['accuracy']\n",
    "                 #callbacks = [MemoryCallback()]\n",
    "                 )\n",
    "    return model\n",
    "\n",
    "model = build_model()\n",
    "\n",
    "#model = load_model('bert_cnn128-3.model')\n",
    "\n",
    "model.summary()\n"
   ]
  },
  {
   "cell_type": "markdown",
   "metadata": {},
   "source": [
    "# Training model"
   ]
  },
  {
   "cell_type": "code",
   "execution_count": 8,
   "metadata": {
    "scrolled": false
   },
   "outputs": [
    {
     "name": "stdout",
     "output_type": "stream",
     "text": [
      "Epoch 1/1\n",
      " - 129s - loss: 0.5144 - accuracy: 0.7506\n",
      "Epoch 1/1\n",
      " - 129s - loss: 0.3002 - accuracy: 0.8721\n",
      "Epoch 1/1\n",
      " - 130s - loss: 0.2144 - accuracy: 0.9161\n",
      "Epoch 1/1\n",
      " - 129s - loss: 0.1433 - accuracy: 0.9495\n",
      "Epoch 1/1\n",
      " - 129s - loss: 0.0812 - accuracy: 0.9772\n",
      "Epoch 1/1\n",
      " - 130s - loss: 0.0419 - accuracy: 0.9919\n",
      "Epoch 1/1\n",
      " - 130s - loss: 0.0206 - accuracy: 0.9973\n",
      "Epoch 1/1\n",
      " - 130s - loss: 0.0110 - accuracy: 0.9986\n",
      "Epoch 1/1\n",
      " - 131s - loss: 0.0094 - accuracy: 0.9983\n",
      "Epoch 1/1\n",
      " - 131s - loss: 0.0034 - accuracy: 0.9997\n"
     ]
    }
   ],
   "source": [
    "for i in range(10):\n",
    "    filename = 'bertcnn_3cnn_f768_k234_e'+str(i)+'.model'\n",
    "    model.fit_generator(\n",
    "        generator=training_generator, \n",
    "        shuffle=True,\n",
    "        epochs=1,\n",
    "        verbose=2\n",
    "    )\n",
    "    model.save(filename)"
   ]
  },
  {
   "cell_type": "code",
   "execution_count": 7,
   "metadata": {
    "scrolled": true
   },
   "outputs": [
    {
     "name": "stdout",
     "output_type": "stream",
     "text": [
      "WARNING:tensorflow:From C:\\ProgramData\\Anaconda3\\lib\\site-packages\\keras\\backend\\tensorflow_backend.py:4070: The name tf.nn.max_pool is deprecated. Please use tf.nn.max_pool2d instead.\n",
      "\n",
      "WARNING:tensorflow:From C:\\ProgramData\\Anaconda3\\lib\\site-packages\\tensorflow\\python\\ops\\nn_impl.py:180: add_dispatch_support.<locals>.wrapper (from tensorflow.python.ops.array_ops) is deprecated and will be removed in a future version.\n",
      "Instructions for updating:\n",
      "Use tf.where in 2.0, which has the same broadcast rule as np.where\n",
      "WARNING:tensorflow:From C:\\ProgramData\\Anaconda3\\lib\\site-packages\\keras\\backend\\tensorflow_backend.py:422: The name tf.global_variables is deprecated. Please use tf.compat.v1.global_variables instead.\n",
      "\n",
      "Predict file: bertcnn_3cnn_f768_k234_e0.model\n",
      "\n",
      "              precision    recall  f1-score   support\n",
      "\n",
      "           0     0.9474    0.7757    0.8530     15266\n",
      "           1     0.7261    0.9324    0.8164      9734\n",
      "\n",
      "   micro avg     0.8367    0.8367    0.8367     25000\n",
      "   macro avg     0.8367    0.8541    0.8347     25000\n",
      "weighted avg     0.8612    0.8367    0.8387     25000\n",
      "\n",
      "-------------------------------\n",
      "\n",
      "Predict file: bertcnn_3cnn_f768_k234_e1.model\n",
      "\n",
      "              precision    recall  f1-score   support\n",
      "\n",
      "           0     0.8193    0.9334    0.8726     10972\n",
      "           1     0.9415    0.8390    0.8873     14028\n",
      "\n",
      "   micro avg     0.8804    0.8804    0.8804     25000\n",
      "   macro avg     0.8804    0.8862    0.8800     25000\n",
      "weighted avg     0.8879    0.8804    0.8808     25000\n",
      "\n",
      "-------------------------------\n",
      "\n",
      "Predict file: bertcnn_3cnn_f768_k234_e2.model\n",
      "\n",
      "              precision    recall  f1-score   support\n",
      "\n",
      "           0     0.9578    0.8172    0.8819     14652\n",
      "           1     0.7857    0.9491    0.8597     10348\n",
      "\n",
      "   micro avg     0.8718    0.8718    0.8718     25000\n",
      "   macro avg     0.8718    0.8831    0.8708     25000\n",
      "weighted avg     0.8866    0.8718    0.8727     25000\n",
      "\n",
      "-------------------------------\n",
      "\n",
      "Predict file: bertcnn_3cnn_f768_k234_e3.model\n",
      "\n",
      "              precision    recall  f1-score   support\n",
      "\n",
      "           0     0.8886    0.9154    0.9018     12134\n",
      "           1     0.9179    0.8918    0.9047     12866\n",
      "\n",
      "   micro avg     0.9033    0.9033    0.9033     25000\n",
      "   macro avg     0.9033    0.9036    0.9033     25000\n",
      "weighted avg     0.9037    0.9033    0.9033     25000\n",
      "\n",
      "-------------------------------\n",
      "\n",
      "Predict file: bertcnn_3cnn_f768_k234_e4.model\n",
      "\n",
      "              precision    recall  f1-score   support\n",
      "\n",
      "           0     0.8752    0.9245    0.8992     11834\n",
      "           1     0.9285    0.8815    0.9044     13166\n",
      "\n",
      "   micro avg     0.9018    0.9018    0.9018     25000\n",
      "   macro avg     0.9018    0.9030    0.9018     25000\n",
      "weighted avg     0.9033    0.9018    0.9019     25000\n",
      "\n",
      "-------------------------------\n",
      "\n",
      "Predict file: bertcnn_3cnn_f768_k234_e5.model\n",
      "\n",
      "              precision    recall  f1-score   support\n",
      "\n",
      "           0     0.8441    0.9437    0.8911     11181\n",
      "           1     0.9496    0.8590    0.9020     13819\n",
      "\n",
      "   micro avg     0.8968    0.8968    0.8968     25000\n",
      "   macro avg     0.8968    0.9013    0.8966     25000\n",
      "weighted avg     0.9024    0.8968    0.8971     25000\n",
      "\n",
      "-------------------------------\n",
      "\n",
      "Predict file: bertcnn_3cnn_f768_k234_e6.model\n",
      "\n",
      "              precision    recall  f1-score   support\n",
      "\n",
      "           0     0.9187    0.8970    0.9078     12802\n",
      "           1     0.8946    0.9167    0.9055     12198\n",
      "\n",
      "   micro avg     0.9066    0.9066    0.9066     25000\n",
      "   macro avg     0.9066    0.9069    0.9066     25000\n",
      "weighted avg     0.9069    0.9066    0.9067     25000\n",
      "\n",
      "-------------------------------\n",
      "\n",
      "Predict file: bertcnn_3cnn_f768_k234_e7.model\n",
      "\n",
      "              precision    recall  f1-score   support\n",
      "\n",
      "           0     0.9207    0.8998    0.9102     12790\n",
      "           1     0.8975    0.9188    0.9081     12210\n",
      "\n",
      "   micro avg     0.9091    0.9091    0.9091     25000\n",
      "   macro avg     0.9091    0.9093    0.9091     25000\n",
      "weighted avg     0.9094    0.9091    0.9091     25000\n",
      "\n",
      "-------------------------------\n",
      "\n",
      "Predict file: bertcnn_3cnn_f768_k234_e8.model\n",
      "\n",
      "              precision    recall  f1-score   support\n",
      "\n",
      "           0     0.9163    0.9024    0.9093     12693\n",
      "           1     0.9009    0.9150    0.9079     12307\n",
      "\n",
      "   micro avg     0.9086    0.9086    0.9086     25000\n",
      "   macro avg     0.9086    0.9087    0.9086     25000\n",
      "weighted avg     0.9087    0.9086    0.9086     25000\n",
      "\n",
      "-------------------------------\n",
      "\n",
      "Predict file: bertcnn_3cnn_f768_k234_e9.model\n",
      "\n",
      "              precision    recall  f1-score   support\n",
      "\n",
      "           0     0.8664    0.9369    0.9002     11560\n",
      "           1     0.9416    0.8757    0.9075     13440\n",
      "\n",
      "   micro avg     0.9040    0.9040    0.9040     25000\n",
      "   macro avg     0.9040    0.9063    0.9039     25000\n",
      "weighted avg     0.9068    0.9040    0.9041     25000\n",
      "\n",
      "-------------------------------\n",
      "\n"
     ]
    }
   ],
   "source": [
    "for i in range(10):\n",
    "    filename = 'bertcnn_3cnn_f768_k234_e'+str(i)+'.model'\n",
    "    model = load_model(filename)\n",
    "    y = model.predict_generator(\n",
    "        generator=test_generator,\n",
    "        verbose=0\n",
    "    )\n",
    "    pred = np.argmax(y, axis=1)\n",
    "    print('Predict file: {}\\n\\n{}\\n-------------------------------\\n'.format(filename,\n",
    "                                                                             classification_report(pred, test.polarity.values, digits=4)))\n"
   ]
  },
  {
   "cell_type": "code",
   "execution_count": 4,
   "metadata": {},
   "outputs": [],
   "source": [
    "import tmunlp as nlp\n",
    "\n",
    "\n",
    "result = nlp.get_label_term_weighting('tmunlp_file.txt', ['0','1'])\n",
    "x1 =  nlp.get_keyword('0', result, 50)\n",
    "x2 =  nlp.get_keyword('1', result, 50)"
   ]
  },
  {
   "cell_type": "code",
   "execution_count": 5,
   "metadata": {},
   "outputs": [
    {
     "name": "stdout",
     "output_type": "stream",
     "text": [
      "{'worst': 1706.1483176343, 'bad': 1449.2746364960954, 'waste': 1136.4784421247887, 'awful': 521.4571917637535, 'no': 521.221067047155, 'nothing': 515.4468047933894, 'stupid': 455.32281954525683, 'worse': 449.4413441540029, 'supposed': 443.6013667654656, 'poorly': 434.2027654745826, 'poor': 412.15603143573367, 'even': 401.36642708681666, 'bad.': 400.17435870085217, 'terrible': 383.329121129757, 'minutes': 367.6493424998815, 'boring': 357.52410862298154, 'horrible': 338.31785966231627, 'bad,': 338.1440528186075, 'lame': 320.45889514498947, 'awful.': 307.4845480495725, 'plot': 302.46288289098493, 'just': 291.6127316752045, 'wasted': 281.4846716715197, \"don't\": 278.8628030503114, 'money': 262.4749268983362, 'pointless': 262.4589064076291, 'badly': 249.60850130337656, 'script': 247.32662970117644, 'redeeming': 246.49952975680648, 'any': 241.97959852023632, 'thing': 237.84714135414515, 'movie': 226.01361227543293, 'acting': 225.076180321601, 'terrible.': 219.12721438235317, 'crap': 214.7381879517988, 'unless': 210.76152441451148, 'could': 208.658427501583, 'avoid': 207.8350292592529, 'ridiculous': 204.4112433031106, 'least': 201.0538223496776, 'fails': 199.92018515360837, 'why': 199.35677914512553, \"couldn't\": 194.92111483811766, 'annoying': 191.8488421040442, 'or': 188.63361716898544, 'dull': 185.94376672281743, 'decent': 185.63374609794494, 'awful,': 181.69522200413795, 'save': 181.69037984485266, 'cheap': 181.6606040362954}\n",
      "{'great': 908.7401252651807, 'excellent': 573.5549990049124, 'best': 535.153161305142, 'wonderful': 491.24140706693606, 'love': 344.44544146683893, 'well': 338.8124243020634, 'also': 323.1745082593052, 'loved': 314.1288474818937, 'beautiful': 308.94147503600266, 'favorite': 307.4502966877968, 'perfect': 294.65026375367347, 'highly': 268.84160184672186, 'amazing': 268.31603796663524, 'both': 236.16276068416028, 'very': 218.98776942681707, 'superb': 215.94838449376277, 'beautifully': 209.19695360077264, 'wonderfully': 201.45717616377286, 'performance': 201.152599745712, 'enjoyed': 193.54213650430654, 'fantastic': 188.8351270673483, 'always': 186.20847014717674, 'brilliant': 175.10234565317933, 'young': 171.94394744290707, 'performances': 162.75840591631652, 'true': 158.21507069410995, 'life': 156.94013194815807, 'touching': 156.04472151735126, 'powerful': 140.93538282245723, 'strong': 139.50416537095958, 'definitely': 138.68603396790252, 'captures': 137.84037160576008, 'especially': 137.12456434515298, 'job': 135.95579468358335, 'world': 135.682589148817, 'different': 131.95482136064538, 'terrific': 131.52719302148228, 'gives': 130.0357087734459, 'heart': 129.17647927413225, 'subtle': 126.77437015599199, 'greatest': 126.74067943065705, 'years': 123.47234948080131, 'unique': 121.67507602678319, 'family': 121.18400362700004, 'finest': 119.49672882441246, 'still': 119.11426942561548, 'delightful': 119.08347542288195, 'classic': 116.8071570418216, 'shows': 116.51656581252632, 'perfectly': 116.2495465878441}\n"
     ]
    }
   ],
   "source": [
    "print(x1)\n",
    "print(x2)"
   ]
  },
  {
   "cell_type": "code",
   "execution_count": 3,
   "metadata": {},
   "outputs": [],
   "source": [
    "new_df = train[['polarity', 'sentence']]\n",
    "new_df.to_csv('tmunlp_file.txt', sep='\\t', header=None, index=False)"
   ]
  },
  {
   "cell_type": "markdown",
   "metadata": {},
   "source": [
    "# TF-IDF"
   ]
  },
  {
   "cell_type": "code",
   "execution_count": 10,
   "metadata": {},
   "outputs": [
    {
     "data": {
      "text/plain": [
       "{'NB': array([0.8503249 , 0.86712346, 0.86394985, 0.86839071, 0.87356083,\n",
       "        0.86196287, 0.86422793, 0.86069694, 0.86586606, 0.86996503]),\n",
       " 'KNN': array([0.77115767, 0.78928929, 0.7716737 , 0.76163096, 0.78165532,\n",
       "        0.76871059, 0.79583065, 0.77128274, 0.78892033, 0.77502598])}"
      ]
     },
     "execution_count": 10,
     "metadata": {},
     "output_type": "execute_result"
    }
   ],
   "source": [
    "vectorizer = TfidfVectorizer()\n",
    "tfidf = vectorizer.fit_transform(train.sentence)\n",
    "\n",
    "def NB_model():\n",
    "    model = MultinomialNB()\n",
    "    rs = cross_val_score(model, \n",
    "                         tfidf,\n",
    "                         train.polarity,\n",
    "                         cv=10,\n",
    "                         scoring='f1_macro'\n",
    "                        )\n",
    "    return rs\n",
    "    \n",
    "NB_rs = NB_model()\n",
    "\n",
    "from sklearn.neighbors import KNeighborsClassifier\n",
    "\n",
    "def KNN_model():\n",
    "    model = KNeighborsClassifier()\n",
    "    rs = cross_val_score(\n",
    "        model,\n",
    "        tfidf,\n",
    "        train.polarity,\n",
    "        cv=10,\n",
    "        scoring='f1_macro'\n",
    "    )\n",
    "    return rs\n",
    "\n",
    "KNN_rs = KNN_model()\n",
    "\n",
    "ML_rs = {\n",
    "    'NB': NB_rs,\n",
    "    'KNN': KNN_rs\n",
    "}\n",
    "\n",
    "ML_rs"
   ]
  }
 ],
 "metadata": {
  "kernelspec": {
   "display_name": "Python 3",
   "language": "python",
   "name": "python3"
  },
  "language_info": {
   "codemirror_mode": {
    "name": "ipython",
    "version": 3
   },
   "file_extension": ".py",
   "mimetype": "text/x-python",
   "name": "python",
   "nbconvert_exporter": "python",
   "pygments_lexer": "ipython3",
   "version": "3.7.1"
  }
 },
 "nbformat": 4,
 "nbformat_minor": 2
}
