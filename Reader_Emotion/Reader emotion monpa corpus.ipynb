{
 "cells": [
  {
   "cell_type": "code",
   "execution_count": 71,
   "metadata": {},
   "outputs": [],
   "source": [
    "import os\n",
    "import monpa\n",
    "import pandas as pd\n",
    "from tqdm import tqdm_notebook as tqdm"
   ]
  },
  {
   "cell_type": "code",
   "execution_count": 23,
   "metadata": {},
   "outputs": [],
   "source": [
    "path = 'C:/Users/doudi/OneDrive/Documents/jpconf2020/Reader_Emotion'\n",
    "os.chdir(path)\n",
    "\n",
    "train = pd.read_csv('TrainingData.txt', sep='\\t', header=None)\n",
    "test = pd.read_csv('TestingData.txt', sep='\\t', header=None)"
   ]
  },
  {
   "cell_type": "code",
   "execution_count": 28,
   "metadata": {},
   "outputs": [],
   "source": [
    "frame = [train, test]\n",
    "data = pd.concat(frame)"
   ]
  },
  {
   "cell_type": "code",
   "execution_count": 42,
   "metadata": {},
   "outputs": [],
   "source": [
    "# df.columns = ['tag', 'title', 'content']\n",
    "mapping = {data.columns[0]:'tag', data.columns[1]: 'title', data.columns[2]:'content'}\n",
    "data = data.rename(columns=mapping)"
   ]
  },
  {
   "cell_type": "code",
   "execution_count": 44,
   "metadata": {},
   "outputs": [
    {
     "data": {
      "text/html": [
       "<div>\n",
       "<style scoped>\n",
       "    .dataframe tbody tr th:only-of-type {\n",
       "        vertical-align: middle;\n",
       "    }\n",
       "\n",
       "    .dataframe tbody tr th {\n",
       "        vertical-align: top;\n",
       "    }\n",
       "\n",
       "    .dataframe thead th {\n",
       "        text-align: right;\n",
       "    }\n",
       "</style>\n",
       "<table border=\"1\" class=\"dataframe\">\n",
       "  <thead>\n",
       "    <tr style=\"text-align: right;\">\n",
       "      <th></th>\n",
       "      <th>tag</th>\n",
       "      <th>title</th>\n",
       "      <th>content</th>\n",
       "    </tr>\n",
       "  </thead>\n",
       "  <tbody>\n",
       "    <tr>\n",
       "      <th>0</th>\n",
       "      <td>feel_angry</td>\n",
       "      <td>台灣世界競爭力評比下滑 馬英九呼籲要警惕</td>\n",
       "      <td>政治中心／台北報導 瑞士國際管理學院（IMD）31日發刊的「IMD世界競爭力年報」，台灣的評...</td>\n",
       "    </tr>\n",
       "    <tr>\n",
       "      <th>1</th>\n",
       "      <td>feel_angry</td>\n",
       "      <td>台股開盤下跌96.14點</td>\n",
       "      <td>（中央社台北1日電）台北股市今天開盤下跌96.14點，加權股價指數成為7205.36點，成交...</td>\n",
       "    </tr>\n",
       "    <tr>\n",
       "      <th>2</th>\n",
       "      <td>feel_angry</td>\n",
       "      <td>台電高價保證購電 民間電廠「躺著賺」</td>\n",
       "      <td>台電連年虧損，錢卻通通跑到民營公司，因為台電用高出市場的破格價收購民間電力，這個合約一簽25...</td>\n",
       "    </tr>\n",
       "    <tr>\n",
       "      <th>3</th>\n",
       "      <td>feel_angry</td>\n",
       "      <td>修剪上千路樹 竹科管局挨批不環保</td>\n",
       "      <td>位於竹科力行路旁上千顆五、六層高的檸檬桉樹，原本是新竹科學園區地標，四月間被科管局攔腰砍斷，...</td>\n",
       "    </tr>\n",
       "    <tr>\n",
       "      <th>4</th>\n",
       "      <td>feel_angry</td>\n",
       "      <td>停車怠速3分鐘開罰 最高6萬</td>\n",
       "      <td>（中央社記者魏紜鈴台北1日電）停車怠速逾3分鐘，今天起正式開罰。環保署表示，違規機車處新台幣...</td>\n",
       "    </tr>\n",
       "  </tbody>\n",
       "</table>\n",
       "</div>"
      ],
      "text/plain": [
       "          tag                 title  \\\n",
       "0  feel_angry  台灣世界競爭力評比下滑 馬英九呼籲要警惕   \n",
       "1  feel_angry          台股開盤下跌96.14點   \n",
       "2  feel_angry    台電高價保證購電 民間電廠「躺著賺」   \n",
       "3  feel_angry      修剪上千路樹 竹科管局挨批不環保   \n",
       "4  feel_angry        停車怠速3分鐘開罰 最高6萬   \n",
       "\n",
       "                                             content  \n",
       "0  政治中心／台北報導 瑞士國際管理學院（IMD）31日發刊的「IMD世界競爭力年報」，台灣的評...  \n",
       "1  （中央社台北1日電）台北股市今天開盤下跌96.14點，加權股價指數成為7205.36點，成交...  \n",
       "2  台電連年虧損，錢卻通通跑到民營公司，因為台電用高出市場的破格價收購民間電力，這個合約一簽25...  \n",
       "3  位於竹科力行路旁上千顆五、六層高的檸檬桉樹，原本是新竹科學園區地標，四月間被科管局攔腰砍斷，...  \n",
       "4  （中央社記者魏紜鈴台北1日電）停車怠速逾3分鐘，今天起正式開罰。環保署表示，違規機車處新台幣...  "
      ]
     },
     "execution_count": 44,
     "metadata": {},
     "output_type": "execute_result"
    }
   ],
   "source": [
    "data.head()"
   ]
  },
  {
   "cell_type": "code",
   "execution_count": 75,
   "metadata": {},
   "outputs": [],
   "source": [
    "def LongCut(long_sentence, split_char):\n",
    "    seg = []\n",
    "    for item in long_sentence.split(split_char):\n",
    "        if item != \"\\n\": seg.extend(monpa.cut(str(item+split_char)))\n",
    "    return seg[:-1]\n",
    "\n",
    "def preprocessing1(corpus):\n",
    "    result_ti = []\n",
    "    for item in tqdm(corpus.iloc[:,1]):\n",
    "        sentence = monpa.cut(item)\n",
    "        result_ti.append(sentence)\n",
    "    corpus['title_seg']=result_ti\n",
    "    \n",
    "    return corpus\n",
    "def preprocessing2(corpus):\n",
    "    result_co = []\n",
    "    for item in tqdm(corpus.iloc[:,2]):\n",
    "        sentence = LongCut(str(item), '，')\n",
    "        result_co.append(sentence)\n",
    "    corpus['content_seg']=result_co\n",
    "    \n",
    "    return corpus"
   ]
  },
  {
   "cell_type": "code",
   "execution_count": 76,
   "metadata": {},
   "outputs": [
    {
     "name": "stderr",
     "output_type": "stream",
     "text": [
      "C:\\Users\\doudi\\Anaconda3\\lib\\site-packages\\ipykernel_launcher.py:9: TqdmDeprecationWarning: This function will be removed in tqdm==5.0.0\n",
      "Please use `tqdm.notebook.tqdm` instead of `tqdm.tqdm_notebook`\n",
      "  if __name__ == '__main__':\n"
     ]
    },
    {
     "data": {
      "application/vnd.jupyter.widget-view+json": {
       "model_id": "0f5f0b2aa04840d7a0766f3face77375",
       "version_major": 2,
       "version_minor": 0
      },
      "text/plain": [
       "HBox(children=(FloatProgress(value=0.0, max=47275.0), HTML(value='')))"
      ]
     },
     "metadata": {},
     "output_type": "display_data"
    },
    {
     "name": "stdout",
     "output_type": "stream",
     "text": [
      "\n"
     ]
    },
    {
     "ename": "NameError",
     "evalue": "name 'corpus' is not defined",
     "output_type": "error",
     "traceback": [
      "\u001b[1;31m---------------------------------------------------------------------------\u001b[0m",
      "\u001b[1;31mNameError\u001b[0m                                 Traceback (most recent call last)",
      "\u001b[1;32m<ipython-input-76-c723eb9fe4f2>\u001b[0m in \u001b[0;36m<module>\u001b[1;34m\u001b[0m\n\u001b[0;32m      1\u001b[0m \u001b[0mCorpus\u001b[0m \u001b[1;33m=\u001b[0m \u001b[0mpreprocessing1\u001b[0m\u001b[1;33m(\u001b[0m\u001b[0mdata\u001b[0m\u001b[1;33m)\u001b[0m\u001b[1;33m\u001b[0m\u001b[1;33m\u001b[0m\u001b[0m\n\u001b[1;32m----> 2\u001b[1;33m \u001b[0mCorpus_n\u001b[0m \u001b[1;33m=\u001b[0m \u001b[0mpreprocessing2\u001b[0m\u001b[1;33m(\u001b[0m\u001b[0mcorpus\u001b[0m\u001b[1;33m)\u001b[0m\u001b[1;33m\u001b[0m\u001b[1;33m\u001b[0m\u001b[0m\n\u001b[0m",
      "\u001b[1;31mNameError\u001b[0m: name 'corpus' is not defined"
     ]
    }
   ],
   "source": [
    "Corpus = preprocessing1(data)"
   ]
  },
  {
   "cell_type": "code",
   "execution_count": 77,
   "metadata": {
    "scrolled": true
   },
   "outputs": [
    {
     "name": "stderr",
     "output_type": "stream",
     "text": [
      "C:\\Users\\doudi\\Anaconda3\\lib\\site-packages\\ipykernel_launcher.py:17: TqdmDeprecationWarning: This function will be removed in tqdm==5.0.0\n",
      "Please use `tqdm.notebook.tqdm` instead of `tqdm.tqdm_notebook`\n"
     ]
    },
    {
     "data": {
      "application/vnd.jupyter.widget-view+json": {
       "model_id": "04e0a9fe08df41309ada90b51b3ba223",
       "version_major": 2,
       "version_minor": 0
      },
      "text/plain": [
       "HBox(children=(FloatProgress(value=0.0, max=47275.0), HTML(value='')))"
      ]
     },
     "metadata": {},
     "output_type": "display_data"
    },
    {
     "name": "stdout",
     "output_type": "stream",
     "text": [
      "\n"
     ]
    }
   ],
   "source": [
    "Corpus_n = preprocessing2(Corpus)\n",
    "Corpus_n.to_csv('Reader_Emotion_Seg.csv', index=False)"
   ]
  },
  {
   "cell_type": "code",
   "execution_count": 138,
   "metadata": {},
   "outputs": [],
   "source": [
    "import re\n",
    "\n",
    "# load stop word file\n",
    "stw=[]\n",
    "with open('C:/Users/doudi/Downloads/chineses_stop_word.txt', 'r') as file:\n",
    "    for data in file.readlines():\n",
    "        data = data.strip()\n",
    "        stw.append(data)\n",
    "\n",
    "# remove stopword\n",
    "def movestopwords(s):\n",
    "    outstr = []\n",
    "    if s is not None:\n",
    "        for word in s:\n",
    "            if word not in stw:\n",
    "                if word != '\\t'and'\\n':\n",
    "                    outstr.append(word)\n",
    "                    # outstr += \" \"\n",
    "    return outstr\n",
    "\n",
    "\n",
    "def preprocessing3(corpus, stop_word):\n",
    "    result = []\n",
    "    for item in tqdm(corpus.iloc[:,3]):\n",
    "        if item is not None:\n",
    "            item = [x.strip(' ') for x in item]\n",
    "        result.append(movestopwords(item))\n",
    "    corpus['title_seg_no_stw']=result\n",
    "    \n",
    "    return corpus\n",
    "\n",
    "def preprocessing4(corpus, stop_word):\n",
    "    result = []\n",
    "    for item in tqdm(corpus.iloc[:,4]):\n",
    "        if item is not None:\n",
    "            item = [x.strip(' ') for x in item]\n",
    "        result.append(movestopwords(item))\n",
    "    len(result)\n",
    "    corpus['content_seg_no_stw']=result\n",
    "    \n",
    "    return corpus"
   ]
  },
  {
   "cell_type": "code",
   "execution_count": 139,
   "metadata": {
    "scrolled": true
   },
   "outputs": [
    {
     "name": "stderr",
     "output_type": "stream",
     "text": [
      "C:\\Users\\doudi\\Anaconda3\\lib\\site-packages\\ipykernel_launcher.py:24: TqdmDeprecationWarning: This function will be removed in tqdm==5.0.0\n",
      "Please use `tqdm.notebook.tqdm` instead of `tqdm.tqdm_notebook`\n"
     ]
    },
    {
     "data": {
      "application/vnd.jupyter.widget-view+json": {
       "model_id": "ece357f20eaa4d22a336da2bc25dc05e",
       "version_major": 2,
       "version_minor": 0
      },
      "text/plain": [
       "HBox(children=(FloatProgress(value=0.0, max=47275.0), HTML(value='')))"
      ]
     },
     "metadata": {},
     "output_type": "display_data"
    },
    {
     "name": "stdout",
     "output_type": "stream",
     "text": [
      "\n"
     ]
    },
    {
     "name": "stderr",
     "output_type": "stream",
     "text": [
      "C:\\Users\\doudi\\Anaconda3\\lib\\site-packages\\ipykernel_launcher.py:34: TqdmDeprecationWarning: This function will be removed in tqdm==5.0.0\n",
      "Please use `tqdm.notebook.tqdm` instead of `tqdm.tqdm_notebook`\n"
     ]
    },
    {
     "data": {
      "application/vnd.jupyter.widget-view+json": {
       "model_id": "6fb0bb43549f465c86851d271b20dc3e",
       "version_major": 2,
       "version_minor": 0
      },
      "text/plain": [
       "HBox(children=(FloatProgress(value=0.0, max=47275.0), HTML(value='')))"
      ]
     },
     "metadata": {},
     "output_type": "display_data"
    },
    {
     "name": "stdout",
     "output_type": "stream",
     "text": [
      "\n"
     ]
    }
   ],
   "source": [
    "Corpus_3 = preprocessing3(Corpus_n, stw)\n",
    "Corpus_4 = preprocessing4(Corpus_3, stw)"
   ]
  },
  {
   "cell_type": "code",
   "execution_count": 140,
   "metadata": {},
   "outputs": [
    {
     "data": {
      "text/html": [
       "<div>\n",
       "<style scoped>\n",
       "    .dataframe tbody tr th:only-of-type {\n",
       "        vertical-align: middle;\n",
       "    }\n",
       "\n",
       "    .dataframe tbody tr th {\n",
       "        vertical-align: top;\n",
       "    }\n",
       "\n",
       "    .dataframe thead th {\n",
       "        text-align: right;\n",
       "    }\n",
       "</style>\n",
       "<table border=\"1\" class=\"dataframe\">\n",
       "  <thead>\n",
       "    <tr style=\"text-align: right;\">\n",
       "      <th></th>\n",
       "      <th>tag</th>\n",
       "      <th>title</th>\n",
       "      <th>content</th>\n",
       "      <th>title_seg</th>\n",
       "      <th>content_seg</th>\n",
       "      <th>title_seg_no_stw</th>\n",
       "      <th>content_seg_no_stw</th>\n",
       "    </tr>\n",
       "  </thead>\n",
       "  <tbody>\n",
       "    <tr>\n",
       "      <th>0</th>\n",
       "      <td>feel_angry</td>\n",
       "      <td>台灣世界競爭力評比下滑 馬英九呼籲要警惕</td>\n",
       "      <td>政治中心／台北報導 瑞士國際管理學院（IMD）31日發刊的「IMD世界競爭力年報」，台灣的評...</td>\n",
       "      <td>[台灣, 世界, 競爭力, 評比, 下, 滑 馬英九, 呼籲, 要, 警惕]</td>\n",
       "      <td>[政治中心, ／, 台北, 報導,  , 瑞士, 國際, 管理學院, （, IMD, ）, ...</td>\n",
       "      <td>[世界, 競爭力, 評比, 滑 馬英九, 呼籲, 警惕]</td>\n",
       "      <td>[政治中心, 台北, 瑞士, 國際, 管理學院, IMD, 31, 發刊, IMD, 世界,...</td>\n",
       "    </tr>\n",
       "    <tr>\n",
       "      <th>1</th>\n",
       "      <td>feel_angry</td>\n",
       "      <td>台股開盤下跌96.14點</td>\n",
       "      <td>（中央社台北1日電）台北股市今天開盤下跌96.14點，加權股價指數成為7205.36點，成交...</td>\n",
       "      <td>[台股, 開盤, 下跌, 96.14, 點]</td>\n",
       "      <td>[（, 中央社, 台北, 1, 日, 電, ）, 台北, 股市, 今天, 開盤, 下跌, 9...</td>\n",
       "      <td>[台股, 開盤, 下跌, 96.14, 點]</td>\n",
       "      <td>[中央社, 台北, 電, 台北, 股市, 開盤, 下跌, 96.14, 點, 加權, 股價,...</td>\n",
       "    </tr>\n",
       "    <tr>\n",
       "      <th>2</th>\n",
       "      <td>feel_angry</td>\n",
       "      <td>台電高價保證購電 民間電廠「躺著賺」</td>\n",
       "      <td>台電連年虧損，錢卻通通跑到民營公司，因為台電用高出市場的破格價收購民間電力，這個合約一簽25...</td>\n",
       "      <td>[台電, 高價, 保證, 購, 電,  , 民間, 電廠, 「, 躺, 著, 賺, 」]</td>\n",
       "      <td>[台電, 連年, 虧損, ，, 錢, 卻, 通通, 跑到, 民營, 公司, ，, 因為, 台...</td>\n",
       "      <td>[台電, 高價, 保證, 購, 電, 民間, 電廠, 躺, 賺]</td>\n",
       "      <td>[台電, 連年, 虧損, 錢, 通通, 跑到, 民營, 台電, 用, 高出, 市場, 破格價...</td>\n",
       "    </tr>\n",
       "    <tr>\n",
       "      <th>3</th>\n",
       "      <td>feel_angry</td>\n",
       "      <td>修剪上千路樹 竹科管局挨批不環保</td>\n",
       "      <td>位於竹科力行路旁上千顆五、六層高的檸檬桉樹，原本是新竹科學園區地標，四月間被科管局攔腰砍斷，...</td>\n",
       "      <td>[修剪, 上千路樹,  竹科管局, 挨批, 不, 環保]</td>\n",
       "      <td>[位於, 竹科力, 行路, 旁, 上千, 顆, 五, 、, 六, 層, 高, 的, 檸檬, ...</td>\n",
       "      <td>[修剪, 上千路樹, 竹科管局, 挨批, 環保]</td>\n",
       "      <td>[位於, 竹科力, 行路, 旁, 上千, 顆, 五, 六, 層, 高, 檸檬, 桉樹, 原本...</td>\n",
       "    </tr>\n",
       "    <tr>\n",
       "      <th>4</th>\n",
       "      <td>feel_angry</td>\n",
       "      <td>停車怠速3分鐘開罰 最高6萬</td>\n",
       "      <td>（中央社記者魏紜鈴台北1日電）停車怠速逾3分鐘，今天起正式開罰。環保署表示，違規機車處新台幣...</td>\n",
       "      <td>[停車, 怠速, 3分鐘, 開罰,  , 最, 高, 6萬]</td>\n",
       "      <td>[（, 中央社, 記者, 魏紜鈴, 台北, 1, 日, 電, ）, 停車, 怠速, 逾, 3...</td>\n",
       "      <td>[停車, 怠速, 3分鐘, 開罰, 高, 6萬]</td>\n",
       "      <td>[中央社, 魏紜鈴, 台北, 電, 停車, 怠速, 逾, 分鐘, 起, 正式, 開罰, 環保...</td>\n",
       "    </tr>\n",
       "  </tbody>\n",
       "</table>\n",
       "</div>"
      ],
      "text/plain": [
       "          tag                 title  \\\n",
       "0  feel_angry  台灣世界競爭力評比下滑 馬英九呼籲要警惕   \n",
       "1  feel_angry          台股開盤下跌96.14點   \n",
       "2  feel_angry    台電高價保證購電 民間電廠「躺著賺」   \n",
       "3  feel_angry      修剪上千路樹 竹科管局挨批不環保   \n",
       "4  feel_angry        停車怠速3分鐘開罰 最高6萬   \n",
       "\n",
       "                                             content  \\\n",
       "0  政治中心／台北報導 瑞士國際管理學院（IMD）31日發刊的「IMD世界競爭力年報」，台灣的評...   \n",
       "1  （中央社台北1日電）台北股市今天開盤下跌96.14點，加權股價指數成為7205.36點，成交...   \n",
       "2  台電連年虧損，錢卻通通跑到民營公司，因為台電用高出市場的破格價收購民間電力，這個合約一簽25...   \n",
       "3  位於竹科力行路旁上千顆五、六層高的檸檬桉樹，原本是新竹科學園區地標，四月間被科管局攔腰砍斷，...   \n",
       "4  （中央社記者魏紜鈴台北1日電）停車怠速逾3分鐘，今天起正式開罰。環保署表示，違規機車處新台幣...   \n",
       "\n",
       "                                      title_seg  \\\n",
       "0        [台灣, 世界, 競爭力, 評比, 下, 滑 馬英九, 呼籲, 要, 警惕]   \n",
       "1                        [台股, 開盤, 下跌, 96.14, 點]   \n",
       "2  [台電, 高價, 保證, 購, 電,  , 民間, 電廠, 「, 躺, 著, 賺, 」]   \n",
       "3                  [修剪, 上千路樹,  竹科管局, 挨批, 不, 環保]   \n",
       "4                [停車, 怠速, 3分鐘, 開罰,  , 最, 高, 6萬]   \n",
       "\n",
       "                                         content_seg  \\\n",
       "0  [政治中心, ／, 台北, 報導,  , 瑞士, 國際, 管理學院, （, IMD, ）, ...   \n",
       "1  [（, 中央社, 台北, 1, 日, 電, ）, 台北, 股市, 今天, 開盤, 下跌, 9...   \n",
       "2  [台電, 連年, 虧損, ，, 錢, 卻, 通通, 跑到, 民營, 公司, ，, 因為, 台...   \n",
       "3  [位於, 竹科力, 行路, 旁, 上千, 顆, 五, 、, 六, 層, 高, 的, 檸檬, ...   \n",
       "4  [（, 中央社, 記者, 魏紜鈴, 台北, 1, 日, 電, ）, 停車, 怠速, 逾, 3...   \n",
       "\n",
       "                   title_seg_no_stw  \\\n",
       "0      [世界, 競爭力, 評比, 滑 馬英九, 呼籲, 警惕]   \n",
       "1            [台股, 開盤, 下跌, 96.14, 點]   \n",
       "2  [台電, 高價, 保證, 購, 電, 民間, 電廠, 躺, 賺]   \n",
       "3          [修剪, 上千路樹, 竹科管局, 挨批, 環保]   \n",
       "4          [停車, 怠速, 3分鐘, 開罰, 高, 6萬]   \n",
       "\n",
       "                                  content_seg_no_stw  \n",
       "0  [政治中心, 台北, 瑞士, 國際, 管理學院, IMD, 31, 發刊, IMD, 世界,...  \n",
       "1  [中央社, 台北, 電, 台北, 股市, 開盤, 下跌, 96.14, 點, 加權, 股價,...  \n",
       "2  [台電, 連年, 虧損, 錢, 通通, 跑到, 民營, 台電, 用, 高出, 市場, 破格價...  \n",
       "3  [位於, 竹科力, 行路, 旁, 上千, 顆, 五, 六, 層, 高, 檸檬, 桉樹, 原本...  \n",
       "4  [中央社, 魏紜鈴, 台北, 電, 停車, 怠速, 逾, 分鐘, 起, 正式, 開罰, 環保...  "
      ]
     },
     "execution_count": 140,
     "metadata": {},
     "output_type": "execute_result"
    }
   ],
   "source": [
    "Corpus_4.head()"
   ]
  },
  {
   "cell_type": "code",
   "execution_count": 144,
   "metadata": {},
   "outputs": [],
   "source": [
    "Corpus_4.tag.unique()\n",
    "Corpus_4['tag_Num']=Corpus_4['tag']\n",
    "Corpus_4.tag_Num.replace(['feel_angry', 'feel_worried', 'feel_boring', 'feel_happy',\n",
    "       'feel_odd', 'feel_depressing', 'feel_informative', 'feel_warm'], \n",
    "                     [0, 1, 2, 3, 4, 5, 6, 7], inplace=True)"
   ]
  },
  {
   "cell_type": "code",
   "execution_count": 147,
   "metadata": {},
   "outputs": [],
   "source": [
    "final=Corpus_4.filter(['tag','tag_Num','title','content','title_seg_no_stw','content_seg_no_stw'])"
   ]
  },
  {
   "cell_type": "code",
   "execution_count": 150,
   "metadata": {},
   "outputs": [],
   "source": [
    "final.to_csv('C:/Users/doudi/Downloads/Reader_Emotion_Seg_no_stopword.csv', \n",
    "             index=False, encoding=\"utf_8_sig\")"
   ]
  }
 ],
 "metadata": {
  "kernelspec": {
   "display_name": "Python 3",
   "language": "python",
   "name": "python3"
  },
  "language_info": {
   "codemirror_mode": {
    "name": "ipython",
    "version": 3
   },
   "file_extension": ".py",
   "mimetype": "text/x-python",
   "name": "python",
   "nbconvert_exporter": "python",
   "pygments_lexer": "ipython3",
   "version": "3.7.3"
  }
 },
 "nbformat": 4,
 "nbformat_minor": 2
}
