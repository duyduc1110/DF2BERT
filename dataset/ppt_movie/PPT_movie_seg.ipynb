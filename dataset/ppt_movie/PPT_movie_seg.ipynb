{
 "cells": [
  {
   "cell_type": "code",
   "execution_count": 39,
   "metadata": {},
   "outputs": [
    {
     "data": {
      "text/html": [
       "<div>\n",
       "<style scoped>\n",
       "    .dataframe tbody tr th:only-of-type {\n",
       "        vertical-align: middle;\n",
       "    }\n",
       "\n",
       "    .dataframe tbody tr th {\n",
       "        vertical-align: top;\n",
       "    }\n",
       "\n",
       "    .dataframe thead th {\n",
       "        text-align: right;\n",
       "    }\n",
       "</style>\n",
       "<table border=\"1\" class=\"dataframe\">\n",
       "  <thead>\n",
       "    <tr style=\"text-align: right;\">\n",
       "      <th></th>\n",
       "      <th>tag</th>\n",
       "      <th>content</th>\n",
       "    </tr>\n",
       "  </thead>\n",
       "  <tbody>\n",
       "    <tr>\n",
       "      <th>0</th>\n",
       "      <td>P</td>\n",
       "      <td>看 完 電影 後 似乎 做 上 時光 機回 歸到 年輕 的 熱血 想要 把 當下 的 感動 ...</td>\n",
       "    </tr>\n",
       "    <tr>\n",
       "      <th>1</th>\n",
       "      <td>P</td>\n",
       "      <td>防 有雷 這部 電影 算是 今年 來還 不錯 好看 的 而 這个 不斷 重 復 的 概念 也...</td>\n",
       "    </tr>\n",
       "    <tr>\n",
       "      <th>2</th>\n",
       "      <td>P</td>\n",
       "      <td>詳細 劇情 就 不談 了 直接 說 我 的 想法 吧 我 本身 是 一個 保險 業務員 看到...</td>\n",
       "    </tr>\n",
       "    <tr>\n",
       "      <th>3</th>\n",
       "      <td>P</td>\n",
       "      <td>賽 德克 巴萊 太陽旗 時光 之硯 部落 格 個人 板 劇照 圖文 版 如果 魏德聖 只是 ...</td>\n",
       "    </tr>\n",
       "    <tr>\n",
       "      <th>4</th>\n",
       "      <td>P</td>\n",
       "      <td>以下 爆雷慎入 今天 冒著風 大雨 大去 看 了 高年級 實習生 結果 看 完 大遠 百 早...</td>\n",
       "    </tr>\n",
       "  </tbody>\n",
       "</table>\n",
       "</div>"
      ],
      "text/plain": [
       "  tag                                            content\n",
       "0   P  看 完 電影 後 似乎 做 上 時光 機回 歸到 年輕 的 熱血 想要 把 當下 的 感動 ...\n",
       "1   P  防 有雷 這部 電影 算是 今年 來還 不錯 好看 的 而 這个 不斷 重 復 的 概念 也...\n",
       "2   P  詳細 劇情 就 不談 了 直接 說 我 的 想法 吧 我 本身 是 一個 保險 業務員 看到...\n",
       "3   P  賽 德克 巴萊 太陽旗 時光 之硯 部落 格 個人 板 劇照 圖文 版 如果 魏德聖 只是 ...\n",
       "4   P  以下 爆雷慎入 今天 冒著風 大雨 大去 看 了 高年級 實習生 結果 看 完 大遠 百 早..."
      ]
     },
     "execution_count": 39,
     "metadata": {},
     "output_type": "execute_result"
    }
   ],
   "source": [
    "import os\n",
    "import pandas as pd\n",
    "\n",
    "path = 'C:/Users/doudi/OneDrive/Documents/jpconf2020/ppt_movie'\n",
    "os.chdir(path)\n",
    "\n",
    "train = pd.read_csv('PPT_Movie_Review_train.txt', header=None, sep=\"\\t\")\n",
    "test = pd.read_csv('PPT_Movie_Review_test.txt', header=None, sep=\"\\t\")\n",
    "frame = [train, test]\n",
    "data = pd.concat(frame)\n",
    "mapping = {data.columns[0]:'tag', data.columns[1]: 'content'}\n",
    "data = data.rename(columns=mapping)\n",
    "data.head()"
   ]
  },
  {
   "cell_type": "code",
   "execution_count": 40,
   "metadata": {},
   "outputs": [
    {
     "data": {
      "text/plain": [
       "pandas.core.series.Series"
      ]
     },
     "execution_count": 40,
     "metadata": {},
     "output_type": "execute_result"
    }
   ],
   "source": [
    "type(data['content'][0])"
   ]
  },
  {
   "cell_type": "code",
   "execution_count": 41,
   "metadata": {},
   "outputs": [],
   "source": [
    "data.tag.unique()\n",
    "data['label']=data['tag']\n",
    "data.label.replace(['P', 'N'], [0, 1], inplace=True)"
   ]
  },
  {
   "cell_type": "code",
   "execution_count": 42,
   "metadata": {},
   "outputs": [],
   "source": [
    "data = data.filter(['tag', 'label', 'content'])"
   ]
  },
  {
   "cell_type": "code",
   "execution_count": 45,
   "metadata": {},
   "outputs": [
    {
     "name": "stderr",
     "output_type": "stream",
     "text": [
      "C:\\Users\\doudi\\Anaconda3\\lib\\site-packages\\ipykernel_launcher.py:5: TqdmDeprecationWarning: This function will be removed in tqdm==5.0.0\n",
      "Please use `tqdm.notebook.tqdm` instead of `tqdm.tqdm_notebook`\n",
      "  \"\"\"\n"
     ]
    },
    {
     "data": {
      "application/vnd.jupyter.widget-view+json": {
       "model_id": "67ed248f306d4659b2bec989ab4dff40",
       "version_major": 2,
       "version_minor": 0
      },
      "text/plain": [
       "HBox(children=(FloatProgress(value=0.0, max=4528.0), HTML(value='')))"
      ]
     },
     "metadata": {},
     "output_type": "display_data"
    },
    {
     "name": "stdout",
     "output_type": "stream",
     "text": [
      "\n"
     ]
    },
    {
     "name": "stderr",
     "output_type": "stream",
     "text": [
      "C:\\Users\\doudi\\Anaconda3\\lib\\site-packages\\ipykernel_launcher.py:28: TqdmDeprecationWarning: This function will be removed in tqdm==5.0.0\n",
      "Please use `tqdm.notebook.tqdm` instead of `tqdm.tqdm_notebook`\n"
     ]
    },
    {
     "data": {
      "application/vnd.jupyter.widget-view+json": {
       "model_id": "2a4bad7373504db9af0b318985b6a38d",
       "version_major": 2,
       "version_minor": 0
      },
      "text/plain": [
       "HBox(children=(FloatProgress(value=0.0, max=4528.0), HTML(value='')))"
      ]
     },
     "metadata": {},
     "output_type": "display_data"
    },
    {
     "name": "stdout",
     "output_type": "stream",
     "text": [
      "\n"
     ]
    }
   ],
   "source": [
    "from tqdm import tqdm_notebook as tqdm\n",
    "\n",
    "\n",
    "n = []\n",
    "for i in tqdm(data.iloc[:,2]):\n",
    "    n.append(i.split())\n",
    "data['content_seg'] = n\n",
    "\n",
    "# load stop word file\n",
    "stw=[]\n",
    "with open('C:/Users/doudi/Downloads/chineses_stop_word.txt', 'r') as file:\n",
    "    for d in file.readlines():\n",
    "        d = d.strip()\n",
    "        stw.append(d)\n",
    "\n",
    "# remove stopword\n",
    "def movestopwords(s):\n",
    "    outstr = []\n",
    "    for word in s:\n",
    "        if word not in stw:\n",
    "            if word != '\\t'and'\\n':\n",
    "                outstr.append(word)\n",
    "                    # outstr += \" \"\n",
    "    return outstr\n",
    "\n",
    "def preprocess(corpus, stop_word):\n",
    "    result = []\n",
    "    for item in tqdm(corpus.iloc[:,3]):\n",
    "        result.append(movestopwords(item))\n",
    "    corpus['content_no_stw']=result\n",
    "    \n",
    "    return corpus\n",
    "\n",
    "corpus = preprocess(data, stw)"
   ]
  },
  {
   "cell_type": "code",
   "execution_count": 46,
   "metadata": {},
   "outputs": [
    {
     "data": {
      "text/html": [
       "<div>\n",
       "<style scoped>\n",
       "    .dataframe tbody tr th:only-of-type {\n",
       "        vertical-align: middle;\n",
       "    }\n",
       "\n",
       "    .dataframe tbody tr th {\n",
       "        vertical-align: top;\n",
       "    }\n",
       "\n",
       "    .dataframe thead th {\n",
       "        text-align: right;\n",
       "    }\n",
       "</style>\n",
       "<table border=\"1\" class=\"dataframe\">\n",
       "  <thead>\n",
       "    <tr style=\"text-align: right;\">\n",
       "      <th></th>\n",
       "      <th>tag</th>\n",
       "      <th>label</th>\n",
       "      <th>content</th>\n",
       "      <th>content_seg</th>\n",
       "      <th>content_no_stw</th>\n",
       "    </tr>\n",
       "  </thead>\n",
       "  <tbody>\n",
       "    <tr>\n",
       "      <th>0</th>\n",
       "      <td>P</td>\n",
       "      <td>0</td>\n",
       "      <td>看 完 電影 後 似乎 做 上 時光 機回 歸到 年輕 的 熱血 想要 把 當下 的 感動 ...</td>\n",
       "      <td>[看, 完, 電影, 後, 似乎, 做, 上, 時光, 機回, 歸到, 年輕, 的, 熱血,...</td>\n",
       "      <td>[看, 完, 電影, 似乎, 時光, 機回, 歸到, 年輕, 熱血, 想要, 當下, 感動,...</td>\n",
       "    </tr>\n",
       "    <tr>\n",
       "      <th>1</th>\n",
       "      <td>P</td>\n",
       "      <td>0</td>\n",
       "      <td>防 有雷 這部 電影 算是 今年 來還 不錯 好看 的 而 這个 不斷 重 復 的 概念 也...</td>\n",
       "      <td>[防, 有雷, 這部, 電影, 算是, 今年, 來還, 不錯, 好看, 的, 而, 這个, ...</td>\n",
       "      <td>[防, 有雷, 這部, 電影, 算是, 來還, 不錯, 好看, 這个, 不斷, 重, 復, ...</td>\n",
       "    </tr>\n",
       "    <tr>\n",
       "      <th>2</th>\n",
       "      <td>P</td>\n",
       "      <td>0</td>\n",
       "      <td>詳細 劇情 就 不談 了 直接 說 我 的 想法 吧 我 本身 是 一個 保險 業務員 看到...</td>\n",
       "      <td>[詳細, 劇情, 就, 不談, 了, 直接, 說, 我, 的, 想法, 吧, 我, 本身, ...</td>\n",
       "      <td>[詳細, 劇情, 不談, 直接, 想法, 吧, 本身, 一個, 保險, 業務員, 看到, 東...</td>\n",
       "    </tr>\n",
       "    <tr>\n",
       "      <th>3</th>\n",
       "      <td>P</td>\n",
       "      <td>0</td>\n",
       "      <td>賽 德克 巴萊 太陽旗 時光 之硯 部落 格 個人 板 劇照 圖文 版 如果 魏德聖 只是 ...</td>\n",
       "      <td>[賽, 德克, 巴萊, 太陽旗, 時光, 之硯, 部落, 格, 個人, 板, 劇照, 圖文,...</td>\n",
       "      <td>[賽, 德克, 巴萊, 太陽旗, 時光, 之硯, 部落, 格, 個人, 板, 劇照, 圖文,...</td>\n",
       "    </tr>\n",
       "    <tr>\n",
       "      <th>4</th>\n",
       "      <td>P</td>\n",
       "      <td>0</td>\n",
       "      <td>以下 爆雷慎入 今天 冒著風 大雨 大去 看 了 高年級 實習生 結果 看 完 大遠 百 早...</td>\n",
       "      <td>[以下, 爆雷慎入, 今天, 冒著風, 大雨, 大去, 看, 了, 高年級, 實習生, 結果...</td>\n",
       "      <td>[以下, 爆雷慎入, 冒著風, 大雨, 大去, 看, 高年級, 實習生, 結果, 看, 完,...</td>\n",
       "    </tr>\n",
       "  </tbody>\n",
       "</table>\n",
       "</div>"
      ],
      "text/plain": [
       "  tag  label                                            content  \\\n",
       "0   P      0  看 完 電影 後 似乎 做 上 時光 機回 歸到 年輕 的 熱血 想要 把 當下 的 感動 ...   \n",
       "1   P      0  防 有雷 這部 電影 算是 今年 來還 不錯 好看 的 而 這个 不斷 重 復 的 概念 也...   \n",
       "2   P      0  詳細 劇情 就 不談 了 直接 說 我 的 想法 吧 我 本身 是 一個 保險 業務員 看到...   \n",
       "3   P      0  賽 德克 巴萊 太陽旗 時光 之硯 部落 格 個人 板 劇照 圖文 版 如果 魏德聖 只是 ...   \n",
       "4   P      0  以下 爆雷慎入 今天 冒著風 大雨 大去 看 了 高年級 實習生 結果 看 完 大遠 百 早...   \n",
       "\n",
       "                                         content_seg  \\\n",
       "0  [看, 完, 電影, 後, 似乎, 做, 上, 時光, 機回, 歸到, 年輕, 的, 熱血,...   \n",
       "1  [防, 有雷, 這部, 電影, 算是, 今年, 來還, 不錯, 好看, 的, 而, 這个, ...   \n",
       "2  [詳細, 劇情, 就, 不談, 了, 直接, 說, 我, 的, 想法, 吧, 我, 本身, ...   \n",
       "3  [賽, 德克, 巴萊, 太陽旗, 時光, 之硯, 部落, 格, 個人, 板, 劇照, 圖文,...   \n",
       "4  [以下, 爆雷慎入, 今天, 冒著風, 大雨, 大去, 看, 了, 高年級, 實習生, 結果...   \n",
       "\n",
       "                                      content_no_stw  \n",
       "0  [看, 完, 電影, 似乎, 時光, 機回, 歸到, 年輕, 熱血, 想要, 當下, 感動,...  \n",
       "1  [防, 有雷, 這部, 電影, 算是, 來還, 不錯, 好看, 這个, 不斷, 重, 復, ...  \n",
       "2  [詳細, 劇情, 不談, 直接, 想法, 吧, 本身, 一個, 保險, 業務員, 看到, 東...  \n",
       "3  [賽, 德克, 巴萊, 太陽旗, 時光, 之硯, 部落, 格, 個人, 板, 劇照, 圖文,...  \n",
       "4  [以下, 爆雷慎入, 冒著風, 大雨, 大去, 看, 高年級, 實習生, 結果, 看, 完,...  "
      ]
     },
     "execution_count": 46,
     "metadata": {},
     "output_type": "execute_result"
    }
   ],
   "source": [
    "corpus.head()"
   ]
  },
  {
   "cell_type": "code",
   "execution_count": 16,
   "metadata": {},
   "outputs": [
    {
     "data": {
      "text/html": [
       "<div>\n",
       "<style scoped>\n",
       "    .dataframe tbody tr th:only-of-type {\n",
       "        vertical-align: middle;\n",
       "    }\n",
       "\n",
       "    .dataframe tbody tr th {\n",
       "        vertical-align: top;\n",
       "    }\n",
       "\n",
       "    .dataframe thead th {\n",
       "        text-align: right;\n",
       "    }\n",
       "</style>\n",
       "<table border=\"1\" class=\"dataframe\">\n",
       "  <thead>\n",
       "    <tr style=\"text-align: right;\">\n",
       "      <th></th>\n",
       "      <th>tag</th>\n",
       "      <th>label</th>\n",
       "      <th>content</th>\n",
       "    </tr>\n",
       "  </thead>\n",
       "  <tbody>\n",
       "    <tr>\n",
       "      <th>0</th>\n",
       "      <td>P</td>\n",
       "      <td>0</td>\n",
       "      <td>看 完 電影 後 似乎 做 上 時光 機回 歸到 年輕 的 熱血 想要 把 當下 的 感動 ...</td>\n",
       "    </tr>\n",
       "    <tr>\n",
       "      <th>1</th>\n",
       "      <td>P</td>\n",
       "      <td>0</td>\n",
       "      <td>防 有雷 這部 電影 算是 今年 來還 不錯 好看 的 而 這个 不斷 重 復 的 概念 也...</td>\n",
       "    </tr>\n",
       "    <tr>\n",
       "      <th>2</th>\n",
       "      <td>P</td>\n",
       "      <td>0</td>\n",
       "      <td>詳細 劇情 就 不談 了 直接 說 我 的 想法 吧 我 本身 是 一個 保險 業務員 看到...</td>\n",
       "    </tr>\n",
       "    <tr>\n",
       "      <th>3</th>\n",
       "      <td>P</td>\n",
       "      <td>0</td>\n",
       "      <td>賽 德克 巴萊 太陽旗 時光 之硯 部落 格 個人 板 劇照 圖文 版 如果 魏德聖 只是 ...</td>\n",
       "    </tr>\n",
       "    <tr>\n",
       "      <th>4</th>\n",
       "      <td>P</td>\n",
       "      <td>0</td>\n",
       "      <td>以下 爆雷慎入 今天 冒著風 大雨 大去 看 了 高年級 實習生 結果 看 完 大遠 百 早...</td>\n",
       "    </tr>\n",
       "  </tbody>\n",
       "</table>\n",
       "</div>"
      ],
      "text/plain": [
       "  tag  label                                            content\n",
       "0   P      0  看 完 電影 後 似乎 做 上 時光 機回 歸到 年輕 的 熱血 想要 把 當下 的 感動 ...\n",
       "1   P      0  防 有雷 這部 電影 算是 今年 來還 不錯 好看 的 而 這个 不斷 重 復 的 概念 也...\n",
       "2   P      0  詳細 劇情 就 不談 了 直接 說 我 的 想法 吧 我 本身 是 一個 保險 業務員 看到...\n",
       "3   P      0  賽 德克 巴萊 太陽旗 時光 之硯 部落 格 個人 板 劇照 圖文 版 如果 魏德聖 只是 ...\n",
       "4   P      0  以下 爆雷慎入 今天 冒著風 大雨 大去 看 了 高年級 實習生 結果 看 完 大遠 百 早..."
      ]
     },
     "execution_count": 16,
     "metadata": {},
     "output_type": "execute_result"
    }
   ],
   "source": [
    "corpus.to_csv('PTT_movie_',index=False, encoding=\"utf_8_sig\")"
   ]
  }
 ],
 "metadata": {
  "kernelspec": {
   "display_name": "Python 3",
   "language": "python",
   "name": "python3"
  },
  "language_info": {
   "codemirror_mode": {
    "name": "ipython",
    "version": 3
   },
   "file_extension": ".py",
   "mimetype": "text/x-python",
   "name": "python",
   "nbconvert_exporter": "python",
   "pygments_lexer": "ipython3",
   "version": "3.7.3"
  }
 },
 "nbformat": 4,
 "nbformat_minor": 2
}
